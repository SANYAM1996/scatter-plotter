{
 "cells": [
  {
   "cell_type": "code",
   "execution_count": 1,
   "metadata": {},
   "outputs": [
    {
     "name": "stdout",
     "output_type": "stream",
     "text": [
      "Nick\n",
      "Lore\n",
      "Hugo\n"
     ]
    }
   ],
   "source": [
    "# We can iterate over a list using a for loop\n",
    "employees = ['Nick', 'Lore', 'Hugo']\n",
    "for item in employees:\n",
    "    print(item)"
   ]
  },
  {
   "cell_type": "code",
   "execution_count": 2,
   "metadata": {},
   "outputs": [
    {
     "name": "stdout",
     "output_type": "stream",
     "text": [
      "A\n",
      "S\n",
      "T\n",
      "R\n",
      "O\n",
      "L\n",
      "O\n",
      "G\n",
      "Y\n"
     ]
    }
   ],
   "source": [
    "# We can iterate over a string using a for loop\n",
    "for letter in ('ASTROLOGY'):\n",
    "    print(letter)\n"
   ]
  },
  {
   "cell_type": "code",
   "execution_count": 3,
   "metadata": {},
   "outputs": [
    {
     "name": "stdout",
     "output_type": "stream",
     "text": [
      "P\n",
      "O\n"
     ]
    }
   ],
   "source": [
    "word = 'POLYMORPHISIM'\n",
    "it = iter(word)\n",
    "print(next(it))\n",
    "print(next(it))\n",
    "# this goes upto the last character of word\n"
   ]
  },
  {
   "cell_type": "code",
   "execution_count": 4,
   "metadata": {},
   "outputs": [
    {
     "name": "stdout",
     "output_type": "stream",
     "text": [
      "e n c a p s u l a t i o n\n",
      "ENCAPSULATION\n"
     ]
    }
   ],
   "source": [
    "# Iterating at once with *\n",
    "word = 'encapsulation'\n",
    "it = iter(word)\n",
    "print(*it)\n",
    "print(word.upper())\n",
    "\n"
   ]
  },
  {
   "cell_type": "code",
   "execution_count": 5,
   "metadata": {},
   "outputs": [
    {
     "name": "stdout",
     "output_type": "stream",
     "text": [
      "hugo bowne-anderson\n",
      "francis castro\n"
     ]
    }
   ],
   "source": [
    "# Iterating over dictionaries\n",
    "pythonistas = {'hugo': 'bowne-anderson', 'francis':'castro'}\n",
    "for key, value in pythonistas.items():\n",
    "    print(key, value)"
   ]
  },
  {
   "cell_type": "code",
   "execution_count": 6,
   "metadata": {},
   "outputs": [
    {
     "name": "stdout",
     "output_type": "stream",
     "text": [
      "<class 'enumerate'>\n",
      "[(0, 'hawkeye'), (1, 'iron man'), (2, 'thor'), (3, 'quicksilver'), (4, 'hulk'), (5, 'black-widow'), (6, 'scarlet witch'), (7, 'vision'), (8, 'thanos'), (9, 'rocket'), (10, 'spider man')]\n"
     ]
    }
   ],
   "source": [
    "# Using enumerate()\n",
    "avengers = ['hawkeye', 'iron man', 'thor', 'quicksilver','hulk','black-widow','scarlet witch','vision','thanos','rocket','spider man']\n",
    "e = enumerate(avengers)\n",
    "print(type(e))\n",
    "e_list = list(e)\n",
    "print(e_list)"
   ]
  },
  {
   "cell_type": "code",
   "execution_count": 7,
   "metadata": {},
   "outputs": [
    {
     "name": "stdout",
     "output_type": "stream",
     "text": [
      "0 hawkeye\n",
      "1 iron man\n",
      "2 thor\n",
      "3 quicksilver\n",
      "4 hulk\n",
      "5 black-widow\n",
      "6 scarlet witch\n",
      "7 vision\n",
      "8 thanos\n",
      "9 rocket\n",
      "10 spider man\n"
     ]
    }
   ],
   "source": [
    "for index,value in enumerate(avengers):\n",
    "    print(index,value)\n",
    "    "
   ]
  },
  {
   "cell_type": "code",
   "execution_count": 8,
   "metadata": {},
   "outputs": [
    {
     "name": "stdout",
     "output_type": "stream",
     "text": [
      "<class 'zip'>\n",
      "[('hawkeye', 'barton'), ('iron man', 'stark'), ('thor', 'odinson'), ('quicksilver', 'maximoff'), ('hulk', 'mark ruffalo'), ('black-widow', 'scarlet jhonson'), ('scarlet witch', 'elizabeth olsen0'), ('vision', 'paul bettany'), ('thanos', 'josh brolin'), ('rocket', 'racoon'), ('spider man', 'tom holland')]\n"
     ]
    }
   ],
   "source": [
    "# Using zip()\n",
    "names = ['barton', 'stark', 'odinson', 'maximoff','mark ruffalo','scarlet jhonson','elizabeth olsen0','paul bettany','josh brolin','racoon','tom holland']\n",
    "z = zip(avengers, names)\n",
    "print(type(z))\n",
    "z_list = list(z)\n",
    "print(z_list)"
   ]
  },
  {
   "cell_type": "code",
   "execution_count": 9,
   "metadata": {},
   "outputs": [
    {
     "name": "stdout",
     "output_type": "stream",
     "text": [
      "('hawkeye', 'barton') ('iron man', 'stark') ('thor', 'odinson') ('quicksilver', 'maximoff') ('hulk', 'mark ruffalo') ('black-widow', 'scarlet jhonson') ('scarlet witch', 'elizabeth olsen0') ('vision', 'paul bettany') ('thanos', 'josh brolin') ('rocket', 'racoon') ('spider man', 'tom holland')\n"
     ]
    }
   ],
   "source": [
    "# Print zip with *\n",
    "z = zip(avengers, names)\n",
    "print(*z)"
   ]
  },
  {
   "cell_type": "code",
   "execution_count": 10,
   "metadata": {},
   "outputs": [
    {
     "data": {
      "text/plain": [
       "'C:\\\\Users\\\\user\\\\OneDrive\\\\Desktop\\\\scatter-plotter\\\\Datacamp'"
      ]
     },
     "execution_count": 10,
     "metadata": {},
     "output_type": "execute_result"
    }
   ],
   "source": [
    "pwd"
   ]
  },
  {
   "cell_type": "code",
   "execution_count": 11,
   "metadata": {},
   "outputs": [
    {
     "name": "stdout",
     "output_type": "stream",
     "text": [
      "C:\\Users\\user\\OneDrive\\Desktop\\CSV files\n"
     ]
    }
   ],
   "source": [
    "cd C:\\\\Users\\\\user\\\\OneDrive\\\\Desktop\\\\CSV files"
   ]
  },
  {
   "cell_type": "code",
   "execution_count": 12,
   "metadata": {},
   "outputs": [],
   "source": [
    "# iterating over data\n",
    "import pandas as pd"
   ]
  },
  {
   "cell_type": "code",
   "execution_count": 13,
   "metadata": {},
   "outputs": [
    {
     "name": "stdout",
     "output_type": "stream",
     "text": [
      "175\n"
     ]
    }
   ],
   "source": [
    "result = []\n",
    "for chunk in pd.read_csv('sales1.csv',chunksize = 1000):\n",
    "    result.append(sum(chunk['Units']))\n",
    "total = sum(result)\n",
    "print(total)"
   ]
  },
  {
   "cell_type": "code",
   "execution_count": 14,
   "metadata": {},
   "outputs": [
    {
     "name": "stdout",
     "output_type": "stream",
     "text": [
      "[13, 9, 22, 4, 17]\n"
     ]
    }
   ],
   "source": [
    "# list comprehension\n",
    "# populate a list with for loop\n",
    "nums = [12, 8, 21, 3, 16]\n",
    "new_nums = []\n",
    "for num in nums:\n",
    "    new_nums.append(num+1)\n",
    "print(new_nums)"
   ]
  },
  {
   "cell_type": "code",
   "execution_count": 15,
   "metadata": {},
   "outputs": [
    {
     "name": "stdout",
     "output_type": "stream",
     "text": [
      "[13, 9, 22, 4, 17]\n"
     ]
    }
   ],
   "source": [
    "# another way\n",
    "new_nums = [num + 1 for num in nums]\n",
    "print(new_nums)"
   ]
  },
  {
   "cell_type": "code",
   "execution_count": 16,
   "metadata": {},
   "outputs": [
    {
     "name": "stdout",
     "output_type": "stream",
     "text": [
      "[0, 1, 2, 3, 4, 5, 6, 7, 8, 9]\n"
     ]
    }
   ],
   "source": [
    "# list comprehension with range\n",
    "result = [num for num in range(10)]\n",
    "print(result)"
   ]
  },
  {
   "cell_type": "code",
   "execution_count": 17,
   "metadata": {},
   "outputs": [
    {
     "data": {
      "text/plain": [
       "[0, 0, 4, 0, 16, 0, 36, 0, 64, 0]"
      ]
     },
     "execution_count": 17,
     "metadata": {},
     "output_type": "execute_result"
    }
   ],
   "source": [
    "# conditionals in comprehension\n",
    "[num ** 2 if num % 2 == 0 else 0 for num in range(10)]"
   ]
  },
  {
   "cell_type": "code",
   "execution_count": 19,
   "metadata": {},
   "outputs": [
    {
     "name": "stdout",
     "output_type": "stream",
     "text": [
      "{0: 0, 1: -1, 2: -2, 3: -3, 4: -4, 5: -5, 6: -6, 7: -7, 8: -8}\n"
     ]
    }
   ],
   "source": [
    "# dict comprehension\n",
    "pos_neg = {num: -num for num in range(9)}\n",
    "print(pos_neg)"
   ]
  },
  {
   "cell_type": "code",
   "execution_count": 20,
   "metadata": {},
   "outputs": [
    {
     "data": {
      "text/plain": [
       "[0, 2, 4, 6, 8, 10, 12, 14, 16, 18]"
      ]
     },
     "execution_count": 20,
     "metadata": {},
     "output_type": "execute_result"
    }
   ],
   "source": [
    "# generators\n",
    "[2 * num for num in range(10)]"
   ]
  },
  {
   "cell_type": "code",
   "execution_count": null,
   "metadata": {},
   "outputs": [],
   "source": []
  }
 ],
 "metadata": {
  "kernelspec": {
   "display_name": "Python 3",
   "language": "python",
   "name": "python3"
  },
  "language_info": {
   "codemirror_mode": {
    "name": "ipython",
    "version": 3
   },
   "file_extension": ".py",
   "mimetype": "text/x-python",
   "name": "python",
   "nbconvert_exporter": "python",
   "pygments_lexer": "ipython3",
   "version": "3.7.4"
  }
 },
 "nbformat": 4,
 "nbformat_minor": 2
}

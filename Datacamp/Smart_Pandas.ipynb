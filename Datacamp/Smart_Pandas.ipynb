{
 "cells": [
  {
   "cell_type": "code",
   "execution_count": 1,
   "metadata": {},
   "outputs": [
    {
     "data": {
      "text/plain": [
       "'C:\\\\Users\\\\user\\\\OneDrive\\\\Desktop\\\\scatter-plotter\\\\Datacamp'"
      ]
     },
     "execution_count": 1,
     "metadata": {},
     "output_type": "execute_result"
    }
   ],
   "source": [
    "pwd"
   ]
  },
  {
   "cell_type": "code",
   "execution_count": 2,
   "metadata": {},
   "outputs": [
    {
     "name": "stdout",
     "output_type": "stream",
     "text": [
      "C:\\Users\\user\\OneDrive\\Desktop\\CSV files\n"
     ]
    }
   ],
   "source": [
    "cd C:\\\\Users\\\\user\\\\OneDrive\\\\Desktop\\\\CSV files"
   ]
  },
  {
   "cell_type": "code",
   "execution_count": 3,
   "metadata": {},
   "outputs": [],
   "source": [
    "import pandas as pd\n",
    "import numpy as np\n",
    "import matplotlib.pyplot as plt\n",
    "import seaborn as sns"
   ]
  },
  {
   "cell_type": "code",
   "execution_count": 4,
   "metadata": {},
   "outputs": [
    {
     "name": "stderr",
     "output_type": "stream",
     "text": [
      "C:\\ProgramData\\Anaconda3\\lib\\site-packages\\IPython\\core\\interactiveshell.py:3057: DtypeWarning: Columns (3,13,14,15,16,17,18,19,20,21,22,23,24) have mixed types. Specify dtype option on import or set low_memory=False.\n",
      "  interactivity=interactivity, compiler=compiler, result=result)\n"
     ]
    },
    {
     "data": {
      "text/html": [
       "<div>\n",
       "<style scoped>\n",
       "    .dataframe tbody tr th:only-of-type {\n",
       "        vertical-align: middle;\n",
       "    }\n",
       "\n",
       "    .dataframe tbody tr th {\n",
       "        vertical-align: top;\n",
       "    }\n",
       "\n",
       "    .dataframe thead th {\n",
       "        text-align: right;\n",
       "    }\n",
       "</style>\n",
       "<table border=\"1\" class=\"dataframe\">\n",
       "  <thead>\n",
       "    <tr style=\"text-align: right;\">\n",
       "      <th></th>\n",
       "      <th>raw_row_number</th>\n",
       "      <th>date</th>\n",
       "      <th>time</th>\n",
       "      <th>location</th>\n",
       "      <th>lat</th>\n",
       "      <th>lng</th>\n",
       "      <th>district</th>\n",
       "      <th>zone</th>\n",
       "      <th>subject_age</th>\n",
       "      <th>subject_race</th>\n",
       "      <th>...</th>\n",
       "      <th>frisk_performed</th>\n",
       "      <th>search_conducted</th>\n",
       "      <th>search_person</th>\n",
       "      <th>search_vehicle</th>\n",
       "      <th>search_basis</th>\n",
       "      <th>reason_for_stop</th>\n",
       "      <th>vehicle_color</th>\n",
       "      <th>vehicle_make</th>\n",
       "      <th>vehicle_model</th>\n",
       "      <th>vehicle_year</th>\n",
       "    </tr>\n",
       "  </thead>\n",
       "  <tbody>\n",
       "    <tr>\n",
       "      <th>0</th>\n",
       "      <td>1</td>\n",
       "      <td>2010-01-01</td>\n",
       "      <td>01:11:00</td>\n",
       "      <td>NaN</td>\n",
       "      <td>NaN</td>\n",
       "      <td>NaN</td>\n",
       "      <td>6</td>\n",
       "      <td>E</td>\n",
       "      <td>26.0</td>\n",
       "      <td>black</td>\n",
       "      <td>...</td>\n",
       "      <td>NaN</td>\n",
       "      <td>NaN</td>\n",
       "      <td>NaN</td>\n",
       "      <td>NaN</td>\n",
       "      <td>NaN</td>\n",
       "      <td>TRAFFIC VIOLATION</td>\n",
       "      <td>BLACK</td>\n",
       "      <td>DODGE</td>\n",
       "      <td>CARAVAN</td>\n",
       "      <td>2005.0</td>\n",
       "    </tr>\n",
       "    <tr>\n",
       "      <th>1</th>\n",
       "      <td>2</td>\n",
       "      <td>2010-01-01</td>\n",
       "      <td>02:06:00</td>\n",
       "      <td>NaN</td>\n",
       "      <td>NaN</td>\n",
       "      <td>NaN</td>\n",
       "      <td>5</td>\n",
       "      <td>D</td>\n",
       "      <td>17.0</td>\n",
       "      <td>black</td>\n",
       "      <td>...</td>\n",
       "      <td>NaN</td>\n",
       "      <td>NaN</td>\n",
       "      <td>NaN</td>\n",
       "      <td>NaN</td>\n",
       "      <td>NaN</td>\n",
       "      <td>CALL FOR SERVICE</td>\n",
       "      <td>NaN</td>\n",
       "      <td>NaN</td>\n",
       "      <td>NaN</td>\n",
       "      <td>NaN</td>\n",
       "    </tr>\n",
       "    <tr>\n",
       "      <th>2</th>\n",
       "      <td>3</td>\n",
       "      <td>2010-01-01</td>\n",
       "      <td>02:06:00</td>\n",
       "      <td>NaN</td>\n",
       "      <td>NaN</td>\n",
       "      <td>NaN</td>\n",
       "      <td>5</td>\n",
       "      <td>D</td>\n",
       "      <td>18.0</td>\n",
       "      <td>black</td>\n",
       "      <td>...</td>\n",
       "      <td>NaN</td>\n",
       "      <td>NaN</td>\n",
       "      <td>NaN</td>\n",
       "      <td>NaN</td>\n",
       "      <td>NaN</td>\n",
       "      <td>CALL FOR SERVICE</td>\n",
       "      <td>NaN</td>\n",
       "      <td>NaN</td>\n",
       "      <td>NaN</td>\n",
       "      <td>NaN</td>\n",
       "    </tr>\n",
       "    <tr>\n",
       "      <th>3</th>\n",
       "      <td>4</td>\n",
       "      <td>2010-01-01</td>\n",
       "      <td>02:06:00</td>\n",
       "      <td>NaN</td>\n",
       "      <td>NaN</td>\n",
       "      <td>NaN</td>\n",
       "      <td>5</td>\n",
       "      <td>D</td>\n",
       "      <td>30.0</td>\n",
       "      <td>black</td>\n",
       "      <td>...</td>\n",
       "      <td>NaN</td>\n",
       "      <td>NaN</td>\n",
       "      <td>NaN</td>\n",
       "      <td>NaN</td>\n",
       "      <td>NaN</td>\n",
       "      <td>CALL FOR SERVICE</td>\n",
       "      <td>NaN</td>\n",
       "      <td>NaN</td>\n",
       "      <td>NaN</td>\n",
       "      <td>NaN</td>\n",
       "    </tr>\n",
       "    <tr>\n",
       "      <th>4</th>\n",
       "      <td>5</td>\n",
       "      <td>2010-01-01</td>\n",
       "      <td>02:06:00</td>\n",
       "      <td>NaN</td>\n",
       "      <td>NaN</td>\n",
       "      <td>NaN</td>\n",
       "      <td>5</td>\n",
       "      <td>D</td>\n",
       "      <td>21.0</td>\n",
       "      <td>black</td>\n",
       "      <td>...</td>\n",
       "      <td>NaN</td>\n",
       "      <td>NaN</td>\n",
       "      <td>NaN</td>\n",
       "      <td>NaN</td>\n",
       "      <td>NaN</td>\n",
       "      <td>CALL FOR SERVICE</td>\n",
       "      <td>NaN</td>\n",
       "      <td>NaN</td>\n",
       "      <td>NaN</td>\n",
       "      <td>NaN</td>\n",
       "    </tr>\n",
       "  </tbody>\n",
       "</table>\n",
       "<p>5 rows × 30 columns</p>\n",
       "</div>"
      ],
      "text/plain": [
       "   raw_row_number        date      time location  lat  lng  district zone  \\\n",
       "0               1  2010-01-01  01:11:00      NaN  NaN  NaN         6    E   \n",
       "1               2  2010-01-01  02:06:00      NaN  NaN  NaN         5    D   \n",
       "2               3  2010-01-01  02:06:00      NaN  NaN  NaN         5    D   \n",
       "3               4  2010-01-01  02:06:00      NaN  NaN  NaN         5    D   \n",
       "4               5  2010-01-01  02:06:00      NaN  NaN  NaN         5    D   \n",
       "\n",
       "   subject_age subject_race  ... frisk_performed search_conducted  \\\n",
       "0         26.0        black  ...             NaN              NaN   \n",
       "1         17.0        black  ...             NaN              NaN   \n",
       "2         18.0        black  ...             NaN              NaN   \n",
       "3         30.0        black  ...             NaN              NaN   \n",
       "4         21.0        black  ...             NaN              NaN   \n",
       "\n",
       "  search_person search_vehicle search_basis    reason_for_stop vehicle_color  \\\n",
       "0           NaN            NaN          NaN  TRAFFIC VIOLATION         BLACK   \n",
       "1           NaN            NaN          NaN   CALL FOR SERVICE           NaN   \n",
       "2           NaN            NaN          NaN   CALL FOR SERVICE           NaN   \n",
       "3           NaN            NaN          NaN   CALL FOR SERVICE           NaN   \n",
       "4           NaN            NaN          NaN   CALL FOR SERVICE           NaN   \n",
       "\n",
       "  vehicle_make vehicle_model vehicle_year  \n",
       "0        DODGE       CARAVAN       2005.0  \n",
       "1          NaN           NaN          NaN  \n",
       "2          NaN           NaN          NaN  \n",
       "3          NaN           NaN          NaN  \n",
       "4          NaN           NaN          NaN  \n",
       "\n",
       "[5 rows x 30 columns]"
      ]
     },
     "execution_count": 4,
     "metadata": {},
     "output_type": "execute_result"
    }
   ],
   "source": [
    "police = pd.read_csv('police2.csv')\n",
    "police.head()"
   ]
  },
  {
   "cell_type": "code",
   "execution_count": 5,
   "metadata": {},
   "outputs": [
    {
     "data": {
      "text/plain": [
       "(513065, 30)"
      ]
     },
     "execution_count": 5,
     "metadata": {},
     "output_type": "execute_result"
    }
   ],
   "source": [
    "police.shape"
   ]
  },
  {
   "cell_type": "code",
   "execution_count": 6,
   "metadata": {},
   "outputs": [
    {
     "data": {
      "text/plain": [
       "raw_row_number          int64\n",
       "date                   object\n",
       "time                   object\n",
       "location               object\n",
       "lat                   float64\n",
       "lng                   float64\n",
       "district                int64\n",
       "zone                   object\n",
       "subject_age           float64\n",
       "subject_race           object\n",
       "subject_sex            object\n",
       "officer_assignment     object\n",
       "type                   object\n",
       "arrest_made            object\n",
       "citation_issued        object\n",
       "warning_issued         object\n",
       "outcome                object\n",
       "contraband_found       object\n",
       "contraband_drugs       object\n",
       "contraband_weapons     object\n",
       "frisk_performed        object\n",
       "search_conducted       object\n",
       "search_person          object\n",
       "search_vehicle         object\n",
       "search_basis           object\n",
       "reason_for_stop        object\n",
       "vehicle_color          object\n",
       "vehicle_make           object\n",
       "vehicle_model          object\n",
       "vehicle_year          float64\n",
       "dtype: object"
      ]
     },
     "execution_count": 6,
     "metadata": {},
     "output_type": "execute_result"
    }
   ],
   "source": [
    "police.dtypes"
   ]
  },
  {
   "cell_type": "code",
   "execution_count": 7,
   "metadata": {},
   "outputs": [
    {
     "data": {
      "text/plain": [
       "<bound method IndexOpsMixin.value_counts of 0               NaN\n",
       "1               NaN\n",
       "2               NaN\n",
       "3               NaN\n",
       "4               NaN\n",
       "5               NaN\n",
       "6               NaN\n",
       "7               NaN\n",
       "8               NaN\n",
       "9               NaN\n",
       "10              NaN\n",
       "11              NaN\n",
       "12              NaN\n",
       "13              NaN\n",
       "14              NaN\n",
       "15              NaN\n",
       "16              NaN\n",
       "17              NaN\n",
       "18              NaN\n",
       "19              NaN\n",
       "20              NaN\n",
       "21              NaN\n",
       "22              NaN\n",
       "23              NaN\n",
       "24              NaN\n",
       "25              NaN\n",
       "26              NaN\n",
       "27              NaN\n",
       "28              NaN\n",
       "29              NaN\n",
       "            ...    \n",
       "513035          NaN\n",
       "513036   -90.020917\n",
       "513037   -90.077763\n",
       "513038   -90.050107\n",
       "513039   -90.020917\n",
       "513040   -90.020917\n",
       "513041   -90.050107\n",
       "513042   -90.020917\n",
       "513043   -90.020917\n",
       "513044   -90.020917\n",
       "513045   -90.020917\n",
       "513046          NaN\n",
       "513047   -90.050107\n",
       "513048   -90.101281\n",
       "513049          NaN\n",
       "513050   -90.020917\n",
       "513051   -89.991955\n",
       "513052   -90.105378\n",
       "513053   -90.105378\n",
       "513054   -90.105378\n",
       "513055   -90.105378\n",
       "513056   -90.020917\n",
       "513057   -90.020917\n",
       "513058   -90.020917\n",
       "513059          NaN\n",
       "513060          NaN\n",
       "513061          NaN\n",
       "513062          NaN\n",
       "513063          NaN\n",
       "513064   -90.074753\n",
       "Name: lng, Length: 513065, dtype: float64>"
      ]
     },
     "execution_count": 7,
     "metadata": {},
     "output_type": "execute_result"
    }
   ],
   "source": [
    "police['lng'].value_counts"
   ]
  },
  {
   "cell_type": "code",
   "execution_count": 8,
   "metadata": {},
   "outputs": [
    {
     "data": {
      "text/plain": [
       "raw_row_number             0\n",
       "date                      10\n",
       "time                       0\n",
       "location               96644\n",
       "lat                   252441\n",
       "lng                   252441\n",
       "district                   0\n",
       "zone                       0\n",
       "subject_age            13185\n",
       "subject_race           12127\n",
       "subject_sex            12127\n",
       "officer_assignment       124\n",
       "type                  150149\n",
       "arrest_made           123349\n",
       "citation_issued       123349\n",
       "warning_issued        123349\n",
       "outcome               177385\n",
       "contraband_found      437263\n",
       "contraband_drugs      437263\n",
       "contraband_weapons    437263\n",
       "frisk_performed       123349\n",
       "search_conducted      123349\n",
       "search_person         123349\n",
       "search_vehicle        123349\n",
       "search_basis          437263\n",
       "reason_for_stop            0\n",
       "vehicle_color         239498\n",
       "vehicle_make          236111\n",
       "vehicle_model         253379\n",
       "vehicle_year          240697\n",
       "dtype: int64"
      ]
     },
     "execution_count": 8,
     "metadata": {},
     "output_type": "execute_result"
    }
   ],
   "source": [
    "police.isnull().sum()"
   ]
  },
  {
   "cell_type": "code",
   "execution_count": 9,
   "metadata": {},
   "outputs": [],
   "source": [
    "# remove the columns that only contains missing value\n",
    "police.drop('lat',axis=1,inplace = True)"
   ]
  },
  {
   "cell_type": "code",
   "execution_count": 10,
   "metadata": {},
   "outputs": [
    {
     "data": {
      "text/plain": [
       "(513065, 29)"
      ]
     },
     "execution_count": 10,
     "metadata": {},
     "output_type": "execute_result"
    }
   ],
   "source": [
    "police.shape"
   ]
  },
  {
   "cell_type": "code",
   "execution_count": 11,
   "metadata": {},
   "outputs": [
    {
     "data": {
      "text/plain": [
       "(513065, 29)"
      ]
     },
     "execution_count": 11,
     "metadata": {},
     "output_type": "execute_result"
    }
   ],
   "source": [
    "police.dropna(axis=1,how = 'all').shape"
   ]
  },
  {
   "cell_type": "code",
   "execution_count": 12,
   "metadata": {},
   "outputs": [
    {
     "data": {
      "text/plain": [
       "TRAFFIC VIOLATION         0.570764\n",
       "CALL FOR SERVICE          0.138604\n",
       "SUSPECT PERSON            0.124795\n",
       "CRIMINAL VIOLATION        0.058747\n",
       "OTHER                     0.047924\n",
       "CITIZEN CONTACT           0.030977\n",
       "SUSPECT VEHICLE           0.011790\n",
       "FLAGGED DOWN              0.008769\n",
       "JUVENILE VIOLATION        0.006085\n",
       "PRESENT AT CRIME SCENE    0.001546\n",
       "Name: reason_for_stop, dtype: float64"
      ]
     },
     "execution_count": 12,
     "metadata": {},
     "output_type": "execute_result"
    }
   ],
   "source": [
    "police['reason_for_stop'].value_counts(normalize = True)"
   ]
  },
  {
   "cell_type": "code",
   "execution_count": 13,
   "metadata": {},
   "outputs": [
    {
     "data": {
      "text/plain": [
       "male      24040\n",
       "female     5977\n",
       "Name: subject_sex, dtype: int64"
      ]
     },
     "execution_count": 13,
     "metadata": {},
     "output_type": "execute_result"
    }
   ],
   "source": [
    "police[police.reason_for_stop =='CRIMINAL VIOLATION'].subject_sex.value_counts()"
   ]
  },
  {
   "cell_type": "code",
   "execution_count": 14,
   "metadata": {},
   "outputs": [
    {
     "data": {
      "text/plain": [
       "TRAFFIC VIOLATION         0.526916\n",
       "SUSPECT PERSON            0.153437\n",
       "CALL FOR SERVICE          0.136092\n",
       "CRIMINAL VIOLATION        0.067768\n",
       "OTHER                     0.051649\n",
       "CITIZEN CONTACT           0.034338\n",
       "SUSPECT VEHICLE           0.011950\n",
       "FLAGGED DOWN              0.009788\n",
       "JUVENILE VIOLATION        0.006396\n",
       "PRESENT AT CRIME SCENE    0.001666\n",
       "Name: reason_for_stop, dtype: float64"
      ]
     },
     "execution_count": 14,
     "metadata": {},
     "output_type": "execute_result"
    }
   ],
   "source": [
    "police[police.subject_sex =='male'].reason_for_stop.value_counts(normalize = True)"
   ]
  },
  {
   "cell_type": "code",
   "execution_count": 15,
   "metadata": {},
   "outputs": [
    {
     "data": {
      "text/plain": [
       "TRAFFIC VIOLATION         0.657524\n",
       "CALL FOR SERVICE          0.150027\n",
       "SUSPECT PERSON            0.063379\n",
       "CRIMINAL VIOLATION        0.040882\n",
       "OTHER                     0.040554\n",
       "CITIZEN CONTACT           0.024843\n",
       "SUSPECT VEHICLE           0.009001\n",
       "FLAGGED DOWN              0.006642\n",
       "JUVENILE VIOLATION        0.005793\n",
       "PRESENT AT CRIME SCENE    0.001354\n",
       "Name: reason_for_stop, dtype: float64"
      ]
     },
     "execution_count": 15,
     "metadata": {},
     "output_type": "execute_result"
    }
   ],
   "source": [
    "police[police.subject_sex =='female'].reason_for_stop.value_counts(normalize = True)"
   ]
  },
  {
   "cell_type": "code",
   "execution_count": 16,
   "metadata": {},
   "outputs": [
    {
     "data": {
      "text/plain": [
       "subject_sex  reason_for_stop       \n",
       "female       TRAFFIC VIOLATION         0.657524\n",
       "             CALL FOR SERVICE          0.150027\n",
       "             SUSPECT PERSON            0.063379\n",
       "             CRIMINAL VIOLATION        0.040882\n",
       "             OTHER                     0.040554\n",
       "             CITIZEN CONTACT           0.024843\n",
       "             SUSPECT VEHICLE           0.009001\n",
       "             FLAGGED DOWN              0.006642\n",
       "             JUVENILE VIOLATION        0.005793\n",
       "             PRESENT AT CRIME SCENE    0.001354\n",
       "male         TRAFFIC VIOLATION         0.526916\n",
       "             SUSPECT PERSON            0.153437\n",
       "             CALL FOR SERVICE          0.136092\n",
       "             CRIMINAL VIOLATION        0.067768\n",
       "             OTHER                     0.051649\n",
       "             CITIZEN CONTACT           0.034338\n",
       "             SUSPECT VEHICLE           0.011950\n",
       "             FLAGGED DOWN              0.009788\n",
       "             JUVENILE VIOLATION        0.006396\n",
       "             PRESENT AT CRIME SCENE    0.001666\n",
       "Name: reason_for_stop, dtype: float64"
      ]
     },
     "execution_count": 16,
     "metadata": {},
     "output_type": "execute_result"
    }
   ],
   "source": [
    "police.groupby('subject_sex').reason_for_stop.value_counts(normalize = True)"
   ]
  },
  {
   "cell_type": "code",
   "execution_count": 17,
   "metadata": {},
   "outputs": [
    {
     "data": {
      "text/plain": [
       "0.19450574264336082"
      ]
     },
     "execution_count": 17,
     "metadata": {},
     "output_type": "execute_result"
    }
   ],
   "source": [
    "police.search_conducted.mean()"
   ]
  },
  {
   "cell_type": "code",
   "execution_count": 22,
   "metadata": {},
   "outputs": [
    {
     "data": {
      "text/plain": [
       "False    0.805494\n",
       "True     0.194506\n",
       "Name: search_conducted, dtype: float64"
      ]
     },
     "execution_count": 22,
     "metadata": {},
     "output_type": "execute_result"
    }
   ],
   "source": [
    "police['search_conducted'].value_counts(normalize = True)"
   ]
  },
  {
   "cell_type": "code",
   "execution_count": null,
   "metadata": {},
   "outputs": [],
   "source": []
  }
 ],
 "metadata": {
  "kernelspec": {
   "display_name": "Python 3",
   "language": "python",
   "name": "python3"
  },
  "language_info": {
   "codemirror_mode": {
    "name": "ipython",
    "version": 3
   },
   "file_extension": ".py",
   "mimetype": "text/x-python",
   "name": "python",
   "nbconvert_exporter": "python",
   "pygments_lexer": "ipython3",
   "version": "3.7.3"
  }
 },
 "nbformat": 4,
 "nbformat_minor": 2
}

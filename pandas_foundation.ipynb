{
 "cells": [
  {
   "cell_type": "code",
   "execution_count": 1,
   "metadata": {},
   "outputs": [
    {
     "data": {
      "text/plain": [
       "'C:\\\\Users\\\\user\\\\OneDrive\\\\Desktop\\\\scatter-plotter'"
      ]
     },
     "execution_count": 1,
     "metadata": {},
     "output_type": "execute_result"
    }
   ],
   "source": [
    "pwd"
   ]
  },
  {
   "cell_type": "code",
   "execution_count": 2,
   "metadata": {},
   "outputs": [],
   "source": [
    "import pandas as pd\n",
    "    "
   ]
  },
  {
   "cell_type": "code",
   "execution_count": 3,
   "metadata": {},
   "outputs": [
    {
     "name": "stdout",
     "output_type": "stream",
     "text": [
      "  weekday    city  visitors  signups\n",
      "0     sun  Austin       139        7\n",
      "1     sun  Dallas       236       12\n",
      "2     mon  Dallas       326        3\n",
      "3     mon  Austin       456        5\n"
     ]
    }
   ],
   "source": [
    "data = {'weekday' :['sun','sun','mon','mon'],\n",
    "       'city' :['Austin','Dallas','Dallas','Austin'],\n",
    "        'visitors' :[139,236,326,456],\n",
    "        'signups' :[7,12,3,5]}\n",
    "\n",
    "users = pd.DataFrame(data)\n",
    "print(users)\n",
    "        "
   ]
  },
  {
   "cell_type": "code",
   "execution_count": 4,
   "metadata": {},
   "outputs": [
    {
     "name": "stdout",
     "output_type": "stream",
     "text": [
      "[('city', ['Austin', 'Dallas', 'Austin', 'Dallas']), ('signups', [7, 12, 3, 5]), ('visitors', [139, 237, 326, 456]), ('weekday', ['Sun', 'Sun', 'Mon', 'Mon'])]\n"
     ]
    }
   ],
   "source": [
    "# calling data frame from different dictionary\n",
    "\n",
    "cities = ['Austin', 'Dallas', 'Austin', 'Dallas']\n",
    "signups = [7, 12, 3, 5]\n",
    "visitors = [139, 237, 326, 456]\n",
    "weekdays = ['Sun', 'Sun', 'Mon', 'Mon']\n",
    "list_labels = ['city', 'signups', 'visitors', 'weekday']\n",
    "list_cols = [cities,signups,visitors,weekdays]\n",
    "zipped = list(zip(list_labels, list_cols))\n",
    "print(zipped)"
   ]
  },
  {
   "cell_type": "code",
   "execution_count": 5,
   "metadata": {},
   "outputs": [],
   "source": [
    "data = dict(zipped)"
   ]
  },
  {
   "cell_type": "code",
   "execution_count": 6,
   "metadata": {},
   "outputs": [],
   "source": [
    "users = pd.DataFrame(data)"
   ]
  },
  {
   "cell_type": "code",
   "execution_count": 7,
   "metadata": {},
   "outputs": [
    {
     "name": "stdout",
     "output_type": "stream",
     "text": [
      "     city  signups  visitors weekday\n",
      "0  Austin        7       139     Sun\n",
      "1  Dallas       12       237     Sun\n",
      "2  Austin        3       326     Mon\n",
      "3  Dallas        5       456     Mon\n"
     ]
    }
   ],
   "source": [
    "print(users)"
   ]
  },
  {
   "cell_type": "code",
   "execution_count": 8,
   "metadata": {},
   "outputs": [],
   "source": [
    "# broadcasting\n",
    "users['fees'] = 0 "
   ]
  },
  {
   "cell_type": "code",
   "execution_count": 9,
   "metadata": {},
   "outputs": [
    {
     "name": "stdout",
     "output_type": "stream",
     "text": [
      "     city  signups  visitors weekday  fees\n",
      "0  Austin        7       139     Sun     0\n",
      "1  Dallas       12       237     Sun     0\n",
      "2  Austin        3       326     Mon     0\n",
      "3  Dallas        5       456     Mon     0\n"
     ]
    }
   ],
   "source": [
    "print(users)"
   ]
  },
  {
   "cell_type": "code",
   "execution_count": 10,
   "metadata": {},
   "outputs": [
    {
     "name": "stdout",
     "output_type": "stream",
     "text": [
      "   height sex\n",
      "0    59.0   M\n",
      "1    65.2   M\n",
      "2    62.9   M\n",
      "3    65.4   M\n",
      "4    63.7   M\n",
      "5    65.7   M\n",
      "6    64.1   M\n"
     ]
    }
   ],
   "source": [
    "# broadcasting with dict\n",
    "heights = [ 59.0, 65.2, 62.9, 65.4, 63.7, 65.7, 64.1 ]\n",
    "data = {'height': heights, 'sex': 'M'}\n",
    "results = pd.DataFrame(data)\n",
    "print(results)"
   ]
  },
  {
   "cell_type": "code",
   "execution_count": 11,
   "metadata": {},
   "outputs": [
    {
     "name": "stdout",
     "output_type": "stream",
     "text": [
      "   height (in) sex\n",
      "A         59.0   M\n",
      "B         65.2   M\n",
      "C         62.9   M\n",
      "D         65.4   M\n",
      "E         63.7   M\n",
      "F         65.7   M\n",
      "G         64.1   M\n"
     ]
    }
   ],
   "source": [
    "# index and columns\n",
    "results.columns = ['height (in)', 'sex']\n",
    "results.index = ['A', 'B', 'C', 'D', 'E', 'F', 'G']\n",
    "print(results)"
   ]
  },
  {
   "cell_type": "code",
   "execution_count": 15,
   "metadata": {},
   "outputs": [],
   "source": [
    "import matplotlib.pyplot as plt\n",
    "import quandl"
   ]
  },
  {
   "cell_type": "code",
   "execution_count": 23,
   "metadata": {},
   "outputs": [
    {
     "data": {
      "text/html": [
       "<div>\n",
       "<style scoped>\n",
       "    .dataframe tbody tr th:only-of-type {\n",
       "        vertical-align: middle;\n",
       "    }\n",
       "\n",
       "    .dataframe tbody tr th {\n",
       "        vertical-align: top;\n",
       "    }\n",
       "\n",
       "    .dataframe thead th {\n",
       "        text-align: right;\n",
       "    }\n",
       "</style>\n",
       "<table border=\"1\" class=\"dataframe\">\n",
       "  <thead>\n",
       "    <tr style=\"text-align: right;\">\n",
       "      <th></th>\n",
       "      <th>Median Price</th>\n",
       "      <th>Housing Opportunity Index</th>\n",
       "      <th>Median Income</th>\n",
       "      <th>National Rank</th>\n",
       "      <th>Regional Rank</th>\n",
       "      <th>Count</th>\n",
       "    </tr>\n",
       "    <tr>\n",
       "      <th>Quarter</th>\n",
       "      <th></th>\n",
       "      <th></th>\n",
       "      <th></th>\n",
       "      <th></th>\n",
       "      <th></th>\n",
       "      <th></th>\n",
       "    </tr>\n",
       "  </thead>\n",
       "  <tbody>\n",
       "    <tr>\n",
       "      <th>1991-03-31</th>\n",
       "      <td>128.0</td>\n",
       "      <td>25.7</td>\n",
       "      <td>36.0</td>\n",
       "      <td>130.0</td>\n",
       "      <td>22.0</td>\n",
       "      <td>NaN</td>\n",
       "    </tr>\n",
       "    <tr>\n",
       "      <th>1991-06-30</th>\n",
       "      <td>130.0</td>\n",
       "      <td>26.3</td>\n",
       "      <td>36.0</td>\n",
       "      <td>157.0</td>\n",
       "      <td>26.0</td>\n",
       "      <td>NaN</td>\n",
       "    </tr>\n",
       "    <tr>\n",
       "      <th>1991-09-30</th>\n",
       "      <td>134.0</td>\n",
       "      <td>25.1</td>\n",
       "      <td>36.0</td>\n",
       "      <td>174.0</td>\n",
       "      <td>25.0</td>\n",
       "      <td>NaN</td>\n",
       "    </tr>\n",
       "    <tr>\n",
       "      <th>1991-12-31</th>\n",
       "      <td>129.0</td>\n",
       "      <td>30.8</td>\n",
       "      <td>36.0</td>\n",
       "      <td>157.0</td>\n",
       "      <td>24.0</td>\n",
       "      <td>NaN</td>\n",
       "    </tr>\n",
       "    <tr>\n",
       "      <th>1992-03-31</th>\n",
       "      <td>129.0</td>\n",
       "      <td>31.4</td>\n",
       "      <td>36.0</td>\n",
       "      <td>151.0</td>\n",
       "      <td>23.0</td>\n",
       "      <td>NaN</td>\n",
       "    </tr>\n",
       "    <tr>\n",
       "      <th>1992-06-30</th>\n",
       "      <td>128.0</td>\n",
       "      <td>33.0</td>\n",
       "      <td>36.0</td>\n",
       "      <td>154.0</td>\n",
       "      <td>19.0</td>\n",
       "      <td>NaN</td>\n",
       "    </tr>\n",
       "    <tr>\n",
       "      <th>1992-09-30</th>\n",
       "      <td>126.0</td>\n",
       "      <td>38.5</td>\n",
       "      <td>36.0</td>\n",
       "      <td>170.0</td>\n",
       "      <td>24.0</td>\n",
       "      <td>NaN</td>\n",
       "    </tr>\n",
       "    <tr>\n",
       "      <th>1992-12-31</th>\n",
       "      <td>127.0</td>\n",
       "      <td>39.2</td>\n",
       "      <td>36.0</td>\n",
       "      <td>170.0</td>\n",
       "      <td>27.0</td>\n",
       "      <td>NaN</td>\n",
       "    </tr>\n",
       "    <tr>\n",
       "      <th>1993-03-31</th>\n",
       "      <td>118.0</td>\n",
       "      <td>63.9</td>\n",
       "      <td>41.1</td>\n",
       "      <td>163.0</td>\n",
       "      <td>13.0</td>\n",
       "      <td>NaN</td>\n",
       "    </tr>\n",
       "    <tr>\n",
       "      <th>1993-06-30</th>\n",
       "      <td>123.0</td>\n",
       "      <td>64.5</td>\n",
       "      <td>41.1</td>\n",
       "      <td>155.0</td>\n",
       "      <td>16.0</td>\n",
       "      <td>NaN</td>\n",
       "    </tr>\n",
       "    <tr>\n",
       "      <th>1993-09-30</th>\n",
       "      <td>123.0</td>\n",
       "      <td>68.4</td>\n",
       "      <td>41.1</td>\n",
       "      <td>151.0</td>\n",
       "      <td>14.0</td>\n",
       "      <td>NaN</td>\n",
       "    </tr>\n",
       "    <tr>\n",
       "      <th>1993-12-31</th>\n",
       "      <td>124.0</td>\n",
       "      <td>69.5</td>\n",
       "      <td>41.1</td>\n",
       "      <td>147.0</td>\n",
       "      <td>18.0</td>\n",
       "      <td>NaN</td>\n",
       "    </tr>\n",
       "    <tr>\n",
       "      <th>1994-03-31</th>\n",
       "      <td>123.0</td>\n",
       "      <td>74.2</td>\n",
       "      <td>42.3</td>\n",
       "      <td>132.0</td>\n",
       "      <td>14.0</td>\n",
       "      <td>NaN</td>\n",
       "    </tr>\n",
       "    <tr>\n",
       "      <th>1994-06-30</th>\n",
       "      <td>121.0</td>\n",
       "      <td>66.1</td>\n",
       "      <td>42.3</td>\n",
       "      <td>139.0</td>\n",
       "      <td>13.0</td>\n",
       "      <td>NaN</td>\n",
       "    </tr>\n",
       "    <tr>\n",
       "      <th>1994-09-30</th>\n",
       "      <td>119.0</td>\n",
       "      <td>65.3</td>\n",
       "      <td>42.3</td>\n",
       "      <td>113.0</td>\n",
       "      <td>4.0</td>\n",
       "      <td>NaN</td>\n",
       "    </tr>\n",
       "    <tr>\n",
       "      <th>1994-12-31</th>\n",
       "      <td>120.0</td>\n",
       "      <td>63.9</td>\n",
       "      <td>42.3</td>\n",
       "      <td>118.0</td>\n",
       "      <td>5.0</td>\n",
       "      <td>NaN</td>\n",
       "    </tr>\n",
       "    <tr>\n",
       "      <th>1995-03-31</th>\n",
       "      <td>112.0</td>\n",
       "      <td>65.3</td>\n",
       "      <td>42.3</td>\n",
       "      <td>103.0</td>\n",
       "      <td>5.0</td>\n",
       "      <td>10115.0</td>\n",
       "    </tr>\n",
       "    <tr>\n",
       "      <th>1995-06-30</th>\n",
       "      <td>112.0</td>\n",
       "      <td>66.5</td>\n",
       "      <td>42.3</td>\n",
       "      <td>93.0</td>\n",
       "      <td>3.0</td>\n",
       "      <td>10753.0</td>\n",
       "    </tr>\n",
       "    <tr>\n",
       "      <th>1995-09-30</th>\n",
       "      <td>114.0</td>\n",
       "      <td>68.6</td>\n",
       "      <td>42.3</td>\n",
       "      <td>81.0</td>\n",
       "      <td>4.0</td>\n",
       "      <td>7355.0</td>\n",
       "    </tr>\n",
       "    <tr>\n",
       "      <th>1995-12-31</th>\n",
       "      <td>114.0</td>\n",
       "      <td>70.8</td>\n",
       "      <td>42.3</td>\n",
       "      <td>81.0</td>\n",
       "      <td>4.0</td>\n",
       "      <td>9806.0</td>\n",
       "    </tr>\n",
       "    <tr>\n",
       "      <th>1996-03-31</th>\n",
       "      <td>112.0</td>\n",
       "      <td>73.3</td>\n",
       "      <td>43.3</td>\n",
       "      <td>84.0</td>\n",
       "      <td>4.0</td>\n",
       "      <td>8437.0</td>\n",
       "    </tr>\n",
       "    <tr>\n",
       "      <th>1996-06-30</th>\n",
       "      <td>114.0</td>\n",
       "      <td>68.5</td>\n",
       "      <td>43.3</td>\n",
       "      <td>96.0</td>\n",
       "      <td>6.0</td>\n",
       "      <td>9009.0</td>\n",
       "    </tr>\n",
       "    <tr>\n",
       "      <th>1996-09-30</th>\n",
       "      <td>110.0</td>\n",
       "      <td>68.9</td>\n",
       "      <td>43.3</td>\n",
       "      <td>66.0</td>\n",
       "      <td>3.0</td>\n",
       "      <td>11014.0</td>\n",
       "    </tr>\n",
       "    <tr>\n",
       "      <th>1996-12-31</th>\n",
       "      <td>113.0</td>\n",
       "      <td>68.4</td>\n",
       "      <td>43.3</td>\n",
       "      <td>96.0</td>\n",
       "      <td>5.0</td>\n",
       "      <td>10563.0</td>\n",
       "    </tr>\n",
       "    <tr>\n",
       "      <th>1997-03-31</th>\n",
       "      <td>110.0</td>\n",
       "      <td>73.2</td>\n",
       "      <td>44.8</td>\n",
       "      <td>79.0</td>\n",
       "      <td>4.0</td>\n",
       "      <td>9120.0</td>\n",
       "    </tr>\n",
       "    <tr>\n",
       "      <th>1997-06-30</th>\n",
       "      <td>111.0</td>\n",
       "      <td>71.3</td>\n",
       "      <td>44.8</td>\n",
       "      <td>91.0</td>\n",
       "      <td>4.0</td>\n",
       "      <td>12409.0</td>\n",
       "    </tr>\n",
       "    <tr>\n",
       "      <th>1997-09-30</th>\n",
       "      <td>115.0</td>\n",
       "      <td>70.7</td>\n",
       "      <td>44.8</td>\n",
       "      <td>90.0</td>\n",
       "      <td>4.0</td>\n",
       "      <td>10059.0</td>\n",
       "    </tr>\n",
       "    <tr>\n",
       "      <th>1997-12-31</th>\n",
       "      <td>119.0</td>\n",
       "      <td>69.5</td>\n",
       "      <td>44.8</td>\n",
       "      <td>100.0</td>\n",
       "      <td>4.0</td>\n",
       "      <td>10487.0</td>\n",
       "    </tr>\n",
       "    <tr>\n",
       "      <th>1998-03-31</th>\n",
       "      <td>128.0</td>\n",
       "      <td>69.2</td>\n",
       "      <td>46.5</td>\n",
       "      <td>117.0</td>\n",
       "      <td>11.0</td>\n",
       "      <td>6469.0</td>\n",
       "    </tr>\n",
       "    <tr>\n",
       "      <th>1998-06-30</th>\n",
       "      <td>127.0</td>\n",
       "      <td>68.8</td>\n",
       "      <td>46.5</td>\n",
       "      <td>114.0</td>\n",
       "      <td>9.0</td>\n",
       "      <td>12778.0</td>\n",
       "    </tr>\n",
       "    <tr>\n",
       "      <th>...</th>\n",
       "      <td>...</td>\n",
       "      <td>...</td>\n",
       "      <td>...</td>\n",
       "      <td>...</td>\n",
       "      <td>...</td>\n",
       "      <td>...</td>\n",
       "    </tr>\n",
       "    <tr>\n",
       "      <th>2011-12-31</th>\n",
       "      <td>168.0</td>\n",
       "      <td>75.7</td>\n",
       "      <td>62.5</td>\n",
       "      <td>170.0</td>\n",
       "      <td>44.0</td>\n",
       "      <td>23823.0</td>\n",
       "    </tr>\n",
       "    <tr>\n",
       "      <th>2012-03-31</th>\n",
       "      <td>165.0</td>\n",
       "      <td>77.5</td>\n",
       "      <td>63.3</td>\n",
       "      <td>167.0</td>\n",
       "      <td>45.0</td>\n",
       "      <td>23071.0</td>\n",
       "    </tr>\n",
       "    <tr>\n",
       "      <th>2012-06-30</th>\n",
       "      <td>180.0</td>\n",
       "      <td>74.0</td>\n",
       "      <td>63.3</td>\n",
       "      <td>169.0</td>\n",
       "      <td>44.0</td>\n",
       "      <td>24518.0</td>\n",
       "    </tr>\n",
       "    <tr>\n",
       "      <th>2012-09-30</th>\n",
       "      <td>189.0</td>\n",
       "      <td>74.2</td>\n",
       "      <td>63.3</td>\n",
       "      <td>175.0</td>\n",
       "      <td>47.0</td>\n",
       "      <td>22538.0</td>\n",
       "    </tr>\n",
       "    <tr>\n",
       "      <th>2012-12-31</th>\n",
       "      <td>202.0</td>\n",
       "      <td>71.8</td>\n",
       "      <td>63.3</td>\n",
       "      <td>191.0</td>\n",
       "      <td>51.0</td>\n",
       "      <td>22934.0</td>\n",
       "    </tr>\n",
       "    <tr>\n",
       "      <th>2013-03-31</th>\n",
       "      <td>208.0</td>\n",
       "      <td>68.9</td>\n",
       "      <td>62.6</td>\n",
       "      <td>190.0</td>\n",
       "      <td>48.0</td>\n",
       "      <td>19423.0</td>\n",
       "    </tr>\n",
       "    <tr>\n",
       "      <th>2013-06-30</th>\n",
       "      <td>228.0</td>\n",
       "      <td>62.3</td>\n",
       "      <td>62.6</td>\n",
       "      <td>196.0</td>\n",
       "      <td>49.0</td>\n",
       "      <td>22104.0</td>\n",
       "    </tr>\n",
       "    <tr>\n",
       "      <th>2013-09-30</th>\n",
       "      <td>240.0</td>\n",
       "      <td>54.3</td>\n",
       "      <td>62.6</td>\n",
       "      <td>199.0</td>\n",
       "      <td>52.0</td>\n",
       "      <td>21271.0</td>\n",
       "    </tr>\n",
       "    <tr>\n",
       "      <th>2013-12-31</th>\n",
       "      <td>245.0</td>\n",
       "      <td>52.5</td>\n",
       "      <td>62.6</td>\n",
       "      <td>200.0</td>\n",
       "      <td>53.0</td>\n",
       "      <td>18580.0</td>\n",
       "    </tr>\n",
       "    <tr>\n",
       "      <th>2014-03-31</th>\n",
       "      <td>246.0</td>\n",
       "      <td>49.3</td>\n",
       "      <td>60.7</td>\n",
       "      <td>208.0</td>\n",
       "      <td>54.0</td>\n",
       "      <td>16968.0</td>\n",
       "    </tr>\n",
       "    <tr>\n",
       "      <th>2014-06-30</th>\n",
       "      <td>260.0</td>\n",
       "      <td>46.7</td>\n",
       "      <td>60.7</td>\n",
       "      <td>206.0</td>\n",
       "      <td>53.0</td>\n",
       "      <td>20126.0</td>\n",
       "    </tr>\n",
       "    <tr>\n",
       "      <th>2014-09-30</th>\n",
       "      <td>265.0</td>\n",
       "      <td>45.6</td>\n",
       "      <td>60.7</td>\n",
       "      <td>209.0</td>\n",
       "      <td>53.0</td>\n",
       "      <td>18551.0</td>\n",
       "    </tr>\n",
       "    <tr>\n",
       "      <th>2014-12-31</th>\n",
       "      <td>269.0</td>\n",
       "      <td>45.5</td>\n",
       "      <td>60.7</td>\n",
       "      <td>209.0</td>\n",
       "      <td>53.0</td>\n",
       "      <td>17271.0</td>\n",
       "    </tr>\n",
       "    <tr>\n",
       "      <th>2015-03-31</th>\n",
       "      <td>270.0</td>\n",
       "      <td>46.9</td>\n",
       "      <td>60.5</td>\n",
       "      <td>208.0</td>\n",
       "      <td>53.0</td>\n",
       "      <td>15235.0</td>\n",
       "    </tr>\n",
       "    <tr>\n",
       "      <th>2015-06-30</th>\n",
       "      <td>280.0</td>\n",
       "      <td>44.9</td>\n",
       "      <td>60.5</td>\n",
       "      <td>210.0</td>\n",
       "      <td>53.0</td>\n",
       "      <td>21438.0</td>\n",
       "    </tr>\n",
       "    <tr>\n",
       "      <th>2015-09-30</th>\n",
       "      <td>290.0</td>\n",
       "      <td>41.0</td>\n",
       "      <td>60.5</td>\n",
       "      <td>208.0</td>\n",
       "      <td>53.0</td>\n",
       "      <td>21299.0</td>\n",
       "    </tr>\n",
       "    <tr>\n",
       "      <th>2015-12-31</th>\n",
       "      <td>298.0</td>\n",
       "      <td>39.8</td>\n",
       "      <td>60.5</td>\n",
       "      <td>211.0</td>\n",
       "      <td>54.0</td>\n",
       "      <td>19338.0</td>\n",
       "    </tr>\n",
       "    <tr>\n",
       "      <th>2016-03-31</th>\n",
       "      <td>290.0</td>\n",
       "      <td>43.4</td>\n",
       "      <td>61.4</td>\n",
       "      <td>217.0</td>\n",
       "      <td>54.0</td>\n",
       "      <td>17035.0</td>\n",
       "    </tr>\n",
       "    <tr>\n",
       "      <th>2016-06-30</th>\n",
       "      <td>302.0</td>\n",
       "      <td>42.0</td>\n",
       "      <td>61.4</td>\n",
       "      <td>213.0</td>\n",
       "      <td>51.0</td>\n",
       "      <td>21544.0</td>\n",
       "    </tr>\n",
       "    <tr>\n",
       "      <th>2016-09-30</th>\n",
       "      <td>306.0</td>\n",
       "      <td>41.7</td>\n",
       "      <td>61.4</td>\n",
       "      <td>206.0</td>\n",
       "      <td>49.0</td>\n",
       "      <td>19518.0</td>\n",
       "    </tr>\n",
       "    <tr>\n",
       "      <th>2016-12-31</th>\n",
       "      <td>311.0</td>\n",
       "      <td>39.1</td>\n",
       "      <td>61.4</td>\n",
       "      <td>193.0</td>\n",
       "      <td>51.0</td>\n",
       "      <td>19185.0</td>\n",
       "    </tr>\n",
       "    <tr>\n",
       "      <th>2017-03-31</th>\n",
       "      <td>315.0</td>\n",
       "      <td>37.7</td>\n",
       "      <td>63.2</td>\n",
       "      <td>206.0</td>\n",
       "      <td>52.0</td>\n",
       "      <td>17504.0</td>\n",
       "    </tr>\n",
       "    <tr>\n",
       "      <th>2017-06-30</th>\n",
       "      <td>332.0</td>\n",
       "      <td>35.4</td>\n",
       "      <td>63.2</td>\n",
       "      <td>215.0</td>\n",
       "      <td>55.0</td>\n",
       "      <td>22290.0</td>\n",
       "    </tr>\n",
       "    <tr>\n",
       "      <th>2017-09-30</th>\n",
       "      <td>335.0</td>\n",
       "      <td>34.0</td>\n",
       "      <td>63.2</td>\n",
       "      <td>212.0</td>\n",
       "      <td>53.0</td>\n",
       "      <td>21384.0</td>\n",
       "    </tr>\n",
       "    <tr>\n",
       "      <th>2017-12-31</th>\n",
       "      <td>338.0</td>\n",
       "      <td>33.9</td>\n",
       "      <td>63.2</td>\n",
       "      <td>217.0</td>\n",
       "      <td>51.0</td>\n",
       "      <td>19709.0</td>\n",
       "    </tr>\n",
       "    <tr>\n",
       "      <th>2018-03-31</th>\n",
       "      <td>342.0</td>\n",
       "      <td>35.9</td>\n",
       "      <td>65.8</td>\n",
       "      <td>219.0</td>\n",
       "      <td>54.0</td>\n",
       "      <td>17805.0</td>\n",
       "    </tr>\n",
       "    <tr>\n",
       "      <th>2018-06-30</th>\n",
       "      <td>350.0</td>\n",
       "      <td>30.3</td>\n",
       "      <td>65.8</td>\n",
       "      <td>218.0</td>\n",
       "      <td>53.0</td>\n",
       "      <td>21779.0</td>\n",
       "    </tr>\n",
       "    <tr>\n",
       "      <th>2018-09-30</th>\n",
       "      <td>355.0</td>\n",
       "      <td>28.8</td>\n",
       "      <td>65.8</td>\n",
       "      <td>218.0</td>\n",
       "      <td>52.0</td>\n",
       "      <td>20353.0</td>\n",
       "    </tr>\n",
       "    <tr>\n",
       "      <th>2018-12-31</th>\n",
       "      <td>362.0</td>\n",
       "      <td>27.1</td>\n",
       "      <td>65.8</td>\n",
       "      <td>217.0</td>\n",
       "      <td>53.0</td>\n",
       "      <td>17798.0</td>\n",
       "    </tr>\n",
       "    <tr>\n",
       "      <th>2019-03-31</th>\n",
       "      <td>355.0</td>\n",
       "      <td>32.6</td>\n",
       "      <td>69.7</td>\n",
       "      <td>220.0</td>\n",
       "      <td>55.0</td>\n",
       "      <td>15298.0</td>\n",
       "    </tr>\n",
       "  </tbody>\n",
       "</table>\n",
       "<p>107 rows × 6 columns</p>\n",
       "</div>"
      ],
      "text/plain": [
       "            Median Price  Housing Opportunity Index  Median Income  \\\n",
       "Quarter                                                              \n",
       "1991-03-31         128.0                       25.7           36.0   \n",
       "1991-06-30         130.0                       26.3           36.0   \n",
       "1991-09-30         134.0                       25.1           36.0   \n",
       "1991-12-31         129.0                       30.8           36.0   \n",
       "1992-03-31         129.0                       31.4           36.0   \n",
       "1992-06-30         128.0                       33.0           36.0   \n",
       "1992-09-30         126.0                       38.5           36.0   \n",
       "1992-12-31         127.0                       39.2           36.0   \n",
       "1993-03-31         118.0                       63.9           41.1   \n",
       "1993-06-30         123.0                       64.5           41.1   \n",
       "1993-09-30         123.0                       68.4           41.1   \n",
       "1993-12-31         124.0                       69.5           41.1   \n",
       "1994-03-31         123.0                       74.2           42.3   \n",
       "1994-06-30         121.0                       66.1           42.3   \n",
       "1994-09-30         119.0                       65.3           42.3   \n",
       "1994-12-31         120.0                       63.9           42.3   \n",
       "1995-03-31         112.0                       65.3           42.3   \n",
       "1995-06-30         112.0                       66.5           42.3   \n",
       "1995-09-30         114.0                       68.6           42.3   \n",
       "1995-12-31         114.0                       70.8           42.3   \n",
       "1996-03-31         112.0                       73.3           43.3   \n",
       "1996-06-30         114.0                       68.5           43.3   \n",
       "1996-09-30         110.0                       68.9           43.3   \n",
       "1996-12-31         113.0                       68.4           43.3   \n",
       "1997-03-31         110.0                       73.2           44.8   \n",
       "1997-06-30         111.0                       71.3           44.8   \n",
       "1997-09-30         115.0                       70.7           44.8   \n",
       "1997-12-31         119.0                       69.5           44.8   \n",
       "1998-03-31         128.0                       69.2           46.5   \n",
       "1998-06-30         127.0                       68.8           46.5   \n",
       "...                  ...                        ...            ...   \n",
       "2011-12-31         168.0                       75.7           62.5   \n",
       "2012-03-31         165.0                       77.5           63.3   \n",
       "2012-06-30         180.0                       74.0           63.3   \n",
       "2012-09-30         189.0                       74.2           63.3   \n",
       "2012-12-31         202.0                       71.8           63.3   \n",
       "2013-03-31         208.0                       68.9           62.6   \n",
       "2013-06-30         228.0                       62.3           62.6   \n",
       "2013-09-30         240.0                       54.3           62.6   \n",
       "2013-12-31         245.0                       52.5           62.6   \n",
       "2014-03-31         246.0                       49.3           60.7   \n",
       "2014-06-30         260.0                       46.7           60.7   \n",
       "2014-09-30         265.0                       45.6           60.7   \n",
       "2014-12-31         269.0                       45.5           60.7   \n",
       "2015-03-31         270.0                       46.9           60.5   \n",
       "2015-06-30         280.0                       44.9           60.5   \n",
       "2015-09-30         290.0                       41.0           60.5   \n",
       "2015-12-31         298.0                       39.8           60.5   \n",
       "2016-03-31         290.0                       43.4           61.4   \n",
       "2016-06-30         302.0                       42.0           61.4   \n",
       "2016-09-30         306.0                       41.7           61.4   \n",
       "2016-12-31         311.0                       39.1           61.4   \n",
       "2017-03-31         315.0                       37.7           63.2   \n",
       "2017-06-30         332.0                       35.4           63.2   \n",
       "2017-09-30         335.0                       34.0           63.2   \n",
       "2017-12-31         338.0                       33.9           63.2   \n",
       "2018-03-31         342.0                       35.9           65.8   \n",
       "2018-06-30         350.0                       30.3           65.8   \n",
       "2018-09-30         355.0                       28.8           65.8   \n",
       "2018-12-31         362.0                       27.1           65.8   \n",
       "2019-03-31         355.0                       32.6           69.7   \n",
       "\n",
       "            National Rank  Regional Rank    Count  \n",
       "Quarter                                            \n",
       "1991-03-31          130.0           22.0      NaN  \n",
       "1991-06-30          157.0           26.0      NaN  \n",
       "1991-09-30          174.0           25.0      NaN  \n",
       "1991-12-31          157.0           24.0      NaN  \n",
       "1992-03-31          151.0           23.0      NaN  \n",
       "1992-06-30          154.0           19.0      NaN  \n",
       "1992-09-30          170.0           24.0      NaN  \n",
       "1992-12-31          170.0           27.0      NaN  \n",
       "1993-03-31          163.0           13.0      NaN  \n",
       "1993-06-30          155.0           16.0      NaN  \n",
       "1993-09-30          151.0           14.0      NaN  \n",
       "1993-12-31          147.0           18.0      NaN  \n",
       "1994-03-31          132.0           14.0      NaN  \n",
       "1994-06-30          139.0           13.0      NaN  \n",
       "1994-09-30          113.0            4.0      NaN  \n",
       "1994-12-31          118.0            5.0      NaN  \n",
       "1995-03-31          103.0            5.0  10115.0  \n",
       "1995-06-30           93.0            3.0  10753.0  \n",
       "1995-09-30           81.0            4.0   7355.0  \n",
       "1995-12-31           81.0            4.0   9806.0  \n",
       "1996-03-31           84.0            4.0   8437.0  \n",
       "1996-06-30           96.0            6.0   9009.0  \n",
       "1996-09-30           66.0            3.0  11014.0  \n",
       "1996-12-31           96.0            5.0  10563.0  \n",
       "1997-03-31           79.0            4.0   9120.0  \n",
       "1997-06-30           91.0            4.0  12409.0  \n",
       "1997-09-30           90.0            4.0  10059.0  \n",
       "1997-12-31          100.0            4.0  10487.0  \n",
       "1998-03-31          117.0           11.0   6469.0  \n",
       "1998-06-30          114.0            9.0  12778.0  \n",
       "...                   ...            ...      ...  \n",
       "2011-12-31          170.0           44.0  23823.0  \n",
       "2012-03-31          167.0           45.0  23071.0  \n",
       "2012-06-30          169.0           44.0  24518.0  \n",
       "2012-09-30          175.0           47.0  22538.0  \n",
       "2012-12-31          191.0           51.0  22934.0  \n",
       "2013-03-31          190.0           48.0  19423.0  \n",
       "2013-06-30          196.0           49.0  22104.0  \n",
       "2013-09-30          199.0           52.0  21271.0  \n",
       "2013-12-31          200.0           53.0  18580.0  \n",
       "2014-03-31          208.0           54.0  16968.0  \n",
       "2014-06-30          206.0           53.0  20126.0  \n",
       "2014-09-30          209.0           53.0  18551.0  \n",
       "2014-12-31          209.0           53.0  17271.0  \n",
       "2015-03-31          208.0           53.0  15235.0  \n",
       "2015-06-30          210.0           53.0  21438.0  \n",
       "2015-09-30          208.0           53.0  21299.0  \n",
       "2015-12-31          211.0           54.0  19338.0  \n",
       "2016-03-31          217.0           54.0  17035.0  \n",
       "2016-06-30          213.0           51.0  21544.0  \n",
       "2016-09-30          206.0           49.0  19518.0  \n",
       "2016-12-31          193.0           51.0  19185.0  \n",
       "2017-03-31          206.0           52.0  17504.0  \n",
       "2017-06-30          215.0           55.0  22290.0  \n",
       "2017-09-30          212.0           53.0  21384.0  \n",
       "2017-12-31          217.0           51.0  19709.0  \n",
       "2018-03-31          219.0           54.0  17805.0  \n",
       "2018-06-30          218.0           53.0  21779.0  \n",
       "2018-09-30          218.0           52.0  20353.0  \n",
       "2018-12-31          217.0           53.0  17798.0  \n",
       "2019-03-31          220.0           55.0  15298.0  \n",
       "\n",
       "[107 rows x 6 columns]"
      ]
     },
     "execution_count": 23,
     "metadata": {},
     "output_type": "execute_result"
    }
   ],
   "source": [
    "df = quandl.get('NAHB/HOI_AREA_RIVERSIDESANBERNARDINOONTARIOCA',index_col = 'Quarter',parse_dates = 'True')\n",
    "df"
   ]
  },
  {
   "cell_type": "code",
   "execution_count": 21,
   "metadata": {},
   "outputs": [
    {
     "data": {
      "text/html": [
       "<div>\n",
       "<style scoped>\n",
       "    .dataframe tbody tr th:only-of-type {\n",
       "        vertical-align: middle;\n",
       "    }\n",
       "\n",
       "    .dataframe tbody tr th {\n",
       "        vertical-align: top;\n",
       "    }\n",
       "\n",
       "    .dataframe thead th {\n",
       "        text-align: right;\n",
       "    }\n",
       "</style>\n",
       "<table border=\"1\" class=\"dataframe\">\n",
       "  <thead>\n",
       "    <tr style=\"text-align: right;\">\n",
       "      <th></th>\n",
       "      <th>Median Price</th>\n",
       "      <th>Housing Opportunity Index</th>\n",
       "      <th>Median Income</th>\n",
       "      <th>National Rank</th>\n",
       "      <th>Regional Rank</th>\n",
       "      <th>Count</th>\n",
       "    </tr>\n",
       "  </thead>\n",
       "  <tbody>\n",
       "    <tr>\n",
       "      <th>count</th>\n",
       "      <td>107.000000</td>\n",
       "      <td>107.000000</td>\n",
       "      <td>107.000000</td>\n",
       "      <td>107.000000</td>\n",
       "      <td>107.000000</td>\n",
       "      <td>91.000000</td>\n",
       "    </tr>\n",
       "    <tr>\n",
       "      <th>mean</th>\n",
       "      <td>212.813084</td>\n",
       "      <td>49.489720</td>\n",
       "      <td>53.769159</td>\n",
       "      <td>158.224299</td>\n",
       "      <td>31.850467</td>\n",
       "      <td>21106.747253</td>\n",
       "    </tr>\n",
       "    <tr>\n",
       "      <th>std</th>\n",
       "      <td>91.655645</td>\n",
       "      <td>21.371233</td>\n",
       "      <td>9.642809</td>\n",
       "      <td>40.570532</td>\n",
       "      <td>18.514555</td>\n",
       "      <td>8416.904710</td>\n",
       "    </tr>\n",
       "    <tr>\n",
       "      <th>min</th>\n",
       "      <td>110.000000</td>\n",
       "      <td>6.700000</td>\n",
       "      <td>36.000000</td>\n",
       "      <td>66.000000</td>\n",
       "      <td>3.000000</td>\n",
       "      <td>6469.000000</td>\n",
       "    </tr>\n",
       "    <tr>\n",
       "      <th>25%</th>\n",
       "      <td>128.000000</td>\n",
       "      <td>33.050000</td>\n",
       "      <td>44.800000</td>\n",
       "      <td>136.000000</td>\n",
       "      <td>13.500000</td>\n",
       "      <td>15365.000000</td>\n",
       "    </tr>\n",
       "    <tr>\n",
       "      <th>50%</th>\n",
       "      <td>177.000000</td>\n",
       "      <td>50.800000</td>\n",
       "      <td>55.650000</td>\n",
       "      <td>155.000000</td>\n",
       "      <td>34.000000</td>\n",
       "      <td>19440.000000</td>\n",
       "    </tr>\n",
       "    <tr>\n",
       "      <th>75%</th>\n",
       "      <td>292.500000</td>\n",
       "      <td>69.050000</td>\n",
       "      <td>62.500000</td>\n",
       "      <td>197.500000</td>\n",
       "      <td>51.000000</td>\n",
       "      <td>25990.500000</td>\n",
       "    </tr>\n",
       "    <tr>\n",
       "      <th>max</th>\n",
       "      <td>393.000000</td>\n",
       "      <td>77.500000</td>\n",
       "      <td>69.700000</td>\n",
       "      <td>220.000000</td>\n",
       "      <td>57.000000</td>\n",
       "      <td>41919.000000</td>\n",
       "    </tr>\n",
       "  </tbody>\n",
       "</table>\n",
       "</div>"
      ],
      "text/plain": [
       "       Median Price  Housing Opportunity Index  Median Income  National Rank  \\\n",
       "count    107.000000                 107.000000     107.000000     107.000000   \n",
       "mean     212.813084                  49.489720      53.769159     158.224299   \n",
       "std       91.655645                  21.371233       9.642809      40.570532   \n",
       "min      110.000000                   6.700000      36.000000      66.000000   \n",
       "25%      128.000000                  33.050000      44.800000     136.000000   \n",
       "50%      177.000000                  50.800000      55.650000     155.000000   \n",
       "75%      292.500000                  69.050000      62.500000     197.500000   \n",
       "max      393.000000                  77.500000      69.700000     220.000000   \n",
       "\n",
       "       Regional Rank         Count  \n",
       "count     107.000000     91.000000  \n",
       "mean       31.850467  21106.747253  \n",
       "std        18.514555   8416.904710  \n",
       "min         3.000000   6469.000000  \n",
       "25%        13.500000  15365.000000  \n",
       "50%        34.000000  19440.000000  \n",
       "75%        51.000000  25990.500000  \n",
       "max        57.000000  41919.000000  "
      ]
     },
     "execution_count": 21,
     "metadata": {},
     "output_type": "execute_result"
    }
   ],
   "source": [
    "df.describe()"
   ]
  },
  {
   "cell_type": "code",
   "execution_count": 22,
   "metadata": {},
   "outputs": [
    {
     "name": "stdout",
     "output_type": "stream",
     "text": [
      "<class 'pandas.core.frame.DataFrame'>\n",
      "DatetimeIndex: 107 entries, 1991-03-31 to 2019-03-31\n",
      "Data columns (total 6 columns):\n",
      "Median Price                 107 non-null float64\n",
      "Housing Opportunity Index    107 non-null float64\n",
      "Median Income                107 non-null float64\n",
      "National Rank                107 non-null float64\n",
      "Regional Rank                107 non-null float64\n",
      "Count                        91 non-null float64\n",
      "dtypes: float64(6)\n",
      "memory usage: 5.9 KB\n"
     ]
    }
   ],
   "source": [
    "df.info()"
   ]
  },
  {
   "cell_type": "code",
   "execution_count": 24,
   "metadata": {},
   "outputs": [
    {
     "data": {
      "text/html": [
       "<div>\n",
       "<style scoped>\n",
       "    .dataframe tbody tr th:only-of-type {\n",
       "        vertical-align: middle;\n",
       "    }\n",
       "\n",
       "    .dataframe tbody tr th {\n",
       "        vertical-align: top;\n",
       "    }\n",
       "\n",
       "    .dataframe thead th {\n",
       "        text-align: right;\n",
       "    }\n",
       "</style>\n",
       "<table border=\"1\" class=\"dataframe\">\n",
       "  <thead>\n",
       "    <tr style=\"text-align: right;\">\n",
       "      <th></th>\n",
       "      <th>Median Price</th>\n",
       "      <th>Housing Opportunity Index</th>\n",
       "      <th>Median Income</th>\n",
       "      <th>National Rank</th>\n",
       "      <th>Regional Rank</th>\n",
       "      <th>Count</th>\n",
       "    </tr>\n",
       "    <tr>\n",
       "      <th>Quarter</th>\n",
       "      <th></th>\n",
       "      <th></th>\n",
       "      <th></th>\n",
       "      <th></th>\n",
       "      <th></th>\n",
       "      <th></th>\n",
       "    </tr>\n",
       "  </thead>\n",
       "  <tbody>\n",
       "    <tr>\n",
       "      <th>1991-03-31</th>\n",
       "      <td>128.0</td>\n",
       "      <td>25.7</td>\n",
       "      <td>36.0</td>\n",
       "      <td>130.0</td>\n",
       "      <td>22.0</td>\n",
       "      <td>NaN</td>\n",
       "    </tr>\n",
       "    <tr>\n",
       "      <th>1991-06-30</th>\n",
       "      <td>130.0</td>\n",
       "      <td>26.3</td>\n",
       "      <td>36.0</td>\n",
       "      <td>157.0</td>\n",
       "      <td>26.0</td>\n",
       "      <td>NaN</td>\n",
       "    </tr>\n",
       "    <tr>\n",
       "      <th>1991-09-30</th>\n",
       "      <td>134.0</td>\n",
       "      <td>25.1</td>\n",
       "      <td>36.0</td>\n",
       "      <td>174.0</td>\n",
       "      <td>25.0</td>\n",
       "      <td>NaN</td>\n",
       "    </tr>\n",
       "    <tr>\n",
       "      <th>1991-12-31</th>\n",
       "      <td>129.0</td>\n",
       "      <td>30.8</td>\n",
       "      <td>36.0</td>\n",
       "      <td>157.0</td>\n",
       "      <td>24.0</td>\n",
       "      <td>NaN</td>\n",
       "    </tr>\n",
       "    <tr>\n",
       "      <th>1992-03-31</th>\n",
       "      <td>129.0</td>\n",
       "      <td>31.4</td>\n",
       "      <td>36.0</td>\n",
       "      <td>151.0</td>\n",
       "      <td>23.0</td>\n",
       "      <td>NaN</td>\n",
       "    </tr>\n",
       "    <tr>\n",
       "      <th>1992-06-30</th>\n",
       "      <td>128.0</td>\n",
       "      <td>33.0</td>\n",
       "      <td>36.0</td>\n",
       "      <td>154.0</td>\n",
       "      <td>19.0</td>\n",
       "      <td>NaN</td>\n",
       "    </tr>\n",
       "    <tr>\n",
       "      <th>1992-09-30</th>\n",
       "      <td>126.0</td>\n",
       "      <td>38.5</td>\n",
       "      <td>36.0</td>\n",
       "      <td>170.0</td>\n",
       "      <td>24.0</td>\n",
       "      <td>NaN</td>\n",
       "    </tr>\n",
       "    <tr>\n",
       "      <th>1992-12-31</th>\n",
       "      <td>127.0</td>\n",
       "      <td>39.2</td>\n",
       "      <td>36.0</td>\n",
       "      <td>170.0</td>\n",
       "      <td>27.0</td>\n",
       "      <td>NaN</td>\n",
       "    </tr>\n",
       "    <tr>\n",
       "      <th>1993-03-31</th>\n",
       "      <td>118.0</td>\n",
       "      <td>63.9</td>\n",
       "      <td>41.1</td>\n",
       "      <td>163.0</td>\n",
       "      <td>13.0</td>\n",
       "      <td>NaN</td>\n",
       "    </tr>\n",
       "    <tr>\n",
       "      <th>1993-06-30</th>\n",
       "      <td>123.0</td>\n",
       "      <td>64.5</td>\n",
       "      <td>41.1</td>\n",
       "      <td>155.0</td>\n",
       "      <td>16.0</td>\n",
       "      <td>NaN</td>\n",
       "    </tr>\n",
       "  </tbody>\n",
       "</table>\n",
       "</div>"
      ],
      "text/plain": [
       "            Median Price  Housing Opportunity Index  Median Income  \\\n",
       "Quarter                                                              \n",
       "1991-03-31         128.0                       25.7           36.0   \n",
       "1991-06-30         130.0                       26.3           36.0   \n",
       "1991-09-30         134.0                       25.1           36.0   \n",
       "1991-12-31         129.0                       30.8           36.0   \n",
       "1992-03-31         129.0                       31.4           36.0   \n",
       "1992-06-30         128.0                       33.0           36.0   \n",
       "1992-09-30         126.0                       38.5           36.0   \n",
       "1992-12-31         127.0                       39.2           36.0   \n",
       "1993-03-31         118.0                       63.9           41.1   \n",
       "1993-06-30         123.0                       64.5           41.1   \n",
       "\n",
       "            National Rank  Regional Rank  Count  \n",
       "Quarter                                          \n",
       "1991-03-31          130.0           22.0    NaN  \n",
       "1991-06-30          157.0           26.0    NaN  \n",
       "1991-09-30          174.0           25.0    NaN  \n",
       "1991-12-31          157.0           24.0    NaN  \n",
       "1992-03-31          151.0           23.0    NaN  \n",
       "1992-06-30          154.0           19.0    NaN  \n",
       "1992-09-30          170.0           24.0    NaN  \n",
       "1992-12-31          170.0           27.0    NaN  \n",
       "1993-03-31          163.0           13.0    NaN  \n",
       "1993-06-30          155.0           16.0    NaN  "
      ]
     },
     "execution_count": 24,
     "metadata": {},
     "output_type": "execute_result"
    }
   ],
   "source": [
    "df.head(10)"
   ]
  },
  {
   "cell_type": "code",
   "execution_count": 30,
   "metadata": {},
   "outputs": [],
   "source": [
    "# plotting arrays\n",
    "close_arr = df['Median Income'].values\n",
    "\n"
   ]
  },
  {
   "cell_type": "code",
   "execution_count": 31,
   "metadata": {},
   "outputs": [
    {
     "data": {
      "text/plain": [
       "numpy.ndarray"
      ]
     },
     "execution_count": 31,
     "metadata": {},
     "output_type": "execute_result"
    }
   ],
   "source": [
    "type(close_arr)"
   ]
  },
  {
   "cell_type": "code",
   "execution_count": 32,
   "metadata": {},
   "outputs": [
    {
     "data": {
      "text/plain": [
       "[<matplotlib.lines.Line2D at 0x15b8130>]"
      ]
     },
     "execution_count": 32,
     "metadata": {},
     "output_type": "execute_result"
    },
    {
     "data": {
      "image/png": "[encoded data removed]",
      "text/plain": [
       "<Figure size 432x288 with 1 Axes>"
      ]
     },
     "metadata": {
      "needs_background": "light"
     },
     "output_type": "display_data"
    }
   ],
   "source": [
    "plt.plot(close_arr)"
   ]
  },
  {
   "cell_type": "code",
   "execution_count": 34,
   "metadata": {},
   "outputs": [],
   "source": [
    "# plotting series\n",
    "close_series = df['Median Income']"
   ]
  },
  {
   "cell_type": "code",
   "execution_count": 35,
   "metadata": {},
   "outputs": [
    {
     "data": {
      "text/plain": [
       "pandas.core.series.Series"
      ]
     },
     "execution_count": 35,
     "metadata": {},
     "output_type": "execute_result"
    }
   ],
   "source": [
    "type(close_series)"
   ]
  },
  {
   "cell_type": "code",
   "execution_count": 36,
   "metadata": {},
   "outputs": [
    {
     "data": {
      "text/plain": [
       "[<matplotlib.lines.Line2D at 0x14f5170>]"
      ]
     },
     "execution_count": 36,
     "metadata": {},
     "output_type": "execute_result"
    },
    {
     "data": {
      "image/png": "[encoded data removed]",
      "text/plain": [
       "<Figure size 432x288 with 1 Axes>"
      ]
     },
     "metadata": {
      "needs_background": "light"
     },
     "output_type": "display_data"
    }
   ],
   "source": [
    "plt.plot(close_series)"
   ]
  },
  {
   "cell_type": "code",
   "execution_count": 48,
   "metadata": {},
   "outputs": [
    {
     "data": {
      "text/plain": [
       "<matplotlib.axes._subplots.AxesSubplot at 0x51ccdd0>"
      ]
     },
     "execution_count": 48,
     "metadata": {},
     "output_type": "execute_result"
    },
    {
     "data": {
      "image/png": "[encoded data removed]",
      "text/plain": [
       "<Figure size 432x288 with 1 Axes>"
      ]
     },
     "metadata": {
      "needs_background": "light"
     },
     "output_type": "display_data"
    }
   ],
   "source": [
    "df.plot()\n"
   ]
  },
  {
   "cell_type": "code",
   "execution_count": 45,
   "metadata": {},
   "outputs": [
    {
     "data": {
      "text/plain": [
       "[<matplotlib.lines.Line2D at 0x518f030>,\n",
       " <matplotlib.lines.Line2D at 0xd4484b0>,\n",
       " <matplotlib.lines.Line2D at 0xd4485b0>,\n",
       " <matplotlib.lines.Line2D at 0xd448670>,\n",
       " <matplotlib.lines.Line2D at 0xd448730>,\n",
       " <matplotlib.lines.Line2D at 0xd4487f0>]"
      ]
     },
     "execution_count": 45,
     "metadata": {},
     "output_type": "execute_result"
    },
    {
     "data": {
      "image/png": "[encoded data removed]",
      "text/plain": [
       "<Figure size 432x288 with 1 Axes>"
      ]
     },
     "metadata": {
      "needs_background": "light"
     },
     "output_type": "display_data"
    }
   ],
   "source": [
    "plt.plot(df)"
   ]
  },
  {
   "cell_type": "code",
   "execution_count": 49,
   "metadata": {},
   "outputs": [
    {
     "data": {
      "image/png": "[encoded data removed]",
      "text/plain": [
       "<Figure size 432x288 with 1 Axes>"
      ]
     },
     "metadata": {
      "needs_background": "light"
     },
     "output_type": "display_data"
    }
   ],
   "source": [
    "# fixing scales\n",
    "df.plot()\n",
    "plt.yscale('log')"
   ]
  },
  {
   "cell_type": "code",
   "execution_count": 50,
   "metadata": {},
   "outputs": [
    {
     "data": {
      "text/plain": [
       "<matplotlib.axes._subplots.AxesSubplot at 0xd4a3930>"
      ]
     },
     "execution_count": 50,
     "metadata": {},
     "output_type": "execute_result"
    },
    {
     "data": {
      "image/png": "[encoded data removed]",
      "text/plain": [
       "<Figure size 432x288 with 1 Axes>"
      ]
     },
     "metadata": {
      "needs_background": "light"
     },
     "output_type": "display_data"
    }
   ],
   "source": [
    "# customizing\n",
    "df['Median Price'].plot(color = 'b',style = '.-',legend = True)\n"
   ]
  },
  {
   "cell_type": "code",
   "execution_count": 51,
   "metadata": {},
   "outputs": [
    {
     "data": {
      "text/plain": [
       "<matplotlib.axes._subplots.AxesSubplot at 0xd56d590>"
      ]
     },
     "execution_count": 51,
     "metadata": {},
     "output_type": "execute_result"
    },
    {
     "data": {
      "image/png": "[encoded data removed]",
      "text/plain": [
       "<Figure size 432x288 with 1 Axes>"
      ]
     },
     "metadata": {
      "needs_background": "light"
     },
     "output_type": "display_data"
    }
   ],
   "source": [
    "df['Regional Rank'].plot(color = 'r',style = '.',legend = True)"
   ]
  },
  {
   "cell_type": "code",
   "execution_count": 54,
   "metadata": {},
   "outputs": [
    {
     "data": {
      "text/plain": [
       "<Figure size 432x288 with 0 Axes>"
      ]
     },
     "metadata": {},
     "output_type": "display_data"
    }
   ],
   "source": [
    "plt.savefig('df.pdf')"
   ]
  },
  {
   "cell_type": "code",
   "execution_count": 57,
   "metadata": {},
   "outputs": [
    {
     "data": {
      "text/plain": [
       "<Figure size 432x288 with 0 Axes>"
      ]
     },
     "metadata": {},
     "output_type": "display_data"
    }
   ],
   "source": [
    "plt.savefig('df.png')\n",
    "\n",
    "plt.savefig('df.pdf')\n",
    "plt.show()"
   ]
  },
  {
   "cell_type": "code",
   "execution_count": null,
   "metadata": {},
   "outputs": [],
   "source": []
  }
 ],
 "metadata": {
  "kernelspec": {
   "display_name": "Python 3",
   "language": "python",
   "name": "python3"
  },
  "language_info": {
   "codemirror_mode": {
    "name": "ipython",
    "version": 3
   },
   "file_extension": ".py",
   "mimetype": "text/x-python",
   "name": "python",
   "nbconvert_exporter": "python",
   "pygments_lexer": "ipython3",
   "version": "3.7.1"
  }
 },
 "nbformat": 4,
 "nbformat_minor": 2
}

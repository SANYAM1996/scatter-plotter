{
 "cells": [
  {
   "cell_type": "code",
   "execution_count": 1,
   "metadata": {},
   "outputs": [
    {
     "name": "stdout",
     "output_type": "stream",
     "text": [
      "[0, 1, 2, 3, 4, 5, 6, 7, 8, 9]\n"
     ]
    },
    {
     "data": {
      "text/plain": [
       "[0, 1, 8, 27, 64, 125, 216, 343, 512, 729]"
      ]
     },
     "execution_count": 1,
     "metadata": {},
     "output_type": "execute_result"
    }
   ],
   "source": [
    "a = list(range(10))\n",
    "print(a)\n",
    "b = list(map(lambda x: x**3,a))\n",
    "b"
   ]
  },
  {
   "cell_type": "code",
   "execution_count": 2,
   "metadata": {},
   "outputs": [
    {
     "name": "stdout",
     "output_type": "stream",
     "text": [
      "[5, 4, 3, 2, 1]\n"
     ]
    }
   ],
   "source": [
    "def reverselist(list):\n",
    "    list.reverse()\n",
    "    return list\n",
    "numbers =[1,2,3,4,5]\n",
    "print(reverselist(numbers))"
   ]
  },
  {
   "cell_type": "code",
   "execution_count": 3,
   "metadata": {},
   "outputs": [
    {
     "name": "stdout",
     "output_type": "stream",
     "text": [
      "david that was great trick\n",
      "i cant wait for your next trick david\n",
      "alex that was great trick\n",
      "i cant wait for your next trick alex\n",
      "tyler that was great trick\n",
      "i cant wait for your next trick tyler\n",
      "thanks for everyone for your tricks see you soon\n"
     ]
    }
   ],
   "source": [
    "magicians = ['david','alex','tyler']\n",
    "for magician in magicians:\n",
    "    print(magician,'that was great trick')\n",
    "    print('i cant wait for your next trick',magician)\n",
    "print('thanks for everyone for your tricks see you soon')"
   ]
  },
  {
   "cell_type": "code",
   "execution_count": 4,
   "metadata": {},
   "outputs": [
    {
     "name": "stdout",
     "output_type": "stream",
     "text": [
      "i like all different aspect of this pizza farmhouse\n",
      "i like all different aspect of this pizza deluxe veggie\n",
      "i like all different aspect of this pizza corn\n",
      "i like all these pizzas\n"
     ]
    }
   ],
   "source": [
    "pizza = ['farmhouse','deluxe veggie','corn']\n",
    "for pizzas in pizza:\n",
    "    print('i like all different aspect of this pizza',pizzas)\n",
    "print('i like all these pizzas')"
   ]
  },
  {
   "cell_type": "code",
   "execution_count": 5,
   "metadata": {},
   "outputs": [
    {
     "name": "stdout",
     "output_type": "stream",
     "text": [
      "the given series is [0, 1, 2, 3, 4, 5, 6, 7, 8, 9, 10, 11, 12, 13, 14, 15, 16, 17, 18, 19, 20, 21, 22, 23, 24, 25, 26, 27, 28, 29, 30, 31, 32, 33, 34, 35, 36, 37, 38, 39, 40, 41, 42, 43, 44, 45, 46, 47, 48, 49]\n",
      "[0, 2, 4, 6, 8, 10, 12, 14, 16, 18, 20, 22, 24, 26, 28, 30, 32, 34, 36, 38, 40, 42, 44, 46, 48] are the required even numbers\n"
     ]
    }
   ],
   "source": [
    "a = list(range(0,50))\n",
    "print('the given series is',a)\n",
    "even_numbers = list(range(0,50,2))\n",
    "print(even_numbers,'are the required even numbers')"
   ]
  },
  {
   "cell_type": "code",
   "execution_count": 6,
   "metadata": {},
   "outputs": [
    {
     "name": "stdout",
     "output_type": "stream",
     "text": [
      "['yamaha', 'ducati', 'honda', 'hayabusa', 'suzuki']\n"
     ]
    }
   ],
   "source": [
    "motorcycle = []\n",
    "motorcycle.append('yamaha')\n",
    "motorcycle.append('ducati')\n",
    "motorcycle.append('honda')\n",
    "motorcycle.append('hayabusa')\n",
    "motorcycle.append('suzuki')\n",
    "\n",
    "\n",
    "print(motorcycle)"
   ]
  },
  {
   "cell_type": "code",
   "execution_count": 7,
   "metadata": {},
   "outputs": [],
   "source": [
    "motorcycle.insert(0,'triumph')"
   ]
  },
  {
   "cell_type": "code",
   "execution_count": 8,
   "metadata": {},
   "outputs": [
    {
     "name": "stdout",
     "output_type": "stream",
     "text": [
      "['triumph', 'yamaha', 'ducati', 'honda', 'hayabusa', 'suzuki']\n"
     ]
    }
   ],
   "source": [
    "print(motorcycle)"
   ]
  },
  {
   "cell_type": "code",
   "execution_count": 9,
   "metadata": {},
   "outputs": [
    {
     "name": "stdout",
     "output_type": "stream",
     "text": [
      "the last bike that i have bought is suzuki\n"
     ]
    }
   ],
   "source": [
    "pop_motorcycle = motorcycle.pop()\n",
    "print('the last bike that i have bought is',pop_motorcycle)"
   ]
  },
  {
   "cell_type": "code",
   "execution_count": 10,
   "metadata": {},
   "outputs": [
    {
     "name": "stdout",
     "output_type": "stream",
     "text": [
      "the last bike that i have bought is hayabusa\n"
     ]
    }
   ],
   "source": [
    "pop_motorcycle = motorcycle.pop()\n",
    "print('the last bike that i have bought is',pop_motorcycle)"
   ]
  },
  {
   "cell_type": "code",
   "execution_count": 11,
   "metadata": {},
   "outputs": [
    {
     "name": "stdout",
     "output_type": "stream",
     "text": [
      "my first motocycle was triumph\n"
     ]
    }
   ],
   "source": [
    "first_owned = motorcycle.pop(0)\n",
    "print('my first motocycle was',first_owned)"
   ]
  },
  {
   "cell_type": "code",
   "execution_count": 12,
   "metadata": {},
   "outputs": [
    {
     "name": "stdout",
     "output_type": "stream",
     "text": [
      "welcome to the party david\n",
      "welcome to the party alex\n",
      "welcome to the party roobbie\n",
      "welcome to the party chris\n",
      "welcome to the party tony\n",
      "welcome all !\n",
      "sorry guys tony will not come he has to build stark tower\n"
     ]
    }
   ],
   "source": [
    "guest_list = ['david','alex','roobbie','chris','tony']\n",
    "for guest in guest_list:\n",
    "    print('welcome to the party',guest)\n",
    "print('welcome all !')\n",
    "print('sorry guys',guest_list.pop(4),'will not come he has to build stark tower')\n"
   ]
  },
  {
   "cell_type": "code",
   "execution_count": 13,
   "metadata": {},
   "outputs": [],
   "source": [
    "guest_list.insert(4,'ben')"
   ]
  },
  {
   "cell_type": "code",
   "execution_count": 14,
   "metadata": {},
   "outputs": [
    {
     "name": "stdout",
     "output_type": "stream",
     "text": [
      "['david', 'alex', 'roobbie', 'chris', 'ben']\n"
     ]
    }
   ],
   "source": [
    "print(guest_list)"
   ]
  },
  {
   "cell_type": "code",
   "execution_count": 15,
   "metadata": {},
   "outputs": [
    {
     "name": "stdout",
     "output_type": "stream",
     "text": [
      "welcome to the party tony\n"
     ]
    }
   ],
   "source": [
    "\n",
    "print('welcome to the party',guest)"
   ]
  },
  {
   "cell_type": "code",
   "execution_count": 16,
   "metadata": {},
   "outputs": [
    {
     "name": "stdout",
     "output_type": "stream",
     "text": [
      "welcome to the party david\n",
      "sorry guys only 2 peoples are able to get the dinner because the table is small david\n",
      "welcome to the party alex\n",
      "sorry guys only 2 peoples are able to get the dinner because the table is small alex\n",
      "welcome to the party roobbie\n",
      "sorry guys only 2 peoples are able to get the dinner because the table is small roobbie\n",
      "welcome to the party chris\n",
      "sorry guys only 2 peoples are able to get the dinner because the table is small chris\n",
      "welcome to the party ben\n",
      "sorry guys only 2 peoples are able to get the dinner because the table is small ben\n"
     ]
    }
   ],
   "source": [
    "for guest in guest_list:\n",
    "    \n",
    "    print('welcome to the party',guest)\n",
    "    print('sorry guys only 2 peoples are able to get the dinner because the table is small',guest)\n"
   ]
  },
  {
   "cell_type": "code",
   "execution_count": 17,
   "metadata": {},
   "outputs": [
    {
     "name": "stdout",
     "output_type": "stream",
     "text": [
      "i am sorry i cant invite you david better luck next time\n"
     ]
    }
   ],
   "source": [
    "new_list = guest_list.pop(0)\n",
    "print('i am sorry i cant invite you',new_list, 'better luck next time')\n",
    "    "
   ]
  },
  {
   "cell_type": "code",
   "execution_count": 18,
   "metadata": {},
   "outputs": [],
   "source": [
    "cars = ['audi','bmw','dodge','tesla']\n",
    "cars.sort(reverse = True)"
   ]
  },
  {
   "cell_type": "code",
   "execution_count": 19,
   "metadata": {},
   "outputs": [
    {
     "data": {
      "text/plain": [
       "['tesla', 'dodge', 'bmw', 'audi']"
      ]
     },
     "execution_count": 19,
     "metadata": {},
     "output_type": "execute_result"
    }
   ],
   "source": [
    "cars"
   ]
  },
  {
   "cell_type": "code",
   "execution_count": 20,
   "metadata": {},
   "outputs": [],
   "source": [
    "cars = ['audi','bmw','dodge','tesla']\n",
    "cars.sort(reverse = False)"
   ]
  },
  {
   "cell_type": "code",
   "execution_count": 21,
   "metadata": {},
   "outputs": [
    {
     "data": {
      "text/plain": [
       "['audi', 'bmw', 'dodge', 'tesla']"
      ]
     },
     "execution_count": 21,
     "metadata": {},
     "output_type": "execute_result"
    }
   ],
   "source": [
    "cars"
   ]
  },
  {
   "cell_type": "code",
   "execution_count": 22,
   "metadata": {},
   "outputs": [],
   "source": [
    "cars = ['audi','bmw','dodge','tesla']\n",
    "cars.insert(2,'zen')"
   ]
  },
  {
   "cell_type": "code",
   "execution_count": 23,
   "metadata": {},
   "outputs": [
    {
     "name": "stdout",
     "output_type": "stream",
     "text": [
      "here is the original list ['audi', 'bmw', 'zen', 'dodge', 'tesla']\n"
     ]
    }
   ],
   "source": [
    "print('here is the original list',cars)"
   ]
  },
  {
   "cell_type": "code",
   "execution_count": 24,
   "metadata": {},
   "outputs": [],
   "source": [
    "cars.sort(reverse = True)"
   ]
  },
  {
   "cell_type": "code",
   "execution_count": 25,
   "metadata": {},
   "outputs": [
    {
     "name": "stdout",
     "output_type": "stream",
     "text": [
      "here is the reverse list ['zen', 'tesla', 'dodge', 'bmw', 'audi']\n"
     ]
    }
   ],
   "source": [
    "print('here is the reverse list',cars)"
   ]
  },
  {
   "cell_type": "code",
   "execution_count": 26,
   "metadata": {},
   "outputs": [
    {
     "name": "stdout",
     "output_type": "stream",
     "text": [
      "here is the original list ['delhi', 'rome', 'budapest', 'vatican city', 'silicon valley', 'canada']\n"
     ]
    }
   ],
   "source": [
    "places = ['delhi','rome','budapest','vatican city','silicon valley','canada']\n",
    "x = places\n",
    "print('here is the original list',x)"
   ]
  },
  {
   "cell_type": "code",
   "execution_count": 27,
   "metadata": {},
   "outputs": [
    {
     "name": "stdout",
     "output_type": "stream",
     "text": [
      "here is the sorted list ['delhi', 'rome', 'budapest', 'vatican city', 'silicon valley', 'canada']\n"
     ]
    }
   ],
   "source": [
    "print('here is the sorted list',x)"
   ]
  },
  {
   "cell_type": "code",
   "execution_count": 28,
   "metadata": {},
   "outputs": [],
   "source": [
    "places.sort(reverse = True)"
   ]
  },
  {
   "cell_type": "code",
   "execution_count": 29,
   "metadata": {},
   "outputs": [
    {
     "name": "stdout",
     "output_type": "stream",
     "text": [
      "places is in reverse order ['vatican city', 'silicon valley', 'rome', 'delhi', 'canada', 'budapest']\n"
     ]
    }
   ],
   "source": [
    "print('places is in reverse order',places)"
   ]
  },
  {
   "cell_type": "code",
   "execution_count": 30,
   "metadata": {},
   "outputs": [
    {
     "data": {
      "text/plain": [
       "['vatican city', 'silicon valley', 'rome', 'delhi', 'canada', 'budapest']"
      ]
     },
     "execution_count": 30,
     "metadata": {},
     "output_type": "execute_result"
    }
   ],
   "source": [
    "places"
   ]
  },
  {
   "cell_type": "code",
   "execution_count": 31,
   "metadata": {},
   "outputs": [
    {
     "name": "stdout",
     "output_type": "stream",
     "text": [
      "[1, 2, 3, 4, 5, 6, 7, 8, 9, 10, 11, 12, 13, 14, 15, 16, 17, 18, 19, 20, 21, 22, 23, 24, 25, 26, 27, 28, 29, 30, 31, 32, 33, 34, 35, 36, 37, 38, 39, 40, 41, 42, 43, 44, 45, 46, 47, 48, 49, 50, 51, 52, 53, 54, 55, 56, 57, 58, 59, 60, 61, 62, 63, 64, 65, 66, 67, 68, 69, 70, 71, 72, 73, 74, 75, 76, 77, 78, 79, 80, 81, 82, 83, 84, 85, 86, 87, 88, 89, 90, 91, 92, 93, 94, 95, 96, 97, 98, 99, 100]\n"
     ]
    }
   ],
   "source": [
    "numbers = list(range(1,101))\n",
    "print(numbers)"
   ]
  },
  {
   "cell_type": "code",
   "execution_count": 32,
   "metadata": {},
   "outputs": [
    {
     "data": {
      "text/plain": [
       "1"
      ]
     },
     "execution_count": 32,
     "metadata": {},
     "output_type": "execute_result"
    }
   ],
   "source": [
    "min(numbers)"
   ]
  },
  {
   "cell_type": "code",
   "execution_count": 33,
   "metadata": {},
   "outputs": [
    {
     "data": {
      "text/plain": [
       "100"
      ]
     },
     "execution_count": 33,
     "metadata": {},
     "output_type": "execute_result"
    }
   ],
   "source": [
    "max(numbers)"
   ]
  },
  {
   "cell_type": "code",
   "execution_count": 34,
   "metadata": {},
   "outputs": [
    {
     "data": {
      "text/plain": [
       "5050"
      ]
     },
     "execution_count": 34,
     "metadata": {},
     "output_type": "execute_result"
    }
   ],
   "source": [
    "sum(numbers)"
   ]
  },
  {
   "cell_type": "code",
   "execution_count": 35,
   "metadata": {},
   "outputs": [
    {
     "name": "stdout",
     "output_type": "stream",
     "text": [
      "['charles', 'martin', 'alexis', 'tori']\n"
     ]
    }
   ],
   "source": [
    "# slicing a list\n",
    "players = ['charles','martin','alexis','tori']\n",
    "print(players[0:4])"
   ]
  },
  {
   "cell_type": "code",
   "execution_count": 36,
   "metadata": {},
   "outputs": [
    {
     "name": "stdout",
     "output_type": "stream",
     "text": [
      "['martin', 'alexis', 'tori']\n"
     ]
    }
   ],
   "source": [
    "print(players[1:4])"
   ]
  },
  {
   "cell_type": "code",
   "execution_count": 37,
   "metadata": {},
   "outputs": [
    {
     "name": "stdout",
     "output_type": "stream",
     "text": [
      "here are the three numbers\n",
      "charles\n",
      "martin\n",
      "alexis\n"
     ]
    }
   ],
   "source": [
    "print('here are the three numbers')\n",
    "for player in players[:3]:\n",
    "    print(player)\n"
   ]
  },
  {
   "cell_type": "code",
   "execution_count": 38,
   "metadata": {},
   "outputs": [
    {
     "name": "stdout",
     "output_type": "stream",
     "text": [
      "here is the items in following menu\n",
      "rice\n",
      "chicken\n",
      "dal\n",
      "naan\n",
      "paneer\n",
      "potato\n"
     ]
    }
   ],
   "source": [
    "restaurant = ['rice','chicken','dal','naan','paneer','potato']\n",
    "print('here is the items in following menu')\n",
    "for items in restaurant[:]:\n",
    "    print(items)"
   ]
  },
  {
   "cell_type": "code",
   "execution_count": 39,
   "metadata": {},
   "outputs": [],
   "source": [
    "revised_list = restaurant"
   ]
  },
  {
   "cell_type": "code",
   "execution_count": 40,
   "metadata": {},
   "outputs": [],
   "source": [
    "revised_list.insert(3,'mix veg')"
   ]
  },
  {
   "cell_type": "code",
   "execution_count": 41,
   "metadata": {},
   "outputs": [
    {
     "name": "stdout",
     "output_type": "stream",
     "text": [
      "['rice', 'chicken', 'dal', 'mix veg', 'naan', 'paneer', 'potato']\n"
     ]
    }
   ],
   "source": [
    "print(revised_list)"
   ]
  },
  {
   "cell_type": "code",
   "execution_count": 42,
   "metadata": {},
   "outputs": [
    {
     "name": "stdout",
     "output_type": "stream",
     "text": [
      "DODGE\n",
      "toyota\n",
      "satan\n"
     ]
    }
   ],
   "source": [
    "# if\n",
    "cars = ['dodge','toyota','satan']\n",
    "for car in cars:\n",
    "    if car == 'dodge':\n",
    "        print(car.upper())\n",
    "    else:\n",
    "        print(car)\n",
    "    "
   ]
  },
  {
   "cell_type": "code",
   "execution_count": 43,
   "metadata": {},
   "outputs": [
    {
     "data": {
      "text/plain": [
       "True"
      ]
     },
     "execution_count": 43,
     "metadata": {},
     "output_type": "execute_result"
    }
   ],
   "source": [
    "artist = ['imran','zaen','sufi','malik']\n",
    "'imran' in artist"
   ]
  },
  {
   "cell_type": "code",
   "execution_count": 44,
   "metadata": {},
   "outputs": [
    {
     "name": "stdout",
     "output_type": "stream",
     "text": [
      "Bajwa you are not in the list of the banned people you can come\n"
     ]
    }
   ],
   "source": [
    "user = 'bajwa'\n",
    "if user  not in artist:\n",
    "    print(user.title(),'you are not in the list of the banned people you can come')"
   ]
  },
  {
   "cell_type": "code",
   "execution_count": 45,
   "metadata": {},
   "outputs": [
    {
     "name": "stdout",
     "output_type": "stream",
     "text": [
      "you can vote\n"
     ]
    }
   ],
   "source": [
    "age = 19\n",
    "if age>=18:\n",
    "    print('you can vote')\n",
    "else:\n",
    "    print('you can not vote')"
   ]
  },
  {
   "cell_type": "code",
   "execution_count": 46,
   "metadata": {},
   "outputs": [
    {
     "name": "stdout",
     "output_type": "stream",
     "text": [
      "enter the number21\n",
      "you are good to go\n"
     ]
    }
   ],
   "source": [
    "x = int(input('enter the number'))\n",
    "if x<4:\n",
    "    print('no cost for admission')\n",
    "elif x<18:\n",
    "    print('you have to pay 5 dollar per month')\n",
    "else:\n",
    "    print('you are good to go')"
   ]
  },
  {
   "cell_type": "code",
   "execution_count": 47,
   "metadata": {},
   "outputs": [
    {
     "name": "stdout",
     "output_type": "stream",
     "text": [
      "green\n"
     ]
    }
   ],
   "source": [
    "# working with dictionaries\n",
    "alien_0 = {'color':'green','points':5}\n",
    "print(alien_0['color'])"
   ]
  },
  {
   "cell_type": "code",
   "execution_count": 48,
   "metadata": {},
   "outputs": [
    {
     "name": "stdout",
     "output_type": "stream",
     "text": [
      "you have just earned the 5 points\n"
     ]
    }
   ],
   "source": [
    "print('you have just earned the', alien_0['points'],'points')"
   ]
  },
  {
   "cell_type": "code",
   "execution_count": 49,
   "metadata": {},
   "outputs": [
    {
     "name": "stdout",
     "output_type": "stream",
     "text": [
      "the alien was green\n"
     ]
    }
   ],
   "source": [
    "alien_0 = {'color':'green'}\n",
    "print('the alien was',alien_0['color'])"
   ]
  },
  {
   "cell_type": "code",
   "execution_count": 50,
   "metadata": {},
   "outputs": [],
   "source": [
    "alien_0['color'] = 'yellow'"
   ]
  },
  {
   "cell_type": "code",
   "execution_count": 51,
   "metadata": {},
   "outputs": [
    {
     "name": "stdout",
     "output_type": "stream",
     "text": [
      "the color of alien is yellow\n"
     ]
    }
   ],
   "source": [
    "print('the color of alien is',alien_0['color'])"
   ]
  },
  {
   "cell_type": "code",
   "execution_count": 52,
   "metadata": {},
   "outputs": [
    {
     "name": "stdout",
     "output_type": "stream",
     "text": [
      "bren home 33 limerick\n"
     ]
    }
   ],
   "source": [
    "person = {'first_name':'bren','last_name':'home','age':33,'city':'limerick'}\n",
    "print(person['first_name'],person['last_name'],person['age'],person['city'])"
   ]
  },
  {
   "cell_type": "code",
   "execution_count": 53,
   "metadata": {},
   "outputs": [],
   "source": [
    "fav_num = {'s':1,'e':2,'r':3,'f':5,'h':90}"
   ]
  },
  {
   "cell_type": "code",
   "execution_count": 54,
   "metadata": {},
   "outputs": [
    {
     "name": "stdout",
     "output_type": "stream",
     "text": [
      "1 2 3 5 90\n"
     ]
    }
   ],
   "source": [
    "print(fav_num['s'],fav_num['e'],fav_num['r'],fav_num['f'],fav_num['h'])"
   ]
  },
  {
   "cell_type": "code",
   "execution_count": 55,
   "metadata": {},
   "outputs": [
    {
     "name": "stdout",
     "output_type": "stream",
     "text": [
      "\n",
      "key: username\n",
      "\n",
      "value: erfmi\n",
      "\n",
      "key: first\n",
      "\n",
      "value: enrico\n",
      "\n",
      "key: last\n",
      "\n",
      "value: fermi\n"
     ]
    }
   ],
   "source": [
    "# looping all the key values\n",
    "user_0 = {'username':'erfmi',\n",
    "          'first':'enrico',\n",
    "          'last':'fermi'}\n",
    "for key,value in user_0.items():\n",
    "    print(\"\\nkey: \" + key)\n",
    "    print(\"\\nvalue: \" + value)"
   ]
  },
  {
   "cell_type": "code",
   "execution_count": 56,
   "metadata": {},
   "outputs": [
    {
     "name": "stdout",
     "output_type": "stream",
     "text": [
      "Jen favorite language is Python\n",
      "Sarah favorite language is C\n",
      "Edward favorite language is Scala\n",
      "Phil favorite language is Ruby\n"
     ]
    }
   ],
   "source": [
    "fav_lan = {'jen':'python','sarah':'c','edward':'scala','phil':'ruby'}\n",
    "for name,language in fav_lan.items():\n",
    "    print(name.title() +' favorite language is ' + language.title())"
   ]
  },
  {
   "cell_type": "code",
   "execution_count": 57,
   "metadata": {},
   "outputs": [
    {
     "name": "stdout",
     "output_type": "stream",
     "text": [
      "Jen\n",
      "Sarah\n",
      "Edward\n",
      "Phil\n"
     ]
    }
   ],
   "source": [
    "for name in fav_lan.keys():\n",
    "    print(name.title())"
   ]
  },
  {
   "cell_type": "code",
   "execution_count": 58,
   "metadata": {},
   "outputs": [
    {
     "name": "stdout",
     "output_type": "stream",
     "text": [
      "Edward thanks for taking the poll\n",
      "Jen thanks for taking the poll\n",
      "Phil thanks for taking the poll\n",
      "Sarah thanks for taking the poll\n"
     ]
    }
   ],
   "source": [
    "for name in sorted(fav_lan.keys()):\n",
    "    print(name.title() + ' thanks for taking the poll')"
   ]
  },
  {
   "cell_type": "code",
   "execution_count": 59,
   "metadata": {},
   "outputs": [
    {
     "name": "stdout",
     "output_type": "stream",
     "text": [
      "the following languages are mentioned :\n",
      "C\n",
      "Python\n",
      "Ruby\n",
      "Scala\n"
     ]
    }
   ],
   "source": [
    "print('the following languages are mentioned :')\n",
    "for language in sorted(fav_lan.values()):\n",
    "    print(language.title())"
   ]
  },
  {
   "cell_type": "code",
   "execution_count": 60,
   "metadata": {},
   "outputs": [
    {
     "name": "stdout",
     "output_type": "stream",
     "text": [
      "Ganga river flows through India\n",
      "Amazon river flows through Africa\n",
      "Thames river flows through England\n",
      "Nile river flows through Egypt\n"
     ]
    }
   ],
   "source": [
    "rivers = {'ganga':'india','amazon':'africa','thames':'england','nile':'egypt'}\n",
    "for river,country in rivers.items():\n",
    "    print(river.title() + ' river flows through ' + country.title())"
   ]
  },
  {
   "cell_type": "code",
   "execution_count": null,
   "metadata": {},
   "outputs": [],
   "source": []
  }
 ],
 "metadata": {
  "kernelspec": {
   "display_name": "Python 3",
   "language": "python",
   "name": "python3"
  },
  "language_info": {
   "codemirror_mode": {
    "name": "ipython",
    "version": 3
   },
   "file_extension": ".py",
   "mimetype": "text/x-python",
   "name": "python",
   "nbconvert_exporter": "python",
   "pygments_lexer": "ipython3",
   "version": "3.7.3"
  }
 },
 "nbformat": 4,
 "nbformat_minor": 2
}

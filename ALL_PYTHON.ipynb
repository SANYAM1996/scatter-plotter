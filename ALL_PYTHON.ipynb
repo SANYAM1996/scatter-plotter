{
 "cells": [
  {
   "cell_type": "code",
   "execution_count": 1,
   "metadata": {},
   "outputs": [
    {
     "name": "stdout",
     "output_type": "stream",
     "text": [
      "[0, 1, 2, 3, 4, 5, 6, 7, 8, 9]\n"
     ]
    },
    {
     "data": {
      "text/plain": [
       "[0, 1, 8, 27, 64, 125, 216, 343, 512, 729]"
      ]
     },
     "execution_count": 1,
     "metadata": {},
     "output_type": "execute_result"
    }
   ],
   "source": [
    "a = list(range(10))\n",
    "print(a)\n",
    "b = list(map(lambda x: x**3,a))\n",
    "b"
   ]
  },
  {
   "cell_type": "code",
   "execution_count": 2,
   "metadata": {},
   "outputs": [
    {
     "name": "stdout",
     "output_type": "stream",
     "text": [
      "[5, 4, 3, 2, 1]\n"
     ]
    }
   ],
   "source": [
    "def reverselist(list):\n",
    "    list.reverse()\n",
    "    return list\n",
    "numbers =[1,2,3,4,5]\n",
    "print(reverselist(numbers))"
   ]
  },
  {
   "cell_type": "code",
   "execution_count": 3,
   "metadata": {},
   "outputs": [
    {
     "name": "stdout",
     "output_type": "stream",
     "text": [
      "david that was great trick\n",
      "i cant wait for your next trick david\n",
      "alex that was great trick\n",
      "i cant wait for your next trick alex\n",
      "tyler that was great trick\n",
      "i cant wait for your next trick tyler\n",
      "thanks for everyone for your tricks see you soon\n"
     ]
    }
   ],
   "source": [
    "magicians = ['david','alex','tyler']\n",
    "for magician in magicians:\n",
    "    print(magician,'that was great trick')\n",
    "    print('i cant wait for your next trick',magician)\n",
    "print('thanks for everyone for your tricks see you soon')"
   ]
  },
  {
   "cell_type": "code",
   "execution_count": 4,
   "metadata": {},
   "outputs": [
    {
     "name": "stdout",
     "output_type": "stream",
     "text": [
      "i like all different aspect of this pizza farmhouse\n",
      "i like all different aspect of this pizza deluxe veggie\n",
      "i like all different aspect of this pizza corn\n",
      "i like all these pizzas\n"
     ]
    }
   ],
   "source": [
    "pizza = ['farmhouse','deluxe veggie','corn']\n",
    "for pizzas in pizza:\n",
    "    print('i like all different aspect of this pizza',pizzas)\n",
    "print('i like all these pizzas')"
   ]
  },
  {
   "cell_type": "code",
   "execution_count": 5,
   "metadata": {},
   "outputs": [
    {
     "name": "stdout",
     "output_type": "stream",
     "text": [
      "the given series is [0, 1, 2, 3, 4, 5, 6, 7, 8, 9, 10, 11, 12, 13, 14, 15, 16, 17, 18, 19, 20, 21, 22, 23, 24, 25, 26, 27, 28, 29, 30, 31, 32, 33, 34, 35, 36, 37, 38, 39, 40, 41, 42, 43, 44, 45, 46, 47, 48, 49]\n",
      "[0, 2, 4, 6, 8, 10, 12, 14, 16, 18, 20, 22, 24, 26, 28, 30, 32, 34, 36, 38, 40, 42, 44, 46, 48] are the required even numbers\n"
     ]
    }
   ],
   "source": [
    "a = list(range(0,50))\n",
    "print('the given series is',a)\n",
    "even_numbers = list(range(0,50,2))\n",
    "print(even_numbers,'are the required even numbers')"
   ]
  },
  {
   "cell_type": "code",
   "execution_count": 6,
   "metadata": {},
   "outputs": [
    {
     "name": "stdout",
     "output_type": "stream",
     "text": [
      "['yamaha', 'ducati', 'honda', 'hayabusa', 'suzuki']\n"
     ]
    }
   ],
   "source": [
    "motorcycle = []\n",
    "motorcycle.append('yamaha')\n",
    "motorcycle.append('ducati')\n",
    "motorcycle.append('honda')\n",
    "motorcycle.append('hayabusa')\n",
    "motorcycle.append('suzuki')\n",
    "\n",
    "\n",
    "print(motorcycle)"
   ]
  },
  {
   "cell_type": "code",
   "execution_count": 7,
   "metadata": {},
   "outputs": [],
   "source": [
    "motorcycle.insert(0,'triumph')"
   ]
  },
  {
   "cell_type": "code",
   "execution_count": 8,
   "metadata": {},
   "outputs": [
    {
     "name": "stdout",
     "output_type": "stream",
     "text": [
      "['triumph', 'yamaha', 'ducati', 'honda', 'hayabusa', 'suzuki']\n"
     ]
    }
   ],
   "source": [
    "print(motorcycle)"
   ]
  },
  {
   "cell_type": "code",
   "execution_count": 9,
   "metadata": {},
   "outputs": [
    {
     "name": "stdout",
     "output_type": "stream",
     "text": [
      "the last bike that i have bought is suzuki\n"
     ]
    }
   ],
   "source": [
    "pop_motorcycle = motorcycle.pop()\n",
    "print('the last bike that i have bought is',pop_motorcycle)"
   ]
  },
  {
   "cell_type": "code",
   "execution_count": 10,
   "metadata": {},
   "outputs": [
    {
     "name": "stdout",
     "output_type": "stream",
     "text": [
      "the last bike that i have bought is hayabusa\n"
     ]
    }
   ],
   "source": [
    "pop_motorcycle = motorcycle.pop()\n",
    "print('the last bike that i have bought is',pop_motorcycle)"
   ]
  },
  {
   "cell_type": "code",
   "execution_count": 11,
   "metadata": {},
   "outputs": [
    {
     "name": "stdout",
     "output_type": "stream",
     "text": [
      "my first motocycle was triumph\n"
     ]
    }
   ],
   "source": [
    "first_owned = motorcycle.pop(0)\n",
    "print('my first motocycle was',first_owned)"
   ]
  },
  {
   "cell_type": "code",
   "execution_count": 12,
   "metadata": {},
   "outputs": [
    {
     "name": "stdout",
     "output_type": "stream",
     "text": [
      "welcome to the party david\n",
      "welcome to the party alex\n",
      "welcome to the party roobbie\n",
      "welcome to the party chris\n",
      "welcome to the party tony\n",
      "welcome all !\n",
      "sorry guys tony will not come he has to build stark tower\n"
     ]
    }
   ],
   "source": [
    "guest_list = ['david','alex','roobbie','chris','tony']\n",
    "for guest in guest_list:\n",
    "    print('welcome to the party',guest)\n",
    "print('welcome all !')\n",
    "print('sorry guys',guest_list.pop(4),'will not come he has to build stark tower')\n"
   ]
  },
  {
   "cell_type": "code",
   "execution_count": 13,
   "metadata": {},
   "outputs": [],
   "source": [
    "guest_list.insert(4,'ben')"
   ]
  },
  {
   "cell_type": "code",
   "execution_count": 14,
   "metadata": {},
   "outputs": [
    {
     "name": "stdout",
     "output_type": "stream",
     "text": [
      "['david', 'alex', 'roobbie', 'chris', 'ben']\n"
     ]
    }
   ],
   "source": [
    "print(guest_list)"
   ]
  },
  {
   "cell_type": "code",
   "execution_count": 15,
   "metadata": {},
   "outputs": [
    {
     "name": "stdout",
     "output_type": "stream",
     "text": [
      "welcome to the party tony\n"
     ]
    }
   ],
   "source": [
    "\n",
    "print('welcome to the party',guest)"
   ]
  },
  {
   "cell_type": "code",
   "execution_count": 16,
   "metadata": {},
   "outputs": [
    {
     "name": "stdout",
     "output_type": "stream",
     "text": [
      "welcome to the party david\n",
      "sorry guys only 2 peoples are able to get the dinner because the table is small david\n",
      "welcome to the party alex\n",
      "sorry guys only 2 peoples are able to get the dinner because the table is small alex\n",
      "welcome to the party roobbie\n",
      "sorry guys only 2 peoples are able to get the dinner because the table is small roobbie\n",
      "welcome to the party chris\n",
      "sorry guys only 2 peoples are able to get the dinner because the table is small chris\n",
      "welcome to the party ben\n",
      "sorry guys only 2 peoples are able to get the dinner because the table is small ben\n"
     ]
    }
   ],
   "source": [
    "for guest in guest_list:\n",
    "    \n",
    "    print('welcome to the party',guest)\n",
    "    print('sorry guys only 2 peoples are able to get the dinner because the table is small',guest)\n"
   ]
  },
  {
   "cell_type": "code",
   "execution_count": 17,
   "metadata": {},
   "outputs": [
    {
     "name": "stdout",
     "output_type": "stream",
     "text": [
      "i am sorry i cant invite you david better luck next time\n"
     ]
    }
   ],
   "source": [
    "new_list = guest_list.pop(0)\n",
    "print('i am sorry i cant invite you',new_list, 'better luck next time')\n",
    "    "
   ]
  },
  {
   "cell_type": "code",
   "execution_count": 18,
   "metadata": {},
   "outputs": [],
   "source": [
    "cars = ['audi','bmw','dodge','tesla']\n",
    "cars.sort(reverse = True)"
   ]
  },
  {
   "cell_type": "code",
   "execution_count": 19,
   "metadata": {},
   "outputs": [
    {
     "data": {
      "text/plain": [
       "['tesla', 'dodge', 'bmw', 'audi']"
      ]
     },
     "execution_count": 19,
     "metadata": {},
     "output_type": "execute_result"
    }
   ],
   "source": [
    "cars"
   ]
  },
  {
   "cell_type": "code",
   "execution_count": 20,
   "metadata": {},
   "outputs": [],
   "source": [
    "cars = ['audi','bmw','dodge','tesla']\n",
    "cars.sort(reverse = False)"
   ]
  },
  {
   "cell_type": "code",
   "execution_count": 21,
   "metadata": {},
   "outputs": [
    {
     "data": {
      "text/plain": [
       "['audi', 'bmw', 'dodge', 'tesla']"
      ]
     },
     "execution_count": 21,
     "metadata": {},
     "output_type": "execute_result"
    }
   ],
   "source": [
    "cars"
   ]
  },
  {
   "cell_type": "code",
   "execution_count": 22,
   "metadata": {},
   "outputs": [],
   "source": [
    "cars = ['audi','bmw','dodge','tesla']\n",
    "cars.insert(2,'zen')"
   ]
  },
  {
   "cell_type": "code",
   "execution_count": 23,
   "metadata": {},
   "outputs": [
    {
     "name": "stdout",
     "output_type": "stream",
     "text": [
      "here is the original list ['audi', 'bmw', 'zen', 'dodge', 'tesla']\n"
     ]
    }
   ],
   "source": [
    "print('here is the original list',cars)"
   ]
  },
  {
   "cell_type": "code",
   "execution_count": 24,
   "metadata": {},
   "outputs": [],
   "source": [
    "cars.sort(reverse = True)"
   ]
  },
  {
   "cell_type": "code",
   "execution_count": 25,
   "metadata": {},
   "outputs": [
    {
     "name": "stdout",
     "output_type": "stream",
     "text": [
      "here is the reverse list ['zen', 'tesla', 'dodge', 'bmw', 'audi']\n"
     ]
    }
   ],
   "source": [
    "print('here is the reverse list',cars)"
   ]
  },
  {
   "cell_type": "code",
   "execution_count": 26,
   "metadata": {},
   "outputs": [
    {
     "name": "stdout",
     "output_type": "stream",
     "text": [
      "here is the original list ['delhi', 'rome', 'budapest', 'vatican city', 'silicon valley', 'canada']\n"
     ]
    }
   ],
   "source": [
    "places = ['delhi','rome','budapest','vatican city','silicon valley','canada']\n",
    "x = places\n",
    "print('here is the original list',x)"
   ]
  },
  {
   "cell_type": "code",
   "execution_count": 27,
   "metadata": {},
   "outputs": [
    {
     "name": "stdout",
     "output_type": "stream",
     "text": [
      "here is the sorted list ['delhi', 'rome', 'budapest', 'vatican city', 'silicon valley', 'canada']\n"
     ]
    }
   ],
   "source": [
    "print('here is the sorted list',x)"
   ]
  },
  {
   "cell_type": "code",
   "execution_count": 28,
   "metadata": {},
   "outputs": [],
   "source": [
    "places.sort(reverse = True)"
   ]
  },
  {
   "cell_type": "code",
   "execution_count": 29,
   "metadata": {},
   "outputs": [
    {
     "name": "stdout",
     "output_type": "stream",
     "text": [
      "places is in reverse order ['vatican city', 'silicon valley', 'rome', 'delhi', 'canada', 'budapest']\n"
     ]
    }
   ],
   "source": [
    "print('places is in reverse order',places)"
   ]
  },
  {
   "cell_type": "code",
   "execution_count": 30,
   "metadata": {},
   "outputs": [
    {
     "data": {
      "text/plain": [
       "['vatican city', 'silicon valley', 'rome', 'delhi', 'canada', 'budapest']"
      ]
     },
     "execution_count": 30,
     "metadata": {},
     "output_type": "execute_result"
    }
   ],
   "source": [
    "places"
   ]
  },
  {
   "cell_type": "code",
   "execution_count": 31,
   "metadata": {},
   "outputs": [
    {
     "name": "stdout",
     "output_type": "stream",
     "text": [
      "[1, 2, 3, 4, 5, 6, 7, 8, 9, 10, 11, 12, 13, 14, 15, 16, 17, 18, 19, 20, 21, 22, 23, 24, 25, 26, 27, 28, 29, 30, 31, 32, 33, 34, 35, 36, 37, 38, 39, 40, 41, 42, 43, 44, 45, 46, 47, 48, 49, 50, 51, 52, 53, 54, 55, 56, 57, 58, 59, 60, 61, 62, 63, 64, 65, 66, 67, 68, 69, 70, 71, 72, 73, 74, 75, 76, 77, 78, 79, 80, 81, 82, 83, 84, 85, 86, 87, 88, 89, 90, 91, 92, 93, 94, 95, 96, 97, 98, 99, 100]\n"
     ]
    }
   ],
   "source": [
    "numbers = list(range(1,101))\n",
    "print(numbers)"
   ]
  },
  {
   "cell_type": "code",
   "execution_count": 32,
   "metadata": {},
   "outputs": [
    {
     "data": {
      "text/plain": [
       "1"
      ]
     },
     "execution_count": 32,
     "metadata": {},
     "output_type": "execute_result"
    }
   ],
   "source": [
    "min(numbers)"
   ]
  },
  {
   "cell_type": "code",
   "execution_count": 33,
   "metadata": {},
   "outputs": [
    {
     "data": {
      "text/plain": [
       "100"
      ]
     },
     "execution_count": 33,
     "metadata": {},
     "output_type": "execute_result"
    }
   ],
   "source": [
    "max(numbers)"
   ]
  },
  {
   "cell_type": "code",
   "execution_count": 34,
   "metadata": {},
   "outputs": [
    {
     "data": {
      "text/plain": [
       "5050"
      ]
     },
     "execution_count": 34,
     "metadata": {},
     "output_type": "execute_result"
    }
   ],
   "source": [
    "sum(numbers)"
   ]
  },
  {
   "cell_type": "code",
   "execution_count": 35,
   "metadata": {},
   "outputs": [
    {
     "name": "stdout",
     "output_type": "stream",
     "text": [
      "['charles', 'martin', 'alexis', 'tori']\n"
     ]
    }
   ],
   "source": [
    "# slicing a list\n",
    "players = ['charles','martin','alexis','tori']\n",
    "print(players[0:4])"
   ]
  },
  {
   "cell_type": "code",
   "execution_count": 36,
   "metadata": {},
   "outputs": [
    {
     "name": "stdout",
     "output_type": "stream",
     "text": [
      "['martin', 'alexis', 'tori']\n"
     ]
    }
   ],
   "source": [
    "print(players[1:4])"
   ]
  },
  {
   "cell_type": "code",
   "execution_count": 37,
   "metadata": {},
   "outputs": [
    {
     "name": "stdout",
     "output_type": "stream",
     "text": [
      "here are the three numbers\n",
      "charles\n",
      "martin\n",
      "alexis\n"
     ]
    }
   ],
   "source": [
    "print('here are the three numbers')\n",
    "for player in players[:3]:\n",
    "    print(player)\n"
   ]
  },
  {
   "cell_type": "code",
   "execution_count": 38,
   "metadata": {},
   "outputs": [
    {
     "name": "stdout",
     "output_type": "stream",
     "text": [
      "here is the items in following menu\n",
      "rice\n",
      "chicken\n",
      "dal\n",
      "naan\n",
      "paneer\n",
      "potato\n"
     ]
    }
   ],
   "source": [
    "restaurant = ['rice','chicken','dal','naan','paneer','potato']\n",
    "print('here is the items in following menu')\n",
    "for items in restaurant[:]:\n",
    "    print(items)"
   ]
  },
  {
   "cell_type": "code",
   "execution_count": 39,
   "metadata": {},
   "outputs": [],
   "source": [
    "revised_list = restaurant"
   ]
  },
  {
   "cell_type": "code",
   "execution_count": 40,
   "metadata": {},
   "outputs": [],
   "source": [
    "revised_list.insert(3,'mix veg')"
   ]
  },
  {
   "cell_type": "code",
   "execution_count": 41,
   "metadata": {},
   "outputs": [
    {
     "name": "stdout",
     "output_type": "stream",
     "text": [
      "['rice', 'chicken', 'dal', 'mix veg', 'naan', 'paneer', 'potato']\n"
     ]
    }
   ],
   "source": [
    "print(revised_list)"
   ]
  },
  {
   "cell_type": "code",
   "execution_count": 42,
   "metadata": {},
   "outputs": [
    {
     "name": "stdout",
     "output_type": "stream",
     "text": [
      "DODGE\n",
      "toyota\n",
      "satan\n"
     ]
    }
   ],
   "source": [
    "# if\n",
    "cars = ['dodge','toyota','satan']\n",
    "for car in cars:\n",
    "    if car == 'dodge':\n",
    "        print(car.upper())\n",
    "    else:\n",
    "        print(car)\n",
    "    "
   ]
  },
  {
   "cell_type": "code",
   "execution_count": 43,
   "metadata": {},
   "outputs": [
    {
     "data": {
      "text/plain": [
       "True"
      ]
     },
     "execution_count": 43,
     "metadata": {},
     "output_type": "execute_result"
    }
   ],
   "source": [
    "artist = ['imran','zaen','sufi','malik']\n",
    "'imran' in artist"
   ]
  },
  {
   "cell_type": "code",
   "execution_count": 44,
   "metadata": {},
   "outputs": [
    {
     "name": "stdout",
     "output_type": "stream",
     "text": [
      "Bajwa you are not in the list of the banned people you can come\n"
     ]
    }
   ],
   "source": [
    "user = 'bajwa'\n",
    "if user  not in artist:\n",
    "    print(user.title(),'you are not in the list of the banned people you can come')"
   ]
  },
  {
   "cell_type": "code",
   "execution_count": 45,
   "metadata": {},
   "outputs": [
    {
     "name": "stdout",
     "output_type": "stream",
     "text": [
      "you can vote\n"
     ]
    }
   ],
   "source": [
    "age = 19\n",
    "if age>=18:\n",
    "    print('you can vote')\n",
    "else:\n",
    "    print('you can not vote')"
   ]
  },
  {
   "cell_type": "code",
   "execution_count": 46,
   "metadata": {},
   "outputs": [
    {
     "name": "stdout",
     "output_type": "stream",
     "text": [
      "enter the number45\n",
      "you are good to go\n"
     ]
    }
   ],
   "source": [
    "x = int(input('enter the number'))\n",
    "if x<4:\n",
    "    print('no cost for admission')\n",
    "elif x<18:\n",
    "    print('you have to pay 5 dollar per month')\n",
    "else:\n",
    "    print('you are good to go')"
   ]
  },
  {
   "cell_type": "code",
   "execution_count": 47,
   "metadata": {},
   "outputs": [
    {
     "name": "stdout",
     "output_type": "stream",
     "text": [
      "green\n"
     ]
    }
   ],
   "source": [
    "# working with dictionaries\n",
    "alien_0 = {'color':'green','points':5}\n",
    "print(alien_0['color'])"
   ]
  },
  {
   "cell_type": "code",
   "execution_count": 48,
   "metadata": {},
   "outputs": [
    {
     "name": "stdout",
     "output_type": "stream",
     "text": [
      "you have just earned the 5 points\n"
     ]
    }
   ],
   "source": [
    "print('you have just earned the', alien_0['points'],'points')"
   ]
  },
  {
   "cell_type": "code",
   "execution_count": 49,
   "metadata": {},
   "outputs": [
    {
     "name": "stdout",
     "output_type": "stream",
     "text": [
      "the alien was green\n"
     ]
    }
   ],
   "source": [
    "alien_0 = {'color':'green'}\n",
    "print('the alien was',alien_0['color'])"
   ]
  },
  {
   "cell_type": "code",
   "execution_count": 50,
   "metadata": {},
   "outputs": [],
   "source": [
    "alien_0['color'] = 'yellow'"
   ]
  },
  {
   "cell_type": "code",
   "execution_count": 51,
   "metadata": {},
   "outputs": [
    {
     "name": "stdout",
     "output_type": "stream",
     "text": [
      "the color of alien is yellow\n"
     ]
    }
   ],
   "source": [
    "print('the color of alien is',alien_0['color'])"
   ]
  },
  {
   "cell_type": "code",
   "execution_count": 52,
   "metadata": {},
   "outputs": [
    {
     "name": "stdout",
     "output_type": "stream",
     "text": [
      "bren home 33 limerick\n"
     ]
    }
   ],
   "source": [
    "person = {'first_name':'bren','last_name':'home','age':33,'city':'limerick'}\n",
    "print(person['first_name'],person['last_name'],person['age'],person['city'])"
   ]
  },
  {
   "cell_type": "code",
   "execution_count": 53,
   "metadata": {},
   "outputs": [],
   "source": [
    "fav_num = {'s':1,'e':2,'r':3,'f':5,'h':90}"
   ]
  },
  {
   "cell_type": "code",
   "execution_count": 54,
   "metadata": {},
   "outputs": [
    {
     "name": "stdout",
     "output_type": "stream",
     "text": [
      "1 2 3 5 90\n"
     ]
    }
   ],
   "source": [
    "print(fav_num['s'],fav_num['e'],fav_num['r'],fav_num['f'],fav_num['h'])"
   ]
  },
  {
   "cell_type": "code",
   "execution_count": 55,
   "metadata": {},
   "outputs": [
    {
     "name": "stdout",
     "output_type": "stream",
     "text": [
      "\n",
      "key: username\n",
      "\n",
      "value: erfmi\n",
      "\n",
      "key: first\n",
      "\n",
      "value: enrico\n",
      "\n",
      "key: last\n",
      "\n",
      "value: fermi\n"
     ]
    }
   ],
   "source": [
    "# looping all the key values\n",
    "user_0 = {'username':'erfmi',\n",
    "          'first':'enrico',\n",
    "          'last':'fermi'}\n",
    "for key,value in user_0.items():\n",
    "    print(\"\\nkey: \" + key)\n",
    "    print(\"\\nvalue: \" + value)"
   ]
  },
  {
   "cell_type": "code",
   "execution_count": 56,
   "metadata": {},
   "outputs": [
    {
     "name": "stdout",
     "output_type": "stream",
     "text": [
      "Jen favorite language is Python\n",
      "Sarah favorite language is C\n",
      "Edward favorite language is Scala\n",
      "Phil favorite language is Ruby\n"
     ]
    }
   ],
   "source": [
    "fav_lan = {'jen':'python','sarah':'c','edward':'scala','phil':'ruby'}\n",
    "for name,language in fav_lan.items():\n",
    "    print(name.title() +' favorite language is ' + language.title())"
   ]
  },
  {
   "cell_type": "code",
   "execution_count": 57,
   "metadata": {},
   "outputs": [
    {
     "name": "stdout",
     "output_type": "stream",
     "text": [
      "Jen\n",
      "Sarah\n",
      "Edward\n",
      "Phil\n"
     ]
    }
   ],
   "source": [
    "for name in fav_lan.keys():\n",
    "    print(name.title())"
   ]
  },
  {
   "cell_type": "code",
   "execution_count": 58,
   "metadata": {},
   "outputs": [
    {
     "name": "stdout",
     "output_type": "stream",
     "text": [
      "Edward thanks for taking the poll\n",
      "Jen thanks for taking the poll\n",
      "Phil thanks for taking the poll\n",
      "Sarah thanks for taking the poll\n"
     ]
    }
   ],
   "source": [
    "for name in sorted(fav_lan.keys()):\n",
    "    print(name.title() + ' thanks for taking the poll')"
   ]
  },
  {
   "cell_type": "code",
   "execution_count": 59,
   "metadata": {},
   "outputs": [
    {
     "name": "stdout",
     "output_type": "stream",
     "text": [
      "the following languages are mentioned :\n",
      "C\n",
      "Python\n",
      "Ruby\n",
      "Scala\n"
     ]
    }
   ],
   "source": [
    "print('the following languages are mentioned :')\n",
    "for language in sorted(fav_lan.values()):\n",
    "    print(language.title())"
   ]
  },
  {
   "cell_type": "code",
   "execution_count": 60,
   "metadata": {},
   "outputs": [
    {
     "name": "stdout",
     "output_type": "stream",
     "text": [
      "Ganga river flows through India\n",
      "Amazon river flows through Africa\n",
      "Thames river flows through England\n",
      "Nile river flows through Egypt\n"
     ]
    }
   ],
   "source": [
    "rivers = {'ganga':'india','amazon':'africa','thames':'england','nile':'egypt'}\n",
    "for river,country in rivers.items():\n",
    "    print(river.title() + ' river flows through ' + country.title())"
   ]
  },
  {
   "cell_type": "code",
   "execution_count": 61,
   "metadata": {},
   "outputs": [
    {
     "name": "stdout",
     "output_type": "stream",
     "text": [
      "{'color': 'green', 'points': 5}\n",
      "{'color': 'yellow', 'points': 10}\n",
      "{'color': 'red', 'points': 15}\n"
     ]
    }
   ],
   "source": [
    "# nesting\n",
    "alien_0 = {'color':'green','points':5}\n",
    "alien_1 = {'color':'yellow','points':10}\n",
    "alien_2 = {'color':'red','points':15}\n",
    "aliens = [alien_0,alien_1,alien_2]\n",
    "for alien in aliens:\n",
    "    print(alien)"
   ]
  },
  {
   "cell_type": "code",
   "execution_count": 62,
   "metadata": {},
   "outputs": [],
   "source": [
    "aliens=[]\n",
    "for alien_number in range(30):\n",
    "    new_alien = {'color':'green','points':5,'speed':'slow'}\n",
    "    aliens.append(new_alien)"
   ]
  },
  {
   "cell_type": "code",
   "execution_count": 63,
   "metadata": {},
   "outputs": [
    {
     "name": "stdout",
     "output_type": "stream",
     "text": [
      "{'color': 'green', 'points': 5, 'speed': 'slow'}\n",
      "{'color': 'green', 'points': 5, 'speed': 'slow'}\n",
      "{'color': 'green', 'points': 5, 'speed': 'slow'}\n",
      "{'color': 'green', 'points': 5, 'speed': 'slow'}\n",
      "{'color': 'green', 'points': 5, 'speed': 'slow'}\n",
      "total number of aliens 30\n"
     ]
    }
   ],
   "source": [
    "for alien in aliens[:5]:\n",
    "    print(alien)\n",
    "print('total number of aliens '+ str(len(aliens)))"
   ]
  },
  {
   "cell_type": "code",
   "execution_count": 64,
   "metadata": {},
   "outputs": [
    {
     "name": "stdout",
     "output_type": "stream",
     "text": [
      "You ordered a thick-crust pizza with the following toppings:\n",
      "\tmushrooms\n",
      "\textra cheese\n"
     ]
    }
   ],
   "source": [
    "\n",
    "pizza = {\n",
    "'crust': 'thick',\n",
    "'toppings': ['mushrooms', 'extra cheese'],\n",
    "}\n",
    "\n",
    "print(\"You ordered a \" + pizza['crust'] + \"-crust pizza \" +\n",
    "\"with the following toppings:\")\n",
    "for topping in pizza['toppings']:\n",
    "    print(\"\\t\" + topping)"
   ]
  },
  {
   "cell_type": "code",
   "execution_count": 65,
   "metadata": {},
   "outputs": [
    {
     "name": "stdout",
     "output_type": "stream",
     "text": [
      "Jens favorite languages are:\n",
      "Python\n",
      "Ruby\n",
      "Sarahs favorite languages are:\n",
      "C\n",
      "Edwards favorite languages are:\n",
      "Ruby\n",
      "Go\n",
      "Phils favorite languages are:\n",
      "Python\n",
      "Haskell\n"
     ]
    }
   ],
   "source": [
    "fav_lang = {'jen':['python','ruby'],'sarah':['c'],'edward':['ruby','go'],'phil':['python','haskell']}\n",
    "for name,languages in fav_lang.items():\n",
    "    print(name.title() + 's favorite languages are:')\n",
    "    for language in languages:\n",
    "        print(language.title())\n",
    "    \n",
    "    "
   ]
  },
  {
   "cell_type": "code",
   "execution_count": 66,
   "metadata": {},
   "outputs": [
    {
     "name": "stdout",
     "output_type": "stream",
     "text": [
      "Jens favorite country is:\n",
      "Paris\n",
      "Rio De Janerio\n",
      "Sarahs favorite country is:\n",
      "Colorado\n",
      "Edwards favorite country is:\n",
      "Russia\n",
      "Phils favorite country is:\n",
      "Thailand\n"
     ]
    }
   ],
   "source": [
    "fav_places = {'jen':['paris','rio de janerio'],'sarah':['colorado'],'edward':['russia'],'phil':['thailand']}\n",
    "for name,countries in fav_places.items():\n",
    "    print(name.title() + 's favorite country is:')\n",
    "    for country in countries:\n",
    "        print(country.title())\n",
    "    \n",
    "    "
   ]
  },
  {
   "cell_type": "code",
   "execution_count": 67,
   "metadata": {},
   "outputs": [
    {
     "name": "stdout",
     "output_type": "stream",
     "text": [
      "\n",
      "Username: aeinstein\n",
      "\tfull name: Albert Einstein\n",
      "\tLocation: Princeton\n",
      "\n",
      "Username: mcurie\n",
      "\tfull name: Marie Curie\n",
      "\tLocation: Paris\n"
     ]
    }
   ],
   "source": [
    "users = {'aeinstein':{'first':'albert','last':'einstein','location':'princeton',},'mcurie':{'first':'marie','last':'curie','location':'paris',},}\n",
    "for username,user_info in users.items():\n",
    "    print('\\nUsername: ' + username)\n",
    "    full_name = user_info['first'] + ' ' + user_info['last']\n",
    "    location = user_info['location']\n",
    "    print('\\tfull name: ' + full_name.title())\n",
    "    print('\\tLocation: ' + location.title())"
   ]
  },
  {
   "cell_type": "code",
   "execution_count": 68,
   "metadata": {},
   "outputs": [
    {
     "name": "stdout",
     "output_type": "stream",
     "text": [
      "If you tell us who you are, we can personalize the messages you see.\n",
      "What is your first name? ron\n",
      "\n",
      "Hello, ron!\n"
     ]
    }
   ],
   "source": [
    "# user input and while loops\n",
    "prompt = 'If you tell us who you are, we can personalize the messages you see.'\n",
    "prompt += \"\\nWhat is your first name? \"\n",
    "name = input(prompt)\n",
    "print(\"\\nHello, \" + name + \"!\")"
   ]
  },
  {
   "cell_type": "code",
   "execution_count": 69,
   "metadata": {},
   "outputs": [
    {
     "name": "stdout",
     "output_type": "stream",
     "text": [
      "how tall are you in inches? 56\n",
      "\n",
      " you are tall enough to ride\n"
     ]
    }
   ],
   "source": [
    "height = input('how tall are you in inches? ')\n",
    "height = int(height)\n",
    "if height >=36:\n",
    "    print('\\n you are tall enough to ride')\n",
    "else:\n",
    "    print('\\n you will be able to ride whe you are little old')\n",
    "    "
   ]
  },
  {
   "cell_type": "code",
   "execution_count": 70,
   "metadata": {},
   "outputs": [
    {
     "name": "stdout",
     "output_type": "stream",
     "text": [
      "enter the number and i will tell you is it odd or even: 32\n",
      "\n",
      "the number 32 is even\n"
     ]
    }
   ],
   "source": [
    "number = input('enter the number and i will tell you is it odd or even: ')\n",
    "number = int(number)\n",
    "if number%2 == 0:\n",
    "    print('\\nthe number ' + str(number) + ' is even')\n",
    "else:\n",
    "    \n",
    "    print('\\nthe number ' + str(number)+ ' is odd')"
   ]
  },
  {
   "cell_type": "code",
   "execution_count": 71,
   "metadata": {},
   "outputs": [
    {
     "name": "stdout",
     "output_type": "stream",
     "text": [
      "how many peoples are there in group? 3\n",
      "you are ready to eat\n"
     ]
    }
   ],
   "source": [
    "people = input('how many peoples are there in group? ')\n",
    "people = int(people)\n",
    "if people>8:\n",
    "    print('you gotta wait for table guys')\n",
    "else:\n",
    "    print('you are ready to eat')"
   ]
  },
  {
   "cell_type": "code",
   "execution_count": 72,
   "metadata": {},
   "outputs": [
    {
     "name": "stdout",
     "output_type": "stream",
     "text": [
      "enter the number and i will tell you whether the number is multiple of 10 or not: 54\n",
      "number is not a multiple\n"
     ]
    }
   ],
   "source": [
    "number = int(input('enter the number and i will tell you whether the number is multiple of 10 or not: '))\n",
    "if number%10 == 0:\n",
    "    print('the number is multiple of 10')\n",
    "else:\n",
    "    print('number is not a multiple')"
   ]
  },
  {
   "cell_type": "code",
   "execution_count": 73,
   "metadata": {},
   "outputs": [
    {
     "name": "stdout",
     "output_type": "stream",
     "text": [
      "1\n",
      "2\n",
      "3\n",
      "4\n",
      "5\n"
     ]
    }
   ],
   "source": [
    "current_number = 1\n",
    "while current_number<=5:\n",
    "    print(current_number)\n",
    "    current_number +=1"
   ]
  },
  {
   "cell_type": "code",
   "execution_count": 74,
   "metadata": {},
   "outputs": [
    {
     "name": "stdout",
     "output_type": "stream",
     "text": [
      "\n",
      "please enter the city you have visited: \n",
      "(enter quit to end the programme.)spain\n",
      "i would love to go Spain\n",
      "\n",
      "please enter the city you have visited: \n",
      "(enter quit to end the programme.)hungary\n",
      "i would love to go Hungary\n",
      "\n",
      "please enter the city you have visited: \n",
      "(enter quit to end the programme.)quit\n"
     ]
    }
   ],
   "source": [
    "prompt = '\\nplease enter the city you have visited: '\n",
    "prompt += '\\n(enter quit to end the programme.)'\n",
    "while  True:\n",
    "    city = input(prompt)\n",
    "    if city == 'quit':\n",
    "        break\n",
    "    else:\n",
    "        print('i would love to go ' + city.title())\n",
    "    \n",
    "    "
   ]
  },
  {
   "cell_type": "code",
   "execution_count": 75,
   "metadata": {},
   "outputs": [
    {
     "name": "stdout",
     "output_type": "stream",
     "text": [
      "1\n",
      "3\n",
      "5\n",
      "7\n",
      "9\n"
     ]
    }
   ],
   "source": [
    "\n",
    "current_number = 0\n",
    "while current_number<10:\n",
    "    current_number += 1\n",
    "    if current_number%2 ==0:\n",
    "        continue\n",
    "    print(current_number)\n",
    "        "
   ]
  },
  {
   "cell_type": "code",
   "execution_count": 76,
   "metadata": {},
   "outputs": [
    {
     "name": "stdout",
     "output_type": "stream",
     "text": [
      "2\n",
      "4\n",
      "6\n",
      "8\n",
      "10\n",
      "12\n",
      "14\n",
      "16\n",
      "18\n",
      "20\n"
     ]
    }
   ],
   "source": [
    "current_number = 0\n",
    "while current_number<20:\n",
    "    current_number += 1\n",
    "    if current_number%2 ==1:\n",
    "        continue\n",
    "    print(current_number)"
   ]
  },
  {
   "cell_type": "code",
   "execution_count": 77,
   "metadata": {},
   "outputs": [
    {
     "name": "stdout",
     "output_type": "stream",
     "text": [
      "enter the age of child 12\n",
      "the ticket is 12\n"
     ]
    }
   ],
   "source": [
    "age = int(input('enter the age of child '))\n",
    "if age<3:\n",
    "    print('the ticket is free')\n",
    "elif age<12:\n",
    "        print('the ticket is 50')\n",
    "else:\n",
    "    print('the ticket is 12')"
   ]
  },
  {
   "cell_type": "code",
   "execution_count": 78,
   "metadata": {},
   "outputs": [
    {
     "name": "stdout",
     "output_type": "stream",
     "text": [
      "what is your name? tom\n",
      "which mountain would you like to climb someday? everest\n",
      "would you like to another person respond?(yes/no )ye\n",
      "what is your name? remsey\n",
      "which mountain would you like to climb someday? devil thumb\n",
      "would you like to another person respond?(yes/no )no\n",
      "-----------polling result--------\n",
      "tom would like to climb everest.\n",
      "remsey would like to climb devil thumb.\n"
     ]
    }
   ],
   "source": [
    "responses = {}\n",
    "polling_active=True\n",
    "while polling_active:\n",
    "    name = input('what is your name? ')\n",
    "    response = input('which mountain would you like to climb someday? ')\n",
    "    responses[name] = response\n",
    "    repeat = input('would you like to another person respond?(yes/no )')\n",
    "    if repeat == 'no':\n",
    "        polling_active = False\n",
    "print('-----------polling result--------')\n",
    "for name,response in responses.items():\n",
    "    print(name + ' would like to climb ' + response + '.')\n",
    "    \n",
    "\n",
    "\n",
    "    "
   ]
  },
  {
   "cell_type": "code",
   "execution_count": 79,
   "metadata": {},
   "outputs": [
    {
     "name": "stdout",
     "output_type": "stream",
     "text": [
      "what is your name? lord\n",
      "which country would you like to visit someday? france\n",
      "would you like to another person respond?(yes/no )no\n",
      "-----------polling result--------\n",
      "lord would like to visit france.\n"
     ]
    }
   ],
   "source": [
    "responses = {}\n",
    "polling_active=True\n",
    "while polling_active:\n",
    "    name = input('what is your name? ')\n",
    "    response = input('which country would you like to visit someday? ')\n",
    "    responses[name] = response\n",
    "    repeat = input('would you like to another person respond?(yes/no )')\n",
    "    if repeat == 'no':\n",
    "        polling_active = False\n",
    "print('-----------polling result--------')\n",
    "for name,response in responses.items():\n",
    "    print(name + ' would like to visit ' + response + '.')"
   ]
  },
  {
   "cell_type": "markdown",
   "metadata": {},
   "source": [
    "## functions"
   ]
  },
  {
   "cell_type": "code",
   "execution_count": 80,
   "metadata": {},
   "outputs": [
    {
     "name": "stdout",
     "output_type": "stream",
     "text": [
      "hello\n"
     ]
    }
   ],
   "source": [
    "def greet_user():\n",
    "    '''display a simple greet'''\n",
    "    print('hello')\n",
    "greet_user()"
   ]
  },
  {
   "cell_type": "code",
   "execution_count": 81,
   "metadata": {},
   "outputs": [
    {
     "name": "stdout",
     "output_type": "stream",
     "text": [
      "hello Pitbull\n"
     ]
    }
   ],
   "source": [
    "def greet_user(username):\n",
    "    '''display a simple greet'''\n",
    "    print('hello ' + username.title())\n",
    "greet_user('pitbull')"
   ]
  },
  {
   "cell_type": "code",
   "execution_count": 82,
   "metadata": {},
   "outputs": [
    {
     "name": "stdout",
     "output_type": "stream",
     "text": [
      "one of my favorite books is norse mythology\n"
     ]
    }
   ],
   "source": [
    "def fav_books(book):\n",
    "    '''display the most liking books'''\n",
    "    print('one of my favorite books is ' + book)\n",
    "fav_books('norse mythology')"
   ]
  },
  {
   "cell_type": "code",
   "execution_count": 83,
   "metadata": {},
   "outputs": [
    {
     "name": "stdout",
     "output_type": "stream",
     "text": [
      "\n",
      "I have a cat.\n",
      "my cat name is Ronnie\n",
      "\n",
      "I have a dog.\n",
      "my dog name is Naples\n"
     ]
    }
   ],
   "source": [
    "def describe_pet(animal_type,pet_name):\n",
    "    '''display information about pet'''\n",
    "    print('\\nI have a ' + animal_type + '.' )\n",
    "    print('my ' + animal_type + ' name is ' + pet_name.title())\n",
    "describe_pet('cat','ronnie')\n",
    "describe_pet('dog','naples')\n",
    "    \n",
    "    \n",
    "    "
   ]
  },
  {
   "cell_type": "code",
   "execution_count": 84,
   "metadata": {},
   "outputs": [
    {
     "name": "stdout",
     "output_type": "stream",
     "text": [
      "\n",
      "I have a 45 size shirt.\n",
      "text printing on this t shirt is: I AM BAD.\n"
     ]
    }
   ],
   "source": [
    "def make_tshirt(size,text):    \n",
    "    '''this function tells the size and respective text'''\n",
    "    print('\\nI have a ' + size + ' size shirt' + '.')\n",
    "    print('text printing on this t shirt is: ' + text.upper() + '.')\n",
    "make_tshirt(size = '45',text = 'i am bad')"
   ]
  },
  {
   "cell_type": "code",
   "execution_count": 85,
   "metadata": {},
   "outputs": [
    {
     "name": "stdout",
     "output_type": "stream",
     "text": [
      "\n",
      "I have a 34 size shirt.\n",
      "text printing on this t shirt is: I AM CODER.\n"
     ]
    }
   ],
   "source": [
    "make_tshirt(size = '34',text = 'i am coder')"
   ]
  },
  {
   "cell_type": "code",
   "execution_count": 86,
   "metadata": {},
   "outputs": [
    {
     "name": "stdout",
     "output_type": "stream",
     "text": [
      "\n",
      "First country is United States Of America this country has Washington Dc\n",
      "the description about this country is: IT HAS 6000 NUCLEAR BOMB.\n"
     ]
    }
   ],
   "source": [
    "def describe_city(country,city,text):\n",
    "    '''this function tells the country and its country and description'''\n",
    "    print('\\nFirst country is ' + country.title() + ' this country has '+ city.title())\n",
    "    print('the description about this country is: ' + text.upper() + '.')\n",
    "describe_city(country = 'United states of america',city = 'Washington DC',text = 'it has 6000 nuclear bomb')"
   ]
  },
  {
   "cell_type": "code",
   "execution_count": 87,
   "metadata": {},
   "outputs": [
    {
     "name": "stdout",
     "output_type": "stream",
     "text": [
      "{'this album is created by eminem', 'marshal matthers'}\n",
      "{'this album is created by MGK', 'Lace up'}\n"
     ]
    }
   ],
   "source": [
    "def album(album_name,descrip):\n",
    "    '''return the dictionary of music album'''\n",
    "    info = {album_name,descrip}\n",
    "    return info\n",
    "musician = album('marshal matthers','this album is created by eminem')\n",
    "print(musician)\n",
    "musician = album('Lace up','this album is created by MGK')\n",
    "print(musician)\n"
   ]
  },
  {
   "cell_type": "code",
   "execution_count": 88,
   "metadata": {},
   "outputs": [
    {
     "name": "stdout",
     "output_type": "stream",
     "text": [
      "hello Hannah!\n",
      "hello Ty!\n",
      "hello Margot!\n"
     ]
    }
   ],
   "source": [
    "# passing the list\n",
    "def greet_users(names):\n",
    "    '''simple greeting to the users'''\n",
    "    for name in names:\n",
    "        msg = 'hello ' + name.title() + '!'\n",
    "        print(msg)\n",
    "usernames = ['hannah','ty','margot']\n",
    "greet_users(usernames)"
   ]
  },
  {
   "cell_type": "code",
   "execution_count": 89,
   "metadata": {},
   "outputs": [],
   "source": [
    "class dog():\n",
    "    ''' a simple attemp to make a dog'''\n",
    "    def __init__(self,name,age):\n",
    "        '''initialize name and age attributes'''\n",
    "        self.name = name\n",
    "        self.age = age\n",
    "    def sit(self):\n",
    "        '''simulate a dog sitting in response to a command'''\n",
    "        print(self.name.title()  , ' now is sitting')\n",
    "    def roll_over(self):\n",
    "        '''simulate rolling over in response to a command'''\n",
    "        print(self.name.title() + ' rolled over!')\n",
    "        "
   ]
  },
  {
   "cell_type": "code",
   "execution_count": 90,
   "metadata": {},
   "outputs": [],
   "source": [
    "# making an instances from classes\n",
    "my_dog = dog('rex',3)"
   ]
  },
  {
   "cell_type": "code",
   "execution_count": 91,
   "metadata": {},
   "outputs": [
    {
     "name": "stdout",
     "output_type": "stream",
     "text": [
      "Rex  now is sitting\n"
     ]
    }
   ],
   "source": [
    "# calling methods\n",
    "my_dog.sit()"
   ]
  },
  {
   "cell_type": "code",
   "execution_count": 92,
   "metadata": {},
   "outputs": [],
   "source": [
    "bro = dog('ricny',3)"
   ]
  },
  {
   "cell_type": "code",
   "execution_count": 93,
   "metadata": {},
   "outputs": [
    {
     "name": "stdout",
     "output_type": "stream",
     "text": [
      "Ricny rolled over!\n"
     ]
    }
   ],
   "source": [
    "bro.roll_over()"
   ]
  },
  {
   "cell_type": "code",
   "execution_count": 94,
   "metadata": {},
   "outputs": [
    {
     "name": "stdout",
     "output_type": "stream",
     "text": [
      "my dog name is Rex .\n",
      "my dog is 3 years old\n"
     ]
    }
   ],
   "source": [
    "print('my dog name is',my_dog.name.title(),'.')\n",
    "print('my dog is',str(my_dog.age), 'years old')"
   ]
  },
  {
   "cell_type": "code",
   "execution_count": 95,
   "metadata": {},
   "outputs": [
    {
     "name": "stdout",
     "output_type": "stream",
     "text": [
      "my dog name is  Lucy .\n",
      "my dog is  4 years old\n",
      "Lucy  now is sitting\n"
     ]
    }
   ],
   "source": [
    "# creating multiple instances\n",
    "your_dog = dog('lucy',4)\n",
    "print('my dog name is ',your_dog.name.title(), '.')\n",
    "print('my dog is ',str(your_dog.age),'years old')\n",
    "your_dog.sit()"
   ]
  },
  {
   "cell_type": "code",
   "execution_count": 101,
   "metadata": {},
   "outputs": [],
   "source": [
    "class restaurant():\n",
    "    '''this function stats name and type of restaurant'''\n",
    "    def __init__(self,restaurant_name,cuisine_type):\n",
    "        '''initialize restaurant name and food type'''\n",
    "        self.restaurant_name = restaurant_name\n",
    "        self.cuisine_type =cuisine_type\n",
    "    def describe_restaurant(self):\n",
    "        print('this restaurants name is ',self.restaurant_name.title(), 'the variety of food is ',self.cuisine_type)\n",
    "        "
   ]
  },
  {
   "cell_type": "code",
   "execution_count": 102,
   "metadata": {},
   "outputs": [],
   "source": [
    "hunger = restaurant('holiday inn','vegeterian')"
   ]
  },
  {
   "cell_type": "code",
   "execution_count": 103,
   "metadata": {},
   "outputs": [
    {
     "name": "stdout",
     "output_type": "stream",
     "text": [
      "this restaurants name is  Holiday Inn the variety of food is  vegeterian\n"
     ]
    }
   ],
   "source": [
    "hunger.describe_restaurant()"
   ]
  },
  {
   "cell_type": "code",
   "execution_count": 122,
   "metadata": {},
   "outputs": [
    {
     "name": "stdout",
     "output_type": "stream",
     "text": [
      " 2016 Audi A4 \n",
      "This car has 0 miles on it.\n"
     ]
    }
   ],
   "source": [
    "class car():\n",
    "    '''A simple method to represent the car'''\n",
    "    def __init__(self,make,model,year):\n",
    "        '''initialize the attributes'''\n",
    "        self.make = make\n",
    "        self.model = model\n",
    "        self.year = year\n",
    "        self.odometer_reading = 0\n",
    "    def get_descriptive_name(self):\n",
    "        long_name = str(self.year) + '' + self.make + '' + self.model\n",
    "        return long_name.title()\n",
    "    def read_odometer(self):\n",
    "        print('This car has ' + str(self.odometer_reading) + ' miles on it.')\n",
    "my_new_car = car('audi ','a4 ',' 2016 ')\n",
    "print(my_new_car.get_descriptive_name())\n",
    "my_new_car.read_odometer()\n",
    "        \n",
    "        \n",
    "    \n",
    "    "
   ]
  },
  {
   "cell_type": "code",
   "execution_count": 123,
   "metadata": {},
   "outputs": [
    {
     "name": "stdout",
     "output_type": "stream",
     "text": [
      "This car has 23 miles on it.\n"
     ]
    }
   ],
   "source": [
    "# changing the value\n",
    "my_new_car.odometer_reading = 23\n",
    "my_new_car.read_odometer()"
   ]
  },
  {
   "cell_type": "code",
   "execution_count": 129,
   "metadata": {},
   "outputs": [],
   "source": [
    "class car():\n",
    "    '''A simple method to represent the car'''\n",
    "    def __init__(self,make,model,year):\n",
    "        '''initialize the attributes'''\n",
    "        self.make = make\n",
    "        self.model = model\n",
    "        self.year = year\n",
    "        self.odometer_reading = 0\n",
    "    def get_descriptive_name(self):\n",
    "        long_name = str(self.year) + '' + self.make + '' + self.model\n",
    "        \n",
    "    def get_model(self):\n",
    "        print('earlier model was',self.model)\n",
    "    def set_model(self,model):\n",
    "        self.model = model\n",
    "        print('now the model is',self.model)"
   ]
  },
  {
   "cell_type": "code",
   "execution_count": 130,
   "metadata": {},
   "outputs": [],
   "source": [
    "#encapsulation \n",
    "BMW = car('BMW','F series','2015')"
   ]
  },
  {
   "cell_type": "code",
   "execution_count": 131,
   "metadata": {},
   "outputs": [
    {
     "name": "stdout",
     "output_type": "stream",
     "text": [
      "earlier model was F series\n"
     ]
    }
   ],
   "source": [
    "BMW.get_model()"
   ]
  },
  {
   "cell_type": "code",
   "execution_count": 132,
   "metadata": {},
   "outputs": [
    {
     "name": "stdout",
     "output_type": "stream",
     "text": [
      "now the model is 2019\n"
     ]
    }
   ],
   "source": [
    "BMW.set_model(2019)"
   ]
  },
  {
   "cell_type": "markdown",
   "metadata": {},
   "source": []
  }
 ],
 "metadata": {
  "kernelspec": {
   "display_name": "Python 3",
   "language": "python",
   "name": "python3"
  },
  "language_info": {
   "codemirror_mode": {
    "name": "ipython",
    "version": 3
   },
   "file_extension": ".py",
   "mimetype": "text/x-python",
   "name": "python",
   "nbconvert_exporter": "python",
   "pygments_lexer": "ipython3",
   "version": "3.7.3"
  }
 },
 "nbformat": 4,
 "nbformat_minor": 2
}

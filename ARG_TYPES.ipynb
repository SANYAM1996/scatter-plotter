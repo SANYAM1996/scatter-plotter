{
 "cells": [
  {
   "cell_type": "code",
   "execution_count": 1,
   "metadata": {},
   "outputs": [
    {
     "data": {
      "text/plain": [
       "'C:\\\\Users\\\\user\\\\OneDrive\\\\Desktop\\\\scatter-plotter'"
      ]
     },
     "execution_count": 1,
     "metadata": {},
     "output_type": "execute_result"
    }
   ],
   "source": [
    "pwd"
   ]
  },
  {
   "cell_type": "code",
   "execution_count": 3,
   "metadata": {},
   "outputs": [
    {
     "name": "stdout",
     "output_type": "stream",
     "text": [
      "30\n"
     ]
    }
   ],
   "source": [
    "# functions generally help to make code more efficient in working here i make a function of adding two numbers\n",
    "# and pass 2 arguments which are (10 and 20)( a and b are formal arguments) and values which are being pass is actual arguments.\n",
    "def add(a,b):\n",
    "    '''function of adding 2 numbers'''\n",
    "    c = a+b\n",
    "    print(c)\n",
    "add(10,20)"
   ]
  },
  {
   "cell_type": "code",
   "execution_count": 6,
   "metadata": {},
   "outputs": [
    {
     "name": "stdout",
     "output_type": "stream",
     "text": [
      "rocky\n",
      "30\n"
     ]
    }
   ],
   "source": [
    "def person(name,age):\n",
    "    print(name)\n",
    "    print(age)\n",
    "person('rocky',30)"
   ]
  },
  {
   "cell_type": "code",
   "execution_count": 9,
   "metadata": {},
   "outputs": [
    {
     "name": "stdout",
     "output_type": "stream",
     "text": [
      "30\n",
      "rocky\n"
     ]
    }
   ],
   "source": [
    "# positional arguments\n",
    "# it should be work fine without giving error\n",
    "def person(name,age):\n",
    "    print(age)\n",
    "    print(name)\n",
    "person('rocky',30)"
   ]
  },
  {
   "cell_type": "code",
   "execution_count": 10,
   "metadata": {},
   "outputs": [
    {
     "ename": "SyntaxError",
     "evalue": "invalid syntax (<ipython-input-10-8c4d04cde084>, line 4)",
     "output_type": "error",
     "traceback": [
      "\u001b[1;36m  File \u001b[1;32m\"<ipython-input-10-8c4d04cde084>\"\u001b[1;36m, line \u001b[1;32m4\u001b[0m\n\u001b[1;33m    def person(name,age-5):\u001b[0m\n\u001b[1;37m                       ^\u001b[0m\n\u001b[1;31mSyntaxError\u001b[0m\u001b[1;31m:\u001b[0m invalid syntax\n"
     ]
    }
   ],
   "source": [
    "# positional arguments\n",
    "# it should be work fine without giving error\n",
    "# if i subtract -5 from age then it gonna show me error because the position is not define.\n",
    "def person(name,age-5):\n",
    "    print(age)\n",
    "    print(name)\n",
    "person('rocky',30)"
   ]
  },
  {
   "cell_type": "code",
   "execution_count": 11,
   "metadata": {},
   "outputs": [
    {
     "name": "stdout",
     "output_type": "stream",
     "text": [
      "30\n",
      "rocky\n"
     ]
    }
   ],
   "source": [
    "# to resolve this we can use keyword argument\n",
    "def person(name,age):\n",
    "    print(age)\n",
    "    print(name)\n",
    "person(name = 'rocky', age = 30)"
   ]
  },
  {
   "cell_type": "code",
   "execution_count": 12,
   "metadata": {},
   "outputs": [
    {
     "name": "stdout",
     "output_type": "stream",
     "text": [
      "241\n"
     ]
    }
   ],
   "source": [
    "# variable length argument this argument help to take a multiple value in form of tuple\n",
    "def add(a,*b):\n",
    "    '''function of adding 2 numbers'''\n",
    "    c = a\n",
    "    for i in b:\n",
    "        c = c+i\n",
    "    print(c)\n",
    "add(10,20,10,78,89,34)\n"
   ]
  },
  {
   "cell_type": "code",
   "execution_count": 14,
   "metadata": {},
   "outputs": [
    {
     "name": "stdout",
     "output_type": "stream",
     "text": [
      "ron\n",
      "{'workplace': 'vienna', 'age': 34, 'mob': 87635789274}\n"
     ]
    }
   ],
   "source": [
    "# keyword arguments or kwargs[arguments with keywords]\n",
    "def person(name, **b):\n",
    "    print(name)\n",
    "    print(b)\n",
    "    \n",
    "person(name = 'ron', workplace = 'vienna', age = 34, mob = 87635789274)"
   ]
  },
  {
   "cell_type": "code",
   "execution_count": 17,
   "metadata": {},
   "outputs": [
    {
     "name": "stdout",
     "output_type": "stream",
     "text": [
      "Enter the first number 100\n",
      "Enter the second number 2\n",
      "102 98 200 50.0\n"
     ]
    }
   ],
   "source": [
    "x = int(input('Enter the first number '))\n",
    "y = int(input('Enter the second number '))\n",
    "def add_sub_mul_div(x,y):\n",
    "    a = x+y\n",
    "    b = x-y\n",
    "    c = x*y\n",
    "    d = x/y\n",
    "    return a,b,c,d\n",
    "result1,result2,result3,result4 = add_sub_mul_div(x,y)\n",
    "print(result1,result2,result3,result4)"
   ]
  },
  {
   "cell_type": "code",
   "execution_count": null,
   "metadata": {},
   "outputs": [],
   "source": []
  }
 ],
 "metadata": {
  "kernelspec": {
   "display_name": "Python 3",
   "language": "python",
   "name": "python3"
  },
  "language_info": {
   "codemirror_mode": {
    "name": "ipython",
    "version": 3
   },
   "file_extension": ".py",
   "mimetype": "text/x-python",
   "name": "python",
   "nbconvert_exporter": "python",
   "pygments_lexer": "ipython3",
   "version": "3.7.1"
  }
 },
 "nbformat": 4,
 "nbformat_minor": 2
}

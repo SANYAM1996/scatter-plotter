{
 "cells": [
  {
   "cell_type": "code",
   "execution_count": 1,
   "metadata": {},
   "outputs": [
    {
     "data": {
      "text/plain": [
       "'C:\\\\Users\\\\user\\\\OneDrive\\\\Desktop\\\\scatter-plotter'"
      ]
     },
     "execution_count": 1,
     "metadata": {},
     "output_type": "execute_result"
    }
   ],
   "source": [
    "pwd"
   ]
  },
  {
   "cell_type": "code",
   "execution_count": 2,
   "metadata": {},
   "outputs": [
    {
     "name": "stdout",
     "output_type": "stream",
     "text": [
      "500 silver\n"
     ]
    }
   ],
   "source": [
    "class car:\n",
    "    pass\n",
    "ford = car()\n",
    "audi = car()\n",
    "maserati = car()\n",
    "dodge = car()\n",
    "\n",
    "ford.speed = 300\n",
    "audi.speed = 450\n",
    "maserati.speed = 400\n",
    "dodge.speed = 500\n",
    "\n",
    "\n",
    "ford.color = 'red'\n",
    "audi.color = 'black'\n",
    "maserati.color = 'blue'\n",
    "dodge.color = 'silver'\n",
    "\n",
    "print(dodge.speed,dodge.color)"
   ]
  },
  {
   "cell_type": "code",
   "execution_count": 3,
   "metadata": {},
   "outputs": [
    {
     "name": "stdout",
     "output_type": "stream",
     "text": [
      "300\n",
      "red\n",
      "450\n",
      "black\n",
      "400\n",
      "blue\n",
      "500\n",
      "silver\n"
     ]
    }
   ],
   "source": [
    "class car:\n",
    "    def __init__(self, speed, color):\n",
    "        print(speed)\n",
    "        print(color)\n",
    "  \n",
    "        \n",
    "ford = car(300,'red')\n",
    "audi = car(450,'black')\n",
    "maserati = car(400,'blue')\n",
    "dodge = car(500,'silver')\n",
    "\n",
    "# ford.speed = 300\n",
    "# audi.speed = 450\n",
    "# maserati.speed = 400\n",
    "# dodge.speed = 500\n",
    "\n",
    "\n",
    "# ford.color = 'red'\n",
    "# audi.color = 'black'\n",
    "# maserati.color = 'blue'\n",
    "# dodge.color = 'silver'\n",
    "\n",
    "# print(dodge.speed,dodge.color)"
   ]
  },
  {
   "cell_type": "code",
   "execution_count": 4,
   "metadata": {},
   "outputs": [
    {
     "name": "stdout",
     "output_type": "stream",
     "text": [
      "400\n",
      "1600\n"
     ]
    }
   ],
   "source": [
    "class square:\n",
    "    def __init__(self,length,width):\n",
    "        self.length = length\n",
    "        self.width = width\n",
    "        \n",
    "square1 = square(20,20)\n",
    "square2 = square(40,40)\n",
    "\n",
    "print(square1.length * square1.width)\n",
    "print(square2.length * square2.width)\n"
   ]
  },
  {
   "cell_type": "code",
   "execution_count": 5,
   "metadata": {},
   "outputs": [
    {
     "name": "stdout",
     "output_type": "stream",
     "text": [
      "240.0\n"
     ]
    }
   ],
   "source": [
    "class trapezium:\n",
    "    def __init__(self,length1,length2,depth):\n",
    "        self.length1 = length1\n",
    "        self.length2 = length2\n",
    "        self.depth = depth\n",
    "        \n",
    "trapezium1 = trapezium(20,40,8)\n",
    "\n",
    "\n",
    "print(((trapezium1.length1+trapezium1.length2)/2) * trapezium1.depth)\n"
   ]
  },
  {
   "cell_type": "code",
   "execution_count": 6,
   "metadata": {},
   "outputs": [
    {
     "ename": "AttributeError",
     "evalue": "type object 'private' has no attribute '__private_method'",
     "output_type": "error",
     "traceback": [
      "\u001b[1;31m---------------------------------------------------------------------------\u001b[0m",
      "\u001b[1;31mAttributeError\u001b[0m                            Traceback (most recent call last)",
      "\u001b[1;32m<ipython-input-6-bef1e14b6e57>\u001b[0m in \u001b[0;36m<module>\u001b[1;34m\u001b[0m\n\u001b[0;32m      5\u001b[0m         \u001b[0mprint\u001b[0m\u001b[1;33m(\u001b[0m\u001b[1;34m'private method'\u001b[0m\u001b[1;33m)\u001b[0m\u001b[1;33m\u001b[0m\u001b[1;33m\u001b[0m\u001b[0m\n\u001b[0;32m      6\u001b[0m \u001b[1;33m\u001b[0m\u001b[0m\n\u001b[1;32m----> 7\u001b[1;33m \u001b[0mprivate\u001b[0m\u001b[1;33m.\u001b[0m\u001b[0m__private_method\u001b[0m\u001b[1;33m(\u001b[0m\u001b[1;33m)\u001b[0m\u001b[1;33m\u001b[0m\u001b[1;33m\u001b[0m\u001b[0m\n\u001b[0m",
      "\u001b[1;31mAttributeError\u001b[0m: type object 'private' has no attribute '__private_method'"
     ]
    }
   ],
   "source": [
    "# encapsulation of method in class\n",
    "# this error tells us that our function under class is not changeable.\n",
    "class private():\n",
    "    def __private_method():\n",
    "        print('private method')\n",
    "              \n",
    "private.__private_method()"
   ]
  },
  {
   "cell_type": "code",
   "execution_count": 7,
   "metadata": {},
   "outputs": [
    {
     "ename": "TypeError",
     "evalue": "'int' object is not callable",
     "output_type": "error",
     "traceback": [
      "\u001b[1;31m---------------------------------------------------------------------------\u001b[0m",
      "\u001b[1;31mTypeError\u001b[0m                                 Traceback (most recent call last)",
      "\u001b[1;32m<ipython-input-7-e67848edd912>\u001b[0m in \u001b[0;36m<module>\u001b[1;34m\u001b[0m\n\u001b[0;32m     21\u001b[0m \u001b[0mrect\u001b[0m\u001b[1;33m.\u001b[0m\u001b[0mset_values\u001b[0m\u001b[1;33m(\u001b[0m\u001b[1;36m50\u001b[0m\u001b[1;33m,\u001b[0m\u001b[1;36m40\u001b[0m\u001b[1;33m)\u001b[0m\u001b[1;33m\u001b[0m\u001b[1;33m\u001b[0m\u001b[0m\n\u001b[0;32m     22\u001b[0m \u001b[0mtri\u001b[0m\u001b[1;33m.\u001b[0m\u001b[0mset_values\u001b[0m\u001b[1;33m(\u001b[0m\u001b[1;36m50\u001b[0m\u001b[1;33m,\u001b[0m\u001b[1;36m50\u001b[0m\u001b[1;33m)\u001b[0m\u001b[1;33m\u001b[0m\u001b[1;33m\u001b[0m\u001b[0m\n\u001b[1;32m---> 23\u001b[1;33m \u001b[0mprint\u001b[0m\u001b[1;33m(\u001b[0m\u001b[0mrect\u001b[0m\u001b[1;33m.\u001b[0m\u001b[0marea\u001b[0m\u001b[1;33m(\u001b[0m\u001b[1;33m)\u001b[0m\u001b[1;33m)\u001b[0m\u001b[1;33m\u001b[0m\u001b[1;33m\u001b[0m\u001b[0m\n\u001b[0m\u001b[0;32m     24\u001b[0m \u001b[0mprint\u001b[0m\u001b[1;33m(\u001b[0m\u001b[0mtri\u001b[0m\u001b[1;33m.\u001b[0m\u001b[0marea\u001b[0m\u001b[1;33m(\u001b[0m\u001b[1;33m)\u001b[0m\u001b[1;33m)\u001b[0m\u001b[1;33m\u001b[0m\u001b[1;33m\u001b[0m\u001b[0m\n",
      "\u001b[1;32m<ipython-input-7-e67848edd912>\u001b[0m in \u001b[0;36marea\u001b[1;34m(self)\u001b[0m\n\u001b[0;32m     10\u001b[0m \u001b[1;32mclass\u001b[0m \u001b[0mrectangle\u001b[0m\u001b[1;33m(\u001b[0m\u001b[0mpolygon\u001b[0m\u001b[1;33m)\u001b[0m\u001b[1;33m:\u001b[0m\u001b[1;33m\u001b[0m\u001b[1;33m\u001b[0m\u001b[0m\n\u001b[0;32m     11\u001b[0m     \u001b[1;32mdef\u001b[0m \u001b[0marea\u001b[0m\u001b[1;33m(\u001b[0m\u001b[0mself\u001b[0m\u001b[1;33m)\u001b[0m\u001b[1;33m:\u001b[0m\u001b[1;33m\u001b[0m\u001b[1;33m\u001b[0m\u001b[0m\n\u001b[1;32m---> 12\u001b[1;33m         \u001b[1;32mreturn\u001b[0m \u001b[0mself\u001b[0m\u001b[1;33m.\u001b[0m\u001b[0m_width\u001b[0m\u001b[1;33m(\u001b[0m\u001b[1;33m)\u001b[0m \u001b[1;33m*\u001b[0m \u001b[0mself\u001b[0m\u001b[1;33m.\u001b[0m\u001b[0m_height\u001b[0m\u001b[1;33m(\u001b[0m\u001b[1;33m)\u001b[0m\u001b[1;33m\u001b[0m\u001b[1;33m\u001b[0m\u001b[0m\n\u001b[0m\u001b[0;32m     13\u001b[0m \u001b[1;33m\u001b[0m\u001b[0m\n\u001b[0;32m     14\u001b[0m \u001b[1;33m\u001b[0m\u001b[0m\n",
      "\u001b[1;31mTypeError\u001b[0m: 'int' object is not callable"
     ]
    }
   ],
   "source": [
    "# inheritence of subclass from super class\n",
    "class polygon:\n",
    "    _width = None\n",
    "    _height = None\n",
    "    \n",
    "    def set_values(self,width,height):\n",
    "        self._width = width\n",
    "        self._height = height\n",
    "        \n",
    "class rectangle(polygon):\n",
    "    def area(self):\n",
    "        return self._width() * self._height()\n",
    "    \n",
    "    \n",
    "class triangle(polygon):\n",
    "    def area(self):\n",
    "        return self._width() * self_height()/2\n",
    "    \n",
    "rect = rectangle()\n",
    "tri = triangle()\n",
    "rect.set_values(50,40)\n",
    "tri.set_values(50,50)\n",
    "print(rect.area())\n",
    "print(tri.area())"
   ]
  },
  {
   "cell_type": "code",
   "execution_count": 8,
   "metadata": {},
   "outputs": [
    {
     "ename": "AttributeError",
     "evalue": "'rectangle' object has no attribute '_rectangle__width'",
     "output_type": "error",
     "traceback": [
      "\u001b[1;31m---------------------------------------------------------------------------\u001b[0m",
      "\u001b[1;31mAttributeError\u001b[0m                            Traceback (most recent call last)",
      "\u001b[1;32m<ipython-input-8-a474013c5254>\u001b[0m in \u001b[0;36m<module>\u001b[1;34m\u001b[0m\n\u001b[0;32m     22\u001b[0m \u001b[0mrect\u001b[0m\u001b[1;33m.\u001b[0m\u001b[0mset_values\u001b[0m\u001b[1;33m(\u001b[0m\u001b[1;36m50\u001b[0m\u001b[1;33m,\u001b[0m\u001b[1;36m40\u001b[0m\u001b[1;33m)\u001b[0m\u001b[1;33m\u001b[0m\u001b[1;33m\u001b[0m\u001b[0m\n\u001b[0;32m     23\u001b[0m \u001b[0mtri\u001b[0m\u001b[1;33m.\u001b[0m\u001b[0mset_values\u001b[0m\u001b[1;33m(\u001b[0m\u001b[1;36m50\u001b[0m\u001b[1;33m,\u001b[0m\u001b[1;36m50\u001b[0m\u001b[1;33m)\u001b[0m\u001b[1;33m\u001b[0m\u001b[1;33m\u001b[0m\u001b[0m\n\u001b[1;32m---> 24\u001b[1;33m \u001b[0mprint\u001b[0m\u001b[1;33m(\u001b[0m\u001b[0mrect\u001b[0m\u001b[1;33m.\u001b[0m\u001b[0marea\u001b[0m\u001b[1;33m(\u001b[0m\u001b[1;33m)\u001b[0m\u001b[1;33m)\u001b[0m\u001b[1;33m\u001b[0m\u001b[1;33m\u001b[0m\u001b[0m\n\u001b[0m",
      "\u001b[1;32m<ipython-input-8-a474013c5254>\u001b[0m in \u001b[0;36marea\u001b[1;34m(self)\u001b[0m\n\u001b[0;32m     11\u001b[0m \u001b[1;32mclass\u001b[0m \u001b[0mrectangle\u001b[0m\u001b[1;33m(\u001b[0m\u001b[0mpolygon\u001b[0m\u001b[1;33m)\u001b[0m\u001b[1;33m:\u001b[0m\u001b[1;33m\u001b[0m\u001b[1;33m\u001b[0m\u001b[0m\n\u001b[0;32m     12\u001b[0m     \u001b[1;32mdef\u001b[0m \u001b[0marea\u001b[0m\u001b[1;33m(\u001b[0m\u001b[0mself\u001b[0m\u001b[1;33m)\u001b[0m\u001b[1;33m:\u001b[0m\u001b[1;33m\u001b[0m\u001b[1;33m\u001b[0m\u001b[0m\n\u001b[1;32m---> 13\u001b[1;33m         \u001b[1;32mreturn\u001b[0m \u001b[0mself\u001b[0m\u001b[1;33m.\u001b[0m\u001b[0m__width\u001b[0m\u001b[1;33m(\u001b[0m\u001b[1;33m)\u001b[0m\u001b[1;33m*\u001b[0m\u001b[0mself\u001b[0m\u001b[1;33m.\u001b[0m\u001b[0m__height\u001b[0m\u001b[1;33m(\u001b[0m\u001b[1;33m)\u001b[0m\u001b[1;33m\u001b[0m\u001b[1;33m\u001b[0m\u001b[0m\n\u001b[0m\u001b[0;32m     14\u001b[0m \u001b[1;33m\u001b[0m\u001b[0m\n\u001b[0;32m     15\u001b[0m \u001b[1;33m\u001b[0m\u001b[0m\n",
      "\u001b[1;31mAttributeError\u001b[0m: 'rectangle' object has no attribute '_rectangle__width'"
     ]
    }
   ],
   "source": [
    "# now i am using encapsulation to make all the values private\n",
    "# by using double underscore everywhere\n",
    "class polygon:\n",
    "    __width = None\n",
    "    __height = None\n",
    "    \n",
    "    def set_values(self,width,height):\n",
    "        self.__width = width\n",
    "        self.__height = height\n",
    "        \n",
    "class rectangle(polygon):\n",
    "    def area(self):\n",
    "        return self.__width()*self.__height()\n",
    "    \n",
    "    \n",
    "class triangle(polygon):\n",
    "    def area(self):\n",
    "        return self.__width() *__height()/2\n",
    "    \n",
    "rect = rectangle()\n",
    "tri = triangle()\n",
    "rect.set_values(50,40)\n",
    "tri.set_values(50,50)\n",
    "print(rect.area())"
   ]
  },
  {
   "cell_type": "code",
   "execution_count": 9,
   "metadata": {},
   "outputs": [
    {
     "name": "stdout",
     "output_type": "stream",
     "text": [
      "2000\n",
      "1250.0\n"
     ]
    }
   ],
   "source": [
    "class polygon:\n",
    "    __width = None\n",
    "    __height = None\n",
    "    \n",
    "    def set_values(self,width,height):\n",
    "        self.__width = width\n",
    "        self.__height = height\n",
    "        \n",
    "    def get_width(self):\n",
    "        return self.__width\n",
    "    def get_height(self):\n",
    "        return self.__height\n",
    "        \n",
    "class rectangle(polygon):\n",
    "    def area(self):\n",
    "        return self.get_width()* self.get_height()\n",
    "    \n",
    "    \n",
    "class triangle(polygon):\n",
    "    def area(self):\n",
    "        return self.get_width() * self.get_height()/2\n",
    "    \n",
    "rect = rectangle()\n",
    "tri = triangle()\n",
    "rect.set_values(50,40)\n",
    "tri.set_values(50,50)\n",
    "print(rect.area())\n",
    "print(tri.area())"
   ]
  },
  {
   "cell_type": "code",
   "execution_count": 10,
   "metadata": {},
   "outputs": [],
   "source": [
    "def add(a,b):\n",
    "    return(a+b)\n",
    "def subtract(a,b):\n",
    "    return(a+b)"
   ]
  },
  {
   "cell_type": "code",
   "execution_count": 11,
   "metadata": {},
   "outputs": [
    {
     "data": {
      "text/plain": [
       "8"
      ]
     },
     "execution_count": 11,
     "metadata": {},
     "output_type": "execute_result"
    }
   ],
   "source": [
    "add(3,5)"
   ]
  },
  {
   "cell_type": "code",
   "execution_count": 12,
   "metadata": {},
   "outputs": [
    {
     "name": "stdout",
     "output_type": "stream",
     "text": [
      "child__init\n",
      "parent_init_ max\n"
     ]
    },
    {
     "ename": "AttributeError",
     "evalue": "'child' object has no attribute '__mro__'",
     "output_type": "error",
     "traceback": [
      "\u001b[1;31m---------------------------------------------------------------------------\u001b[0m",
      "\u001b[1;31mAttributeError\u001b[0m                            Traceback (most recent call last)",
      "\u001b[1;32m<ipython-input-12-09129ab90232>\u001b[0m in \u001b[0;36m<module>\u001b[1;34m\u001b[0m\n\u001b[0;32m      9\u001b[0m \u001b[1;33m\u001b[0m\u001b[0m\n\u001b[0;32m     10\u001b[0m \u001b[0mchild\u001b[0m \u001b[1;33m=\u001b[0m \u001b[0mchild\u001b[0m\u001b[1;33m(\u001b[0m\u001b[1;33m)\u001b[0m\u001b[1;33m\u001b[0m\u001b[1;33m\u001b[0m\u001b[0m\n\u001b[1;32m---> 11\u001b[1;33m \u001b[0mprint\u001b[0m\u001b[1;33m(\u001b[0m\u001b[0mchild\u001b[0m\u001b[1;33m.\u001b[0m\u001b[0m__mro__\u001b[0m\u001b[1;33m)\u001b[0m\u001b[1;33m\u001b[0m\u001b[1;33m\u001b[0m\u001b[0m\n\u001b[0m",
      "\u001b[1;31mAttributeError\u001b[0m: 'child' object has no attribute '__mro__'"
     ]
    }
   ],
   "source": [
    "class parent:\n",
    "    def __init__(self,name):\n",
    "        print('parent_init_',name)\n",
    "        \n",
    "class child(parent):\n",
    "    def __init__(self):\n",
    "        print('child__init')\n",
    "        super().__init__('max')\n",
    "        \n",
    "child = child()\n",
    "print(child.__mro__)"
   ]
  },
  {
   "cell_type": "code",
   "execution_count": 13,
   "metadata": {},
   "outputs": [],
   "source": [
    "import time"
   ]
  },
  {
   "cell_type": "code",
   "execution_count": 14,
   "metadata": {},
   "outputs": [],
   "source": [
    "initial = time.time()"
   ]
  },
  {
   "cell_type": "code",
   "execution_count": 15,
   "metadata": {},
   "outputs": [
    {
     "name": "stdout",
     "output_type": "stream",
     "text": [
      "YES\n",
      "YES\n",
      "YES\n",
      "YES\n",
      "YES\n",
      "YES\n",
      "YES\n",
      "YES\n",
      "YES\n",
      "YES\n",
      "while loop run in 0.17699694633483887 seconds\n"
     ]
    }
   ],
   "source": [
    "k = 0\n",
    "while(k<10):\n",
    "    print('YES')\n",
    "    k+=1\n",
    "    \n",
    "print('while loop run in', time.time() - initial,'seconds')"
   ]
  },
  {
   "cell_type": "code",
   "execution_count": 16,
   "metadata": {},
   "outputs": [
    {
     "name": "stdout",
     "output_type": "stream",
     "text": [
      "Thu Aug  1 11:33:48 2019\n"
     ]
    }
   ],
   "source": [
    "localtime = time.asctime(time.localtime(time.time()))\n",
    "print(localtime)"
   ]
  },
  {
   "cell_type": "code",
   "execution_count": 17,
   "metadata": {},
   "outputs": [
    {
     "name": "stdout",
     "output_type": "stream",
     "text": [
      "7\n"
     ]
    }
   ],
   "source": [
    "# anonymous function\n",
    "f = lambda a,b : a+b\n",
    "result = f(3,4)\n",
    "print(result)"
   ]
  },
  {
   "cell_type": "code",
   "execution_count": 18,
   "metadata": {},
   "outputs": [
    {
     "name": "stdout",
     "output_type": "stream",
     "text": [
      "3\n"
     ]
    }
   ],
   "source": [
    "# decorators\n",
    "def outer():\n",
    "    x = 3\n",
    "    def inner():\n",
    "        y = 3\n",
    "        result = x + y\n",
    "        return result\n",
    "    return inner\n",
    "\n",
    "a = outer()\n",
    "print(3)"
   ]
  },
  {
   "cell_type": "code",
   "execution_count": 19,
   "metadata": {},
   "outputs": [],
   "source": [
    "# polymorphsisim\n",
    "class pycharm:\n",
    "    def execute(self):\n",
    "        print('compiling')\n",
    "        print('running')\n",
    "class laptop:\n",
    "    def code(self,ide):\n",
    "        ide.execute()\n",
    "        \n",
    "ide = pycharm()"
   ]
  },
  {
   "cell_type": "code",
   "execution_count": 20,
   "metadata": {},
   "outputs": [
    {
     "name": "stdout",
     "output_type": "stream",
     "text": [
      "compiling\n",
      "running\n"
     ]
    }
   ],
   "source": [
    "lap1  =laptop()\n",
    "lap1.code(ide)"
   ]
  },
  {
   "cell_type": "code",
   "execution_count": 21,
   "metadata": {},
   "outputs": [
    {
     "name": "stdout",
     "output_type": "stream",
     "text": [
      "compiling\n",
      "running\n",
      "sign\n",
      "convention\n",
      "help\n"
     ]
    }
   ],
   "source": [
    "class editor:\n",
    "    def execute(self):\n",
    "        print('compiling')\n",
    "        print('running')\n",
    "        print('sign')\n",
    "        print('convention')\n",
    "        print('help')\n",
    "        \n",
    "        \n",
    "class base:\n",
    "    def clan(self,ide):\n",
    "        ide.execute()\n",
    "        \n",
    "ide = editor()\n",
    "tab = base()\n",
    "tab.clan(ide)"
   ]
  },
  {
   "cell_type": "code",
   "execution_count": 22,
   "metadata": {},
   "outputs": [
    {
     "name": "stdout",
     "output_type": "stream",
     "text": [
      "88\n"
     ]
    }
   ],
   "source": [
    "# operator overloading\n",
    "class student:\n",
    "    def __init__(self,m1,m2):\n",
    "        self.m1 = m1\n",
    "        self.m2 = m2\n",
    "        \n",
    "    def __add__(self,other): \n",
    "        m1 = self.m1 + other.m1\n",
    "        m2 = self.m2 + other.m2\n",
    "        s3 = student(m1,m2)\n",
    "        return s3\n",
    "    \n",
    "        \n",
    "s1 = student(48,90)\n",
    "s2 = student(40,20)\n",
    "\n",
    "s3 = s1+s2\n",
    "print(s3.m1)"
   ]
  },
  {
   "cell_type": "markdown",
   "metadata": {},
   "source": [
    "# practing some OOPS only by class "
   ]
  },
  {
   "cell_type": "code",
   "execution_count": 30,
   "metadata": {},
   "outputs": [
    {
     "name": "stdout",
     "output_type": "stream",
     "text": [
      "red 2000\n"
     ]
    }
   ],
   "source": [
    "class dog:\n",
    "    pass\n",
    "\n",
    "jack = dog()\n",
    "ali = dog()\n",
    "\n",
    "jack.color = 'black'\n",
    "ali.color = 'red'\n",
    "\n",
    "jack.price = '1000'\n",
    "ali.price = '2000'\n",
    "\n",
    "\n",
    "print(ali.color,ali.price)\n",
    "       \n"
   ]
  },
  {
   "cell_type": "code",
   "execution_count": 35,
   "metadata": {},
   "outputs": [
    {
     "name": "stdout",
     "output_type": "stream",
     "text": [
      "50000 colorado audi 10000 texas bmw\n",
      "10000 texas bmw\n",
      "90000 new orleans morrison garage\n",
      "453200 new hampshire corvette\n",
      "7865390 washington dc lexus\n"
     ]
    }
   ],
   "source": [
    "class family:\n",
    "    pass\n",
    "\n",
    "ron = family()\n",
    "adam = family()\n",
    "shane = family()\n",
    "tyler = family()\n",
    "travis = family()\n",
    "\n",
    "\n",
    "ron.salary = '50000'\n",
    "adam.salary = '10000'\n",
    "shane.salary = '90000'\n",
    "tyler.salary = '453200'\n",
    "travis.salary = '7865390'\n",
    "\n",
    "\n",
    "ron.lives = 'colorado'\n",
    "adam.lives = 'texas'\n",
    "shane.lives = 'new orleans'\n",
    "tyler.lives = 'new hampshire'\n",
    "travis.lives = 'washington dc'\n",
    "\n",
    "ron.car = 'audi'\n",
    "adam.car = 'bmw'\n",
    "shane.car = 'morrison garage'\n",
    "tyler.car = 'corvette'\n",
    "travis.car = 'lexus'\n",
    "\n",
    "\n",
    "print( ron.salary ,ron.lives, ron.car)\n",
    "print(adam.salary,adam.lives,adam.car)\n",
    "print(shane.salary,shane.lives,shane.car)\n",
    "print(tyler.salary,tyler.lives,tyler.car)\n",
    "print(travis.salary,travis.lives,travis.car)"
   ]
  },
  {
   "cell_type": "code",
   "execution_count": 32,
   "metadata": {},
   "outputs": [
    {
     "name": "stdout",
     "output_type": "stream",
     "text": [
      "hi i am tim and my color is blue and i am 12 years old having weight 56 lbs\n",
      "hi i am fred and my color is black and i am 8 years old having weight 67 lbs\n",
      "hi i am casey and my color is brown and i am 10 years old having weight 89 lbs\n"
     ]
    }
   ],
   "source": [
    "class dog:\n",
    "    def __init__(self,name,color,age,weight):\n",
    "        \n",
    "        self.name = name\n",
    "        self.color = color\n",
    "        self.age = age\n",
    "        self.weight = weight\n",
    "   \n",
    "        \n",
    "    def speak(self):\n",
    "        print('hi i am',self.name,'and my color is',self.color,'and i am',self.age,'years old','having weight',self.weight,'lbs')\n",
    "        \n",
    "                \n",
    "tim = dog('tim','blue',12,56)\n",
    "tim.speak()\n",
    "fred = dog('fred','black',8,67)\n",
    "fred.speak()\n",
    "casey = dog('casey','brown',10,89)\n",
    "casey.speak()\n"
   ]
  },
  {
   "cell_type": "code",
   "execution_count": 5,
   "metadata": {},
   "outputs": [
    {
     "data": {
      "text/plain": [
       "<__main__.dog at 0x63f68b0>"
      ]
     },
     "execution_count": 5,
     "metadata": {},
     "output_type": "execute_result"
    }
   ],
   "source": [
    "tim"
   ]
  },
  {
   "cell_type": "code",
   "execution_count": 22,
   "metadata": {},
   "outputs": [
    {
     "name": "stdout",
     "output_type": "stream",
     "text": [
      "hi i am tim and my color is blue and i am 12 years old\n"
     ]
    }
   ],
   "source": [
    "tim.speak()"
   ]
  },
  {
   "cell_type": "code",
   "execution_count": 34,
   "metadata": {},
   "outputs": [
    {
     "data": {
      "text/plain": [
       "12"
      ]
     },
     "execution_count": 34,
     "metadata": {},
     "output_type": "execute_result"
    }
   ],
   "source": [
    "tim.age"
   ]
  },
  {
   "cell_type": "code",
   "execution_count": 46,
   "metadata": {},
   "outputs": [
    {
     "name": "stdout",
     "output_type": "stream",
     "text": [
      "hi my name is sandy i am male my age is 34 and my weight is 78 i work in google\n"
     ]
    }
   ],
   "source": [
    "class family:\n",
    "    def __init__(self,name,gender,age,weight,profession):\n",
    "        \n",
    "        \n",
    "        self.name = name\n",
    "        self.gender = gender\n",
    "        self.age = age\n",
    "        self.weight = weight\n",
    "        self.profession = profession\n",
    "    \n",
    "    \n",
    "    def stats(self):\n",
    "        print('hi my name is',self.name,'i am',self.gender,'my age is',self.age,'and my weight is',self.weight,'i work in',self.profession)\n",
    "        \n",
    "sandy = family('sandy','male',34,78,'google')\n",
    "sandy.stats()"
   ]
  },
  {
   "cell_type": "code",
   "execution_count": null,
   "metadata": {},
   "outputs": [],
   "source": []
  }
 ],
 "metadata": {
  "kernelspec": {
   "display_name": "Python 3",
   "language": "python",
   "name": "python3"
  },
  "language_info": {
   "codemirror_mode": {
    "name": "ipython",
    "version": 3
   },
   "file_extension": ".py",
   "mimetype": "text/x-python",
   "name": "python",
   "nbconvert_exporter": "python",
   "pygments_lexer": "ipython3",
   "version": "3.7.4"
  }
 },
 "nbformat": 4,
 "nbformat_minor": 2
}

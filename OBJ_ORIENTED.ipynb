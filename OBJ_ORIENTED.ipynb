{
 "cells": [
  {
   "cell_type": "code",
   "execution_count": 1,
   "metadata": {},
   "outputs": [
    {
     "data": {
      "text/plain": [
       "'C:\\\\Users\\\\user\\\\OneDrive\\\\Desktop\\\\scatter-plotter'"
      ]
     },
     "execution_count": 1,
     "metadata": {},
     "output_type": "execute_result"
    }
   ],
   "source": [
    "pwd"
   ]
  },
  {
   "cell_type": "code",
   "execution_count": 2,
   "metadata": {},
   "outputs": [
    {
     "name": "stdout",
     "output_type": "stream",
     "text": [
      "500 silver\n"
     ]
    }
   ],
   "source": [
    "class car:\n",
    "    pass\n",
    "ford = car()\n",
    "audi = car()\n",
    "maserati = car()\n",
    "dodge = car()\n",
    "\n",
    "ford.speed = 300\n",
    "audi.speed = 450\n",
    "maserati.speed = 400\n",
    "dodge.speed = 500\n",
    "\n",
    "\n",
    "ford.color = 'red'\n",
    "audi.color = 'black'\n",
    "maserati.color = 'blue'\n",
    "dodge.color = 'silver'\n",
    "\n",
    "print(dodge.speed,dodge.color)"
   ]
  },
  {
   "cell_type": "code",
   "execution_count": 3,
   "metadata": {},
   "outputs": [
    {
     "name": "stdout",
     "output_type": "stream",
     "text": [
      "300\n",
      "red\n",
      "450\n",
      "black\n",
      "400\n",
      "blue\n",
      "500\n",
      "silver\n"
     ]
    }
   ],
   "source": [
    "class car:\n",
    "    def __init__(self, speed, color):\n",
    "        print(speed)\n",
    "        print(color)\n",
    "  \n",
    "        \n",
    "ford = car(300,'red')\n",
    "audi = car(450,'black')\n",
    "maserati = car(400,'blue')\n",
    "dodge = car(500,'silver')\n",
    "\n",
    "# ford.speed = 300\n",
    "# audi.speed = 450\n",
    "# maserati.speed = 400\n",
    "# dodge.speed = 500\n",
    "\n",
    "\n",
    "# ford.color = 'red'\n",
    "# audi.color = 'black'\n",
    "# maserati.color = 'blue'\n",
    "# dodge.color = 'silver'\n",
    "\n",
    "# print(dodge.speed,dodge.color)"
   ]
  },
  {
   "cell_type": "code",
   "execution_count": 4,
   "metadata": {},
   "outputs": [
    {
     "name": "stdout",
     "output_type": "stream",
     "text": [
      "400\n",
      "1600\n"
     ]
    }
   ],
   "source": [
    "class square:\n",
    "    def __init__(self,length,width):\n",
    "        self.length = length\n",
    "        self.width = width\n",
    "        \n",
    "square1 = square(20,20)\n",
    "square2 = square(40,40)\n",
    "\n",
    "print(square1.length * square1.width)\n",
    "print(square2.length * square2.width)\n"
   ]
  },
  {
   "cell_type": "code",
   "execution_count": 5,
   "metadata": {},
   "outputs": [
    {
     "name": "stdout",
     "output_type": "stream",
     "text": [
      "240.0\n"
     ]
    }
   ],
   "source": [
    "class trapezium:\n",
    "    def __init__(self,length1,length2,depth):\n",
    "        self.length1 = length1\n",
    "        self.length2 = length2\n",
    "        self.depth = depth\n",
    "        \n",
    "trapezium1 = trapezium(20,40,8)\n",
    "\n",
    "\n",
    "print(((trapezium1.length1+trapezium1.length2)/2) * trapezium1.depth)\n"
   ]
  },
  {
   "cell_type": "code",
   "execution_count": null,
   "metadata": {},
   "outputs": [],
   "source": []
  }
 ],
 "metadata": {
  "kernelspec": {
   "display_name": "Python 3",
   "language": "python",
   "name": "python3"
  },
  "language_info": {
   "codemirror_mode": {
    "name": "ipython",
    "version": 3
   },
   "file_extension": ".py",
   "mimetype": "text/x-python",
   "name": "python",
   "nbconvert_exporter": "python",
   "pygments_lexer": "ipython3",
   "version": "3.7.4"
  }
 },
 "nbformat": 4,
 "nbformat_minor": 2
}

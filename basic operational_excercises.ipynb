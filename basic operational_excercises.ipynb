{
 "cells": [
  {
   "cell_type": "markdown",
   "metadata": {},
   "source": [
    "# Excercise 1"
   ]
  },
  {
   "cell_type": "code",
   "execution_count": 4,
   "metadata": {},
   "outputs": [
    {
     "name": "stdout",
     "output_type": "stream",
     "text": [
      "800\n",
      "700\n",
      "1\n",
      "1.1428571428571428\n"
     ]
    }
   ],
   "source": [
    "'''Read two integers and print two lines,the first line should contain integer dvision,the second line contain float devision'''\n",
    "x = int(input())\n",
    "y = int(input())\n",
    "print(x//y)\n",
    "print(x/y)"
   ]
  },
  {
   "cell_type": "markdown",
   "metadata": {},
   "source": [
    "# Excercise 2"
   ]
  },
  {
   "cell_type": "code",
   "execution_count": 5,
   "metadata": {},
   "outputs": [
    {
     "data": {
      "text/plain": [
       "'Read 2 integers as input and print 3 lines\\n1st line contains sum of 2 numbers\\n2nd line contains the difference of 2 numbers\\n3rd line contains product of 2 number'"
      ]
     },
     "execution_count": 5,
     "metadata": {},
     "output_type": "execute_result"
    }
   ],
   "source": [
    "'''Read 2 integers as input and print 3 lines\n",
    "1st line contains sum of 2 numbers\n",
    "2nd line contains the difference of 2 numbers\n",
    "3rd line contains product of 2 number'''"
   ]
  },
  {
   "cell_type": "code",
   "execution_count": 9,
   "metadata": {},
   "outputs": [
    {
     "name": "stdout",
     "output_type": "stream",
     "text": [
      "900\n",
      "134\n",
      "1034\n",
      "766\n",
      "120600\n"
     ]
    }
   ],
   "source": [
    "x = int(input())\n",
    "y = int(input())\n",
    "print(x+y)\n",
    "print(x-y)\n",
    "print(x*y)"
   ]
  },
  {
   "cell_type": "markdown",
   "metadata": {},
   "source": [
    "## Excercise 3 (with constrains)\n"
   ]
  },
  {
   "cell_type": "code",
   "execution_count": 12,
   "metadata": {},
   "outputs": [
    {
     "name": "stdout",
     "output_type": "stream",
     "text": [
      "1000\n",
      "2000\n",
      "3000\n",
      "-1000\n",
      "2000000\n"
     ]
    }
   ],
   "source": [
    "# '''1<x<10^10 \n",
    "#    1<y<10^10'''\n",
    "a = int(input())\n",
    "b = int(input())\n",
    "if (a>=1 and a<=10**10 and b>=1 and b<=10**10):\n",
    "    print(a+b)\n",
    "    print(a-b)\n",
    "    print(a*b)\n"
   ]
  },
  {
   "cell_type": "markdown",
   "metadata": {},
   "source": [
    "## Excercise 4"
   ]
  },
  {
   "cell_type": "code",
   "execution_count": 1,
   "metadata": {},
   "outputs": [
    {
     "name": "stdout",
     "output_type": "stream",
     "text": [
      "10\n",
      "0\n",
      "1\n",
      "4\n",
      "9\n",
      "16\n",
      "25\n",
      "36\n",
      "49\n",
      "64\n",
      "81\n"
     ]
    }
   ],
   "source": [
    "# read an integer for an n for all non negative i<n integers,print I*I\n",
    "a = int(input())\n",
    "i = 0\n",
    "if (a <=100 and a>=1):\n",
    "    for i in range(0,a):\n",
    "        print(i**2)"
   ]
  },
  {
   "cell_type": "markdown",
   "metadata": {},
   "source": [
    "## Excercise 5"
   ]
  },
  {
   "cell_type": "code",
   "execution_count": 23,
   "metadata": {},
   "outputs": [
    {
     "name": "stdout",
     "output_type": "stream",
     "text": [
      "1990\n",
      "False\n"
     ]
    }
   ],
   "source": [
    "# finding out the leap year according to georgian calender\n",
    "# defining the function\n",
    "def is_leap(year):\n",
    "    leap = False\n",
    "    if(year>=1900 and year<=10**5):\n",
    "        if(year%400==0):\n",
    "            leap = True\n",
    "            if(year%100!=0 and year%4==0):\n",
    "                leap = True\n",
    "    return leap\n",
    "year = int(input())\n",
    "print(is_leap(year))"
   ]
  },
  {
   "cell_type": "markdown",
   "metadata": {},
   "source": [
    "## Excercise 6"
   ]
  },
  {
   "cell_type": "code",
   "execution_count": 27,
   "metadata": {},
   "outputs": [
    {
     "name": "stdout",
     "output_type": "stream",
     "text": [
      "5\n",
      "10000\n",
      "12000\n",
      "12300\n",
      "12340\n",
      "12345\n"
     ]
    }
   ],
   "source": [
    "# read the integer without using the string\n",
    "a = int(input())\n",
    "c = 0\n",
    "for i in range(1,a+1):\n",
    "    w = 10**(a-i)\n",
    "    c = c+w*i\n",
    "    print (c)"
   ]
  },
  {
   "cell_type": "markdown",
   "metadata": {},
   "source": [
    "## Excercise 7"
   ]
  },
  {
   "cell_type": "code",
   "execution_count": 30,
   "metadata": {},
   "outputs": [
    {
     "name": "stdout",
     "output_type": "stream",
     "text": [
      "20\n",
      "10\n",
      "45\n",
      "10\n",
      "10\n",
      "20\n",
      "14\n",
      "0\n",
      "12 5\n"
     ]
    }
   ],
   "source": [
    "# time problem\n",
    "# different timing are givent to performed tasks,excpected answer should be 12h 5 min\n",
    "x = int(input()) \n",
    "y = int(input())\n",
    "z = int(input())\n",
    "a = int(input())\n",
    "b = int(input())\n",
    "c = int(input())\n",
    "h = int(input())\n",
    "m = int(input())\n",
    "w = x+y+z+a+b+c\n",
    "t = m-w\n",
    "if(t>=0):\n",
    "    print(h,t)\n",
    "else:\n",
    "        y=-t\n",
    "        hh = y//60+1\n",
    "        mm=60-(y%60)\n",
    "        print(h-hh,mm)"
   ]
  },
  {
   "cell_type": "markdown",
   "metadata": {},
   "source": [
    "## Excercise 8"
   ]
  },
  {
   "cell_type": "code",
   "execution_count": 31,
   "metadata": {},
   "outputs": [
    {
     "name": "stdout",
     "output_type": "stream",
     "text": [
      "3\n",
      "22\n",
      "22\n",
      "22\n",
      "21\n",
      "21\n",
      "21\n",
      "20\n",
      "20\n",
      "20\n",
      "[66, 63, 60]\n"
     ]
    }
   ],
   "source": [
    "# making sorted list in descending order of different factors of institutes\n",
    "a = int(input())\n",
    "q=[]\n",
    "for i in range(0,a):\n",
    "    t = int(input())\n",
    "    m = int(input())\n",
    "    g = int(input())\n",
    "    w = t+m+g\n",
    "    q.append(w)\n",
    "    q.sort(reverse = True)\n",
    "print(q)\n",
    "\n"
   ]
  },
  {
   "cell_type": "markdown",
   "metadata": {},
   "source": [
    "## Excercise 9"
   ]
  },
  {
   "cell_type": "code",
   "execution_count": 36,
   "metadata": {},
   "outputs": [
    {
     "name": "stdout",
     "output_type": "stream",
     "text": [
      "Enter the number10\n",
      "{0: 0, 1: 1, 2: 4, 3: 9, 4: 16, 5: 25, 6: 36, 7: 49, 8: 64, 9: 81, 10: 100}\n"
     ]
    }
   ],
   "source": [
    "# creating dictionary\n",
    "n = int(input(\"Enter the number\"))\n",
    "d = {x:x*x for x in range(0,n+1)}\n",
    "print(d)"
   ]
  },
  {
   "cell_type": "markdown",
   "metadata": {},
   "source": [
    "## Excercise 10"
   ]
  },
  {
   "cell_type": "code",
   "execution_count": 1,
   "metadata": {},
   "outputs": [
    {
     "name": "stdout",
     "output_type": "stream",
     "text": [
      "{0: 10, 1: 20, 2: 30}\n"
     ]
    }
   ],
   "source": [
    "# write a python script sample{0:10}\n",
    "d = {0:10,1:20}\n",
    "d1 = {2:30}\n",
    "d.update(d1)\n",
    "print(d)"
   ]
  },
  {
   "cell_type": "markdown",
   "metadata": {},
   "source": [
    "## Excercise 11"
   ]
  },
  {
   "cell_type": "code",
   "execution_count": 5,
   "metadata": {},
   "outputs": [
    {
     "name": "stdout",
     "output_type": "stream",
     "text": [
      "dict_keys(['name', 'place', 'School'])\n",
      "place\n",
      "Given key already exist in dictionary\n"
     ]
    }
   ],
   "source": [
    "# write a program to see if given key exist in dictionary\n",
    "dict1 = {'name':'SANYAM', 'place':'Germany','School':'Universal publc school'}\n",
    "print (dict1.keys())\n",
    "k = input()\n",
    "if (k in dict1.keys()):\n",
    "    print(\"Given key already exist in dictionary\")\n",
    "else:\n",
    "    print(\"given key doesnot exist in dictionary\")"
   ]
  },
  {
   "cell_type": "markdown",
   "metadata": {},
   "source": [
    "## Excercise 12"
   ]
  },
  {
   "cell_type": "code",
   "execution_count": 6,
   "metadata": {},
   "outputs": [
    {
     "name": "stdout",
     "output_type": "stream",
     "text": [
      "{'name': 'SANYAM', 'place': 'BONN', 'natinality': 'GERMANY'}\n"
     ]
    }
   ],
   "source": [
    "# write a program to merge two dictionaries\n",
    "d1 = {'name':'SANYAM','place':'BONN'}\n",
    "d2 = {'natinality':'GERMANY'}\n",
    "d1.update(d2)\n",
    "print(d1)"
   ]
  },
  {
   "cell_type": "markdown",
   "metadata": {},
   "source": [
    "## Excercise 13"
   ]
  },
  {
   "cell_type": "code",
   "execution_count": 2,
   "metadata": {},
   "outputs": [
    {
     "name": "stdout",
     "output_type": "stream",
     "text": [
      "{1: 1, 2: 4, 3: 9, 4: 16, 5: 25, 6: 36, 7: 49, 8: 64, 9: 81, 10: 100, 11: 121, 12: 144, 13: 169, 14: 196, 15: 225, 16: 256, 17: 289, 18: 324, 19: 361, 20: 400, 21: 441, 22: 484, 23: 529, 24: 576, 25: 625, 26: 676, 27: 729, 28: 784, 29: 841, 30: 900}\n"
     ]
    }
   ],
   "source": [
    "# write a python script where the keys are 1 to 30 both included and values are square of keys\n",
    "d = {x:x**2 for x in range(1,31)}\n",
    "print(d)"
   ]
  },
  {
   "cell_type": "markdown",
   "metadata": {},
   "source": [
    "## Excercise 14"
   ]
  },
  {
   "cell_type": "code",
   "execution_count": 24,
   "metadata": {},
   "outputs": [
    {
     "name": "stdout",
     "output_type": "stream",
     "text": [
      "Enter the word:google\n"
     ]
    },
    {
     "ename": "TypeError",
     "evalue": "'int' object is not subscriptable",
     "output_type": "error",
     "traceback": [
      "\u001b[1;31m---------------------------------------------------------------------------\u001b[0m",
      "\u001b[1;31mTypeError\u001b[0m                                 Traceback (most recent call last)",
      "\u001b[1;32m<ipython-input-24-98cd2275c880>\u001b[0m in \u001b[0;36m<module>\u001b[1;34m\u001b[0m\n\u001b[0;32m      7\u001b[0m     \u001b[0mc\u001b[0m\u001b[1;33m=\u001b[0m\u001b[1;36m0\u001b[0m\u001b[1;33m\u001b[0m\u001b[1;33m\u001b[0m\u001b[0m\n\u001b[0;32m      8\u001b[0m     \u001b[1;32mfor\u001b[0m \u001b[0mj\u001b[0m \u001b[1;32min\u001b[0m \u001b[0mrange\u001b[0m \u001b[1;33m(\u001b[0m\u001b[0mlen\u001b[0m\u001b[1;33m(\u001b[0m\u001b[0ma\u001b[0m\u001b[1;33m)\u001b[0m\u001b[1;33m)\u001b[0m\u001b[1;33m:\u001b[0m\u001b[1;33m\u001b[0m\u001b[1;33m\u001b[0m\u001b[0m\n\u001b[1;32m----> 9\u001b[1;33m         \u001b[1;32mif\u001b[0m \u001b[1;36m1\u001b[0m\u001b[1;33m[\u001b[0m\u001b[0mi\u001b[0m\u001b[1;33m]\u001b[0m\u001b[1;33m==\u001b[0m\u001b[1;36m1\u001b[0m\u001b[1;33m[\u001b[0m\u001b[0mj\u001b[0m\u001b[1;33m]\u001b[0m\u001b[1;33m:\u001b[0m\u001b[1;33m\u001b[0m\u001b[1;33m\u001b[0m\u001b[0m\n\u001b[0m\u001b[0;32m     10\u001b[0m             \u001b[0mc\u001b[0m\u001b[1;33m=\u001b[0m\u001b[0mc\u001b[0m\u001b[1;33m+\u001b[0m\u001b[1;36m1\u001b[0m\u001b[1;33m\u001b[0m\u001b[1;33m\u001b[0m\u001b[0m\n\u001b[0;32m     11\u001b[0m     \u001b[0md\u001b[0m\u001b[1;33m[\u001b[0m\u001b[1;36m1\u001b[0m\u001b[1;33m[\u001b[0m\u001b[0mi\u001b[0m\u001b[1;33m]\u001b[0m\u001b[1;33m]\u001b[0m\u001b[1;33m=\u001b[0m\u001b[0mc\u001b[0m\u001b[1;33m\u001b[0m\u001b[1;33m\u001b[0m\u001b[0m\n",
      "\u001b[1;31mTypeError\u001b[0m: 'int' object is not subscriptable"
     ]
    }
   ],
   "source": [
    "# find the given number of alphabet in given word\n",
    "# lets say GOOGLE\n",
    "a = input('Enter the word:')\n",
    "l = list(a)\n",
    "d=[]\n",
    "for i in range(len(a)):\n",
    "    c=0\n",
    "    for j in range (len(a)):\n",
    "        if 1[i]==1[j]:\n",
    "            c=c+1\n",
    "    d[1[i]]=c\n",
    "print(d)\n"
   ]
  },
  {
   "cell_type": "markdown",
   "metadata": {},
   "source": [
    "## Excercise 15"
   ]
  },
  {
   "cell_type": "code",
   "execution_count": 1,
   "metadata": {},
   "outputs": [
    {
     "name": "stdout",
     "output_type": "stream",
     "text": [
      "{'chair', 'playstation', 'cans', 'digital blurays', 'toy', 'ice cubes', 'school bag', 'chocolate'}\n"
     ]
    }
   ],
   "source": [
    "# finding out comom items in 2 list\n",
    "ls = {'toy','playstation','digital blurays','cans','ice cubes','chair'}\n",
    "ld = {'toy','chocolate','school bag','digital blurays','chair' }\n",
    "lc=ls&ld\n",
    "lsd = ls-lc\n",
    "ldd=ld-lc\n",
    "print(lc|lsd|ldd)"
   ]
  },
  {
   "cell_type": "markdown",
   "metadata": {},
   "source": [
    "## Excercise 16"
   ]
  },
  {
   "cell_type": "code",
   "execution_count": 3,
   "metadata": {},
   "outputs": [
    {
     "name": "stdout",
     "output_type": "stream",
     "text": [
      "enter the name of student whose average you want to know: josh\n",
      "josh average marks are : 39.0\n"
     ]
    }
   ],
   "source": [
    "# write a program to calculate average marks\n",
    "d = {'ajay':[90,95],'jon':[88,90],'josh':[45,33],'henry':[78,56]}\n",
    "a = input('enter the name of student whose average you want to know: ')\n",
    "\n",
    "m = d.get(a)\n",
    "c=0\n",
    "for i in m:\n",
    "    c=c+i\n",
    "print(a,'average marks are :',(c/2))"
   ]
  },
  {
   "cell_type": "markdown",
   "metadata": {},
   "source": [
    "## Excercise 17"
   ]
  },
  {
   "cell_type": "code",
   "execution_count": 3,
   "metadata": {},
   "outputs": [
    {
     "name": "stdout",
     "output_type": "stream",
     "text": [
      "6\n"
     ]
    }
   ],
   "source": [
    "# identifying common items in list\n",
    "d = {'clogne','beer','jam','fruits','vegetables','flour','detergents'}\n",
    "d1 = {'clogne','beer','jam','fruits','vegetables','flour'}\n",
    "d2 = {'lock','clothes','soaps','chair','candy','vegetables'}\n",
    "t1 = d1&d\n",
    "t2 = d1&d2\n",
    "t3 = d2&d1\n",
    "y = [len(t1),len(t2),len(t3)]\n",
    "print(max(y))"
   ]
  },
  {
   "cell_type": "markdown",
   "metadata": {},
   "source": [
    "## Excercise 18 "
   ]
  },
  {
   "cell_type": "code",
   "execution_count": 9,
   "metadata": {},
   "outputs": [
    {
     "name": "stdout",
     "output_type": "stream",
     "text": [
      "entern the team name:team1\n",
      "['david luiz', 'harry cane', 'hulk', 'pepe', 'shaqiri', 'mohammad salah', 'ozil']\n"
     ]
    }
   ],
   "source": [
    "# write the program for containing some football player names with resoective country name\n",
    "d= {'team1':['david luiz','harry cane','hulk','pepe','shaqiri','mohammad salah','ozil'],'team2':['robben','persie','ribery','vidal','neur']}\n",
    "k = input('entern the team name:')\n",
    "print(d.get(k))"
   ]
  },
  {
   "cell_type": "markdown",
   "metadata": {},
   "source": [
    "## Excercise 19"
   ]
  },
  {
   "cell_type": "code",
   "execution_count": 11,
   "metadata": {},
   "outputs": [
    {
     "name": "stdout",
     "output_type": "stream",
     "text": [
      "enter the name of person: john\n",
      "9989813933\n",
      "1334532535\n",
      "7865430755\n",
      "8906542790\n"
     ]
    }
   ],
   "source": [
    "# make a program to maintain telephone directory of different name\n",
    "a = input('enter the name of person: ')\n",
    "d = {'john clinton':'9989813933','john terry':'1334532535','john robbins':'7865430755','john percie':'8906542790'}\n",
    "m = d.keys()\n",
    "for x in m:\n",
    "    w=x.split()\n",
    "    for y in w:\n",
    "        if (y ==a):\n",
    "            print(d.get(x))"
   ]
  },
  {
   "cell_type": "markdown",
   "metadata": {},
   "source": [
    "## Excercise 20"
   ]
  },
  {
   "cell_type": "code",
   "execution_count": 14,
   "metadata": {},
   "outputs": [
    {
     "name": "stdout",
     "output_type": "stream",
     "text": [
      "IRELAND\n"
     ]
    }
   ],
   "source": [
    "# write a program to convert tuple to string\n",
    "a = ('I','R','E','L','A','N','D')\n",
    "c = ''\n",
    "for i in a:\n",
    "    c=c+i\n",
    "print(c)"
   ]
  },
  {
   "cell_type": "code",
   "execution_count": null,
   "metadata": {},
   "outputs": [],
   "source": []
  }
 ],
 "metadata": {
  "kernelspec": {
   "display_name": "Python 3",
   "language": "python",
   "name": "python3"
  },
  "language_info": {
   "codemirror_mode": {
    "name": "ipython",
    "version": 3
   },
   "file_extension": ".py",
   "mimetype": "text/x-python",
   "name": "python",
   "nbconvert_exporter": "python",
   "pygments_lexer": "ipython3",
   "version": "3.7.1"
  }
 },
 "nbformat": 4,
 "nbformat_minor": 2
}

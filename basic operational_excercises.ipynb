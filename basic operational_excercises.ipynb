{
 "cells": [
  {
   "cell_type": "markdown",
   "metadata": {},
   "source": [
    "# Excercise 1"
   ]
  },
  {
   "cell_type": "code",
   "execution_count": 4,
   "metadata": {},
   "outputs": [
    {
     "name": "stdout",
     "output_type": "stream",
     "text": [
      "800\n",
      "700\n",
      "1\n",
      "1.1428571428571428\n"
     ]
    }
   ],
   "source": [
    "'''Read two integers and print two lines,the first line should contain integer dvision,the second line contain float devision'''\n",
    "x = int(input())\n",
    "y = int(input())\n",
    "print(x//y)\n",
    "print(x/y)"
   ]
  },
  {
   "cell_type": "markdown",
   "metadata": {},
   "source": [
    "# Excercise 2"
   ]
  },
  {
   "cell_type": "code",
   "execution_count": 5,
   "metadata": {},
   "outputs": [
    {
     "data": {
      "text/plain": [
       "'Read 2 integers as input and print 3 lines\\n1st line contains sum of 2 numbers\\n2nd line contains the difference of 2 numbers\\n3rd line contains product of 2 number'"
      ]
     },
     "execution_count": 5,
     "metadata": {},
     "output_type": "execute_result"
    }
   ],
   "source": [
    "'''Read 2 integers as input and print 3 lines\n",
    "1st line contains sum of 2 numbers\n",
    "2nd line contains the difference of 2 numbers\n",
    "3rd line contains product of 2 number'''"
   ]
  },
  {
   "cell_type": "code",
   "execution_count": 9,
   "metadata": {},
   "outputs": [
    {
     "name": "stdout",
     "output_type": "stream",
     "text": [
      "900\n",
      "134\n",
      "1034\n",
      "766\n",
      "120600\n"
     ]
    }
   ],
   "source": [
    "x = int(input())\n",
    "y = int(input())\n",
    "print(x+y)\n",
    "print(x-y)\n",
    "print(x*y)"
   ]
  },
  {
   "cell_type": "markdown",
   "metadata": {},
   "source": [
    "## Excercise 3 (with constrains)\n"
   ]
  },
  {
   "cell_type": "code",
   "execution_count": 12,
   "metadata": {},
   "outputs": [
    {
     "name": "stdout",
     "output_type": "stream",
     "text": [
      "1000\n",
      "2000\n",
      "3000\n",
      "-1000\n",
      "2000000\n"
     ]
    }
   ],
   "source": [
    "# '''1<x<10^10 \n",
    "#    1<y<10^10'''\n",
    "a = int(input())\n",
    "b = int(input())\n",
    "if (a>=1 and a<=10**10 and b>=1 and b<=10**10):\n",
    "    print(a+b)\n",
    "    print(a-b)\n",
    "    print(a*b)\n"
   ]
  },
  {
   "cell_type": "markdown",
   "metadata": {},
   "source": [
    "## Excercise 4"
   ]
  },
  {
   "cell_type": "code",
   "execution_count": 1,
   "metadata": {},
   "outputs": [
    {
     "name": "stdout",
     "output_type": "stream",
     "text": [
      "10\n",
      "0\n",
      "1\n",
      "4\n",
      "9\n",
      "16\n",
      "25\n",
      "36\n",
      "49\n",
      "64\n",
      "81\n"
     ]
    }
   ],
   "source": [
    "# read an integer for an n for all non negative i<n integers,print I*I\n",
    "a = int(input())\n",
    "i = 0\n",
    "if (a <=100 and a>=1):\n",
    "    for i in range(0,a):\n",
    "        print(i**2)"
   ]
  },
  {
   "cell_type": "markdown",
   "metadata": {},
   "source": [
    "## Excercise 5"
   ]
  },
  {
   "cell_type": "code",
   "execution_count": 23,
   "metadata": {},
   "outputs": [
    {
     "name": "stdout",
     "output_type": "stream",
     "text": [
      "1990\n",
      "False\n"
     ]
    }
   ],
   "source": [
    "# finding out the leap year according to georgian calender\n",
    "# defining the function\n",
    "def is_leap(year):\n",
    "    leap = False\n",
    "    if(year>=1900 and year<=10**5):\n",
    "        if(year%400==0):\n",
    "            leap = True\n",
    "            if(year%100!=0 and year%4==0):\n",
    "                leap = True\n",
    "    return leap\n",
    "year = int(input())\n",
    "print(is_leap(year))"
   ]
  },
  {
   "cell_type": "markdown",
   "metadata": {},
   "source": [
    "## Excercise 6"
   ]
  },
  {
   "cell_type": "code",
   "execution_count": 27,
   "metadata": {},
   "outputs": [
    {
     "name": "stdout",
     "output_type": "stream",
     "text": [
      "5\n",
      "10000\n",
      "12000\n",
      "12300\n",
      "12340\n",
      "12345\n"
     ]
    }
   ],
   "source": [
    "# read the integer without using the string\n",
    "a = int(input())\n",
    "c = 0\n",
    "for i in range(1,a+1):\n",
    "    w = 10**(a-i)\n",
    "    c = c+w*i\n",
    "    print (c)"
   ]
  },
  {
   "cell_type": "markdown",
   "metadata": {},
   "source": [
    "## Excercise 7"
   ]
  },
  {
   "cell_type": "code",
   "execution_count": 30,
   "metadata": {},
   "outputs": [
    {
     "name": "stdout",
     "output_type": "stream",
     "text": [
      "20\n",
      "10\n",
      "45\n",
      "10\n",
      "10\n",
      "20\n",
      "14\n",
      "0\n",
      "12 5\n"
     ]
    }
   ],
   "source": [
    "# time problem\n",
    "# different timing are givent to performed tasks,excpected answer should be 12h 5 min\n",
    "x = int(input()) \n",
    "y = int(input())\n",
    "z = int(input())\n",
    "a = int(input())\n",
    "b = int(input())\n",
    "c = int(input())\n",
    "h = int(input())\n",
    "m = int(input())\n",
    "w = x+y+z+a+b+c\n",
    "t = m-w\n",
    "if(t>=0):\n",
    "    print(h,t)\n",
    "else:\n",
    "        y=-t\n",
    "        hh = y//60+1\n",
    "        mm=60-(y%60)\n",
    "        print(h-hh,mm)"
   ]
  },
  {
   "cell_type": "markdown",
   "metadata": {},
   "source": [
    "## Excercise 8"
   ]
  },
  {
   "cell_type": "code",
   "execution_count": 31,
   "metadata": {},
   "outputs": [
    {
     "name": "stdout",
     "output_type": "stream",
     "text": [
      "3\n",
      "22\n",
      "22\n",
      "22\n",
      "21\n",
      "21\n",
      "21\n",
      "20\n",
      "20\n",
      "20\n",
      "[66, 63, 60]\n"
     ]
    }
   ],
   "source": [
    "# making sorted list in descending order of different factors of institutes\n",
    "a = int(input())\n",
    "q=[]\n",
    "for i in range(0,a):\n",
    "    t = int(input())\n",
    "    m = int(input())\n",
    "    g = int(input())\n",
    "    w = t+m+g\n",
    "    q.append(w)\n",
    "    q.sort(reverse = True)\n",
    "print(q)\n",
    "\n"
   ]
  },
  {
   "cell_type": "markdown",
   "metadata": {},
   "source": [
    "## Excercise 9"
   ]
  },
  {
   "cell_type": "code",
   "execution_count": 36,
   "metadata": {},
   "outputs": [
    {
     "name": "stdout",
     "output_type": "stream",
     "text": [
      "Enter the number10\n",
      "{0: 0, 1: 1, 2: 4, 3: 9, 4: 16, 5: 25, 6: 36, 7: 49, 8: 64, 9: 81, 10: 100}\n"
     ]
    }
   ],
   "source": [
    "# creating dictionary\n",
    "n = int(input(\"Enter the number\"))\n",
    "d = {x:x*x for x in range(0,n+1)}\n",
    "print(d)"
   ]
  },
  {
   "cell_type": "markdown",
   "metadata": {},
   "source": [
    "## Excercise 10"
   ]
  },
  {
   "cell_type": "code",
   "execution_count": 37,
   "metadata": {},
   "outputs": [
    {
     "name": "stdout",
     "output_type": "stream",
     "text": [
      "{0: 10, 1: 20, 2: 30}\n"
     ]
    }
   ],
   "source": [
    "# write a python script sample{0:10}\n",
    "d = {0:10,1:20}\n",
    "d1 = {2:30}\n",
    "d.update(d1)\n",
    "print(d)"
   ]
  },
  {
   "cell_type": "code",
   "execution_count": null,
   "metadata": {},
   "outputs": [],
   "source": []
  }
 ],
 "metadata": {
  "kernelspec": {
   "display_name": "Python 3",
   "language": "python",
   "name": "python3"
  },
  "language_info": {
   "codemirror_mode": {
    "name": "ipython",
    "version": 3
   },
   "file_extension": ".py",
   "mimetype": "text/x-python",
   "name": "python",
   "nbconvert_exporter": "python",
   "pygments_lexer": "ipython3",
   "version": "3.7.1"
  }
 },
 "nbformat": 4,
 "nbformat_minor": 2
}
